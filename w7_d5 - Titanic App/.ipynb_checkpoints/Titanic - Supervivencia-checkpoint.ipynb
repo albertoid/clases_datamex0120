{
 "cells": [
  {
   "cell_type": "markdown",
   "metadata": {},
   "source": [
    "# Titanic App\n",
    "\n",
    "¿Sobreviviria tu pasajero?"
   ]
  },
  {
   "cell_type": "markdown",
   "metadata": {},
   "source": [
    "**librerias**"
   ]
  },
  {
   "cell_type": "code",
   "execution_count": null,
   "metadata": {},
   "outputs": [],
   "source": [
    "import warnings\n",
    "warnings.simplefilter('ignore')"
   ]
  },
  {
   "cell_type": "code",
   "execution_count": null,
   "metadata": {},
   "outputs": [],
   "source": [
    "import matplotlib.pyplot as plt\n",
    "\n",
    "import pandas as pd\n",
    "import numpy as np\n",
    "\n",
    "from sklearn.linear_model import LogisticRegression as LogReg\n",
    "from sklearn.model_selection import train_test_split as tts"
   ]
  },
  {
   "cell_type": "markdown",
   "metadata": {},
   "source": [
    "**datos**\n",
    "\n",
    "Incluyen caracteristicas como edad, numero de ticket, cabina, etc..\n",
    "\n",
    "El objetivo es clasificar-predecir la supervivencia."
   ]
  },
  {
   "cell_type": "code",
   "execution_count": null,
   "metadata": {},
   "outputs": [],
   "source": [
    "df=pd.read_csv('http://biostat.mc.vanderbilt.edu/wiki/pub/Main/DataSets/titanic3.csv')\n",
    "\n",
    "df.head()"
   ]
  },
  {
   "cell_type": "markdown",
   "metadata": {},
   "source": [
    "**exploracion**"
   ]
  },
  {
   "cell_type": "code",
   "execution_count": null,
   "metadata": {},
   "outputs": [],
   "source": [
    "df.shape"
   ]
  },
  {
   "cell_type": "code",
   "execution_count": null,
   "metadata": {},
   "outputs": [],
   "source": [
    "df.columns"
   ]
  },
  {
   "cell_type": "code",
   "execution_count": null,
   "metadata": {},
   "outputs": [],
   "source": [
    "df.info(memory_usage='deep')"
   ]
  },
  {
   "cell_type": "code",
   "execution_count": null,
   "metadata": {},
   "outputs": [],
   "source": [
    "df.isna().sum()"
   ]
  },
  {
   "cell_type": "code",
   "execution_count": null,
   "metadata": {},
   "outputs": [],
   "source": [
    "df.describe()"
   ]
  },
  {
   "cell_type": "markdown",
   "metadata": {},
   "source": [
    "**preparando datos**"
   ]
  },
  {
   "cell_type": "code",
   "execution_count": null,
   "metadata": {},
   "outputs": [],
   "source": [
    "# tratando los NaN\n",
    "\n",
    "# letra de la cabina\n",
    "df.cabin=df.cabin.replace(np.NaN, 'U') \n",
    "df.cabin=[e[0] for e in df.cabin.values]\n",
    "df.cabin=df.cabin.replace('U', 'Unknown')"
   ]
  },
  {
   "cell_type": "code",
   "execution_count": null,
   "metadata": {},
   "outputs": [],
   "source": [
    "# titulo (Señor-Señora)\n",
    "df['title']=[e.split()[1] for e in df.name.values]\n",
    "\n",
    "\n",
    "df.title=[t if t in ['Mr.', 'Miss.', \n",
    "                     'Mrs.', 'Master.', \n",
    "                     'Dr.', 'Rev.'] else 'Unknown'\n",
    "          for t in df.title.values ]\n"
   ]
  },
  {
   "cell_type": "code",
   "execution_count": null,
   "metadata": {},
   "outputs": [],
   "source": [
    "df.title.value_counts()"
   ]
  },
  {
   "cell_type": "code",
   "execution_count": null,
   "metadata": {},
   "outputs": [],
   "source": [
    "# se crea el campo de si es mujer\n",
    "df['isfemale']=np.where(df.sex=='female', 1, 0)\n",
    "\n",
    "# se eliminan columnas innecesarias\n",
    "df=df.drop(columns=['sex', 'name', 'boat', 'body', 'ticket', 'home.dest'])\n",
    "\n",
    "# pclass a categorico string\n",
    "df.pclass=np.where(df.pclass== 1,'First', \n",
    "                   np.where(df.pclass==2, \n",
    "                            'Second', 'Third'))\n",
    "\n",
    "# nulos por desconocido en embarque\n",
    "df.embarked=df.embarked.replace(np.NaN, 'Unknown') "
   ]
  },
  {
   "cell_type": "code",
   "execution_count": null,
   "metadata": {},
   "outputs": [],
   "source": [
    "df.head()"
   ]
  },
  {
   "cell_type": "code",
   "execution_count": null,
   "metadata": {},
   "outputs": [],
   "source": [
    "# one-hot encoding de las variables categoricas\n",
    "\n",
    "def one_hot(df, columns, drop_first=True): \n",
    "    dummy=pd.get_dummies(df, \n",
    "                         columns=columns, \n",
    "                         drop_first=drop_first)\n",
    "    return dummy"
   ]
  },
  {
   "cell_type": "code",
   "execution_count": null,
   "metadata": {},
   "outputs": [],
   "source": [
    "df_dummy=one_hot(df, columns=['pclass', 'cabin', 'embarked', 'title'])\n",
    "df_dummy=df_dummy.dropna()\n",
    "df_dummy.head()"
   ]
  },
  {
   "cell_type": "markdown",
   "metadata": {},
   "source": [
    "## Modelo"
   ]
  },
  {
   "cell_type": "code",
   "execution_count": null,
   "metadata": {},
   "outputs": [],
   "source": [
    "# train-test split\n",
    "\n",
    "X=df_dummy.drop('survived', axis=1)\n",
    "y=df_dummy.survived\n",
    "\n",
    "\n",
    "X_train, X_test, y_train, y_test=tts(X, y, test_size=.2, random_state=42)"
   ]
  },
  {
   "cell_type": "code",
   "execution_count": null,
   "metadata": {},
   "outputs": [],
   "source": [
    "logreg=LogReg()\n",
    "\n",
    "logreg.fit(X_train, y_train.values);"
   ]
  },
  {
   "cell_type": "code",
   "execution_count": null,
   "metadata": {},
   "outputs": [],
   "source": [
    "y_pred=logreg.predict(X_test)\n",
    "\n",
    "\n",
    "print('Accuracy : {:.2f}%'.format(logreg.score(X_test, y_test)*100))"
   ]
  },
  {
   "cell_type": "code",
   "execution_count": null,
   "metadata": {},
   "outputs": [],
   "source": [
    "# interpretacion de los coeficientes de logreg\n",
    "print ('Coeficientes:')\n",
    "\n",
    "logreg.coef_"
   ]
  },
  {
   "cell_type": "code",
   "execution_count": null,
   "metadata": {},
   "outputs": [],
   "source": [
    "coefs=pd.DataFrame({'Carac':X.columns, 'Coef':logreg.coef_[0]})\n",
    "print('Caracteristicas positivas:')\n",
    "coefs.sort_values('Coef', ascending=False).head(7)"
   ]
  },
  {
   "cell_type": "code",
   "execution_count": null,
   "metadata": {},
   "outputs": [],
   "source": [
    "print('Caracteristicas negativas:')\n",
    "coefs.sort_values('Coef', ascending=False).tail(7)"
   ]
  },
  {
   "cell_type": "markdown",
   "metadata": {},
   "source": [
    "## Prediccion a 'mano'"
   ]
  },
  {
   "cell_type": "code",
   "execution_count": null,
   "metadata": {},
   "outputs": [],
   "source": [
    "# se crea un pasajero ficticio\n",
    "\n",
    "\n",
    "pasajero={\n",
    "    'pclass':'Third', # First, Second, Third (Clase)\n",
    "    'isfemale':1,     # 0-1  (Genero)\n",
    "    'age':20,         # 0-100 (Edad)\n",
    "    'sibsp':3,        # (0-8) (Hermanos, esposos)\n",
    "    'parch':0,        # (0-9)  (Padres, hijos)\n",
    "    'fare':200,       # (0-500) (Tarifa)\n",
    "    'cabin':'A',      # 'A', 'C', 'B', 'E', 'D', 'G', 'F', 'T', 'Z'  (Cabina)\n",
    "    'embarked':'Q',   # 'Q', 'S', 'C' # Queenstown Southampton Cherbourg (Puerto)\n",
    "    'title':'Mrs.',   # 'Mr.', 'Miss.', 'Mrs.', 'Master.', 'Dr.', 'Rev.', Unknown (Titulo)\n",
    "    'survived':0      # para concatenar dfs\n",
    "}\n",
    " "
   ]
  },
  {
   "cell_type": "code",
   "execution_count": null,
   "metadata": {},
   "outputs": [],
   "source": [
    "pas_df=pd.DataFrame.from_dict(pasajero, orient='index').T\n",
    "pas_df"
   ]
  },
  {
   "cell_type": "code",
   "execution_count": null,
   "metadata": {},
   "outputs": [],
   "source": [
    "df.head()"
   ]
  },
  {
   "cell_type": "code",
   "execution_count": null,
   "metadata": {},
   "outputs": [],
   "source": [
    "pred_df=pd.concat([pas_df, df], ignore_index=True)\n",
    "pred_df.head()"
   ]
  },
  {
   "cell_type": "code",
   "execution_count": null,
   "metadata": {},
   "outputs": [],
   "source": [
    "pred_df=one_hot(pred_df,\n",
    "               columns=['pclass', 'cabin', 'embarked', 'title'])\n",
    "pred_df.head()"
   ]
  },
  {
   "cell_type": "code",
   "execution_count": null,
   "metadata": {},
   "outputs": [],
   "source": [
    "# prediccion\n",
    "\n",
    "x=pred_df[X.columns].head(1) # datos del pasajero\n",
    "\n",
    "y_pred=logreg.predict(x)\n",
    "\n",
    "y_prob=logreg.predict_proba(x)\n",
    "\n",
    "print ('Etiqueta:', y_pred) \n",
    "print ()\n",
    "print ('Probabilidad [0 , 1]:', y_prob[0])\n",
    "print ()\n",
    "print ('Prob supervivencia:', y_prob[0][1])"
   ]
  },
  {
   "cell_type": "markdown",
   "metadata": {},
   "source": [
    "## Plot"
   ]
  },
  {
   "cell_type": "code",
   "execution_count": null,
   "metadata": {},
   "outputs": [],
   "source": [
    "tasa_media_super=np.mean(df.survived)*100\n",
    "print ('Tasa media supervivencia: {:.2f}%'.format(tasa_media_super))"
   ]
  },
  {
   "cell_type": "code",
   "execution_count": null,
   "metadata": {},
   "outputs": [],
   "source": [
    "with plt.xkcd():\n",
    "    plt.figure(figsize=(10,8))\n",
    "\n",
    "    plt.bar(range(2),\n",
    "            [tasa_media_super, y_prob[0][1]*100],\n",
    "            align='center', \n",
    "            color=['y', 'b'], \n",
    "            alpha=0.5)\n",
    "\n",
    "    plt.xticks(range(2), ['Tasa Supervivencia media', 'Pasajero'])\n",
    "\n",
    "    plt.axhline(tasa_media_super, color='r')\n",
    "    plt.ylim([0,100])\n",
    "    plt.ylabel('Probabilidad Supervivencia')\n",
    "    plt.title('¿Sobrevivirá tu pasajero? \\n '+'¡{:.2f}% de probabilidad!'.format(y_prob[0][1]*100))\n",
    "\n",
    "    plt.show();"
   ]
  },
  {
   "cell_type": "markdown",
   "metadata": {},
   "source": [
    "# Preparando Data para Produccion\n"
   ]
  },
  {
   "cell_type": "code",
   "execution_count": null,
   "metadata": {},
   "outputs": [],
   "source": [
    "def data():\n",
    "    \n",
    "    df=pd.read_csv('http://biostat.mc.vanderbilt.edu/wiki/pub/Main/DataSets/titanic3.csv')\n",
    "    \n",
    "    df.cabin=df.cabin.replace(np.NaN, 'U') \n",
    "    df.cabin=[e[0] for e in df.cabin.values]\n",
    "    df.cabin=df.cabin.replace('U', 'Unknown')\n",
    "    \n",
    "    df['title']=[e.split()[1] for e in df.name.values]\n",
    "    df.title=[t if t in ['Mr.', 'Miss.', \n",
    "                         'Mrs.', 'Master.', \n",
    "                         'Dr.', 'Rev.'] else 'Unknown'\n",
    "              for t in df.title.values ]\n",
    "    \n",
    "    df['isfemale']=np.where(df.sex=='female', 1, 0)\n",
    "    \n",
    "    df=df.drop(columns=['sex', 'name', 'boat', 'body', 'ticket', 'home.dest'])\n",
    "\n",
    "\n",
    "    df.pclass=np.where(df.pclass== 1,'First', \n",
    "                       np.where(df.pclass==2, \n",
    "                                'Second', 'Third'))\n",
    "\n",
    "    df.embarked=df.embarked.replace(np.NaN, 'Unknown')\n",
    "    \n",
    "    df_dummy=pd.get_dummies(df, \n",
    "                            columns=['pclass', 'cabin', \n",
    "                                     'embarked', 'title'], \n",
    "                            drop_first=True)\n",
    "    \n",
    "    df_dummy=df_dummy.dropna()\n",
    "    \n",
    "    df_dummy.to_csv('data/titanic.csv', header=False, index=False)\n",
    "\n",
    "    \n",
    "    \n",
    "    \n",
    "data()  # se guarda el df sin nombres de columnas ni indice"
   ]
  },
  {
   "cell_type": "markdown",
   "metadata": {
    "collapsed": true
   },
   "source": [
    "# Web-App (main.py)"
   ]
  },
  {
   "cell_type": "code",
   "execution_count": null,
   "metadata": {},
   "outputs": [],
   "source": [
    "from flask import Flask\n",
    "from flask import render_template\n",
    "from flask import request\n",
    "from flask import Markup\n",
    "\n",
    "import matplotlib\n",
    "matplotlib.use('Agg')\n",
    "import matplotlib.pyplot as plt\n",
    "\n",
    "import io\n",
    "import os\n",
    "import base64\n",
    "\n",
    "import numpy as np\n",
    "from numpy import genfromtxt\n",
    "from sklearn.linear_model import LogisticRegression as LogReg\n",
    "from sklearn.model_selection import train_test_split as tts\n",
    " \n",
    "# necesario en pythonanywhere\n",
    "#PATH=os.path.dirname(os.path.abspath(__file__))\n",
    "    \n",
    "# default inicial\n",
    "EMBARKED='Southampton'\n",
    "FARE=33\n",
    "AGE=30\n",
    "GENDER='Female'\n",
    "TITLE='Mrs.'\n",
    "CLASS='Second'\n",
    "CABIN='C'\n",
    "SIBSP=0\n",
    "PARCH=0\n",
    "\n",
    "\n",
    "# inicializando variables\n",
    "tasa_media=0\n",
    "\n",
    "\n",
    "\n",
    "# modelo \n",
    "logreg=LogReg()\n",
    "\n",
    "\n",
    "\n",
    "# flask app\n",
    "app=Flask(__name__)\n",
    "\n",
    "\n",
    "\n",
    "# antes del primer request...\n",
    "@app.before_first_request\n",
    "def startup():\n",
    "    global tasa_media, logreg\n",
    "    \n",
    "    #data=genfromtxt(PATH+'/data/titanic.csv', delimiter=',') # fuera de jupyter\n",
    "    data=genfromtxt('data/titanic.csv', delimiter=',')\n",
    "    \n",
    "    tasa_media=(np.mean([e[0] for e in data])*100)\n",
    "\n",
    "    X_train, X_test, y_train, y_test=tts([e[1:] for e in data], \n",
    "                                         [e[0] for e in data], \n",
    "                                         test_size=0.1, \n",
    "                                         random_state=42)\n",
    "    \n",
    "    logreg.fit(X_train, y_train)  # se entrena una vez antes de arrancar\n",
    "    \n",
    "    \n",
    "\n",
    "    \n",
    "# main app\n",
    "@app.route(\"/\", methods=['POST', 'GET'])\n",
    "def main():\n",
    "    \n",
    "    if request.method=='POST':\n",
    "        s_embarked=request.form['s_embarked']\n",
    "        s_fare=request.form['s_fare']\n",
    "        s_age=request.form['s_age']\n",
    "        s_gender=request.form['s_gender']\n",
    "        s_title=request.form['s_title']\n",
    "        s_class=request.form['s_class']\n",
    "        s_cabin=request.form['s_cabin']\n",
    "        s_sibsp=request.form['s_sibsp']\n",
    "        s_parch=request.form['s_parch']\n",
    "        \n",
    "        # se reasigna para prediccion\n",
    "        age=int(s_age)\n",
    "        isfemale=1 if s_gender=='Female' else 0\n",
    "        sibsp=int(s_sibsp)\n",
    "        parch=int(s_parch)\n",
    "        fare=int(s_fare)\n",
    "        \n",
    "        \n",
    "        # puerto de embarque\n",
    "        embarked_Q=0\n",
    "        embarked_S=0\n",
    "        embarked_Unknown=0 \n",
    "        if (s_embarked[0]=='Q'):\n",
    "            embarked_Q = 1\n",
    "        if (s_embarked[0]=='S'):\n",
    "            embarked_S = 1\n",
    "        if (s_embarked[0]=='Unknown'):\n",
    "            embarked_Unknown = 1\n",
    "            \n",
    "        \n",
    "        # clase\n",
    "        pclass_Second=0\n",
    "        pclass_Third=0\n",
    "        if (s_class=='Second'):\n",
    "            pclass_Second=1\n",
    "        if (s_class=='Third'):\n",
    "            pclass_Third=1\n",
    "            \n",
    "            \n",
    "        \n",
    "        # titulo\n",
    "        title_Master=0\n",
    "        title_Miss=0\n",
    "        title_Mr=0\n",
    "        title_Mrs=0\n",
    "        title_Rev=0\n",
    "        title_Unknown=0\n",
    "        if (s_title=='Master.'):\n",
    "            title_Master=1\n",
    "        if (s_title=='Miss.'):\n",
    "            title_Miss=1\n",
    "        if (s_title=='Mr.'):\n",
    "            title_Mr=1\n",
    "        if (s_title=='Mrs.'):\n",
    "            title_Mrs=1\n",
    "        if (s_title=='Rev.'):\n",
    "            title_Master=1\n",
    "        if (s_title=='Unknown'):\n",
    "            title_Unknown=1\n",
    "            \n",
    "            \n",
    "        # cabina\n",
    "        cabin_B=0\n",
    "        cabin_C=0  \n",
    "        cabin_D=0  \n",
    "        cabin_E=0\n",
    "        cabin_F=0\n",
    "        cabin_G=0\n",
    "        cabin_T=0\n",
    "        cabin_Unknown=0\n",
    "        if (s_cabin=='B'):\n",
    "            cabin_B=1\n",
    "        if (s_cabin=='C'):\n",
    "            cabin_C=1\n",
    "        if (s_cabin=='D'):\n",
    "            cabin_D=1\n",
    "        if (s_cabin=='E'):\n",
    "            cabin_E=1\n",
    "        if (s_cabin=='F'):\n",
    "            cabin_F=1\n",
    "        if (s_cabin=='G'):\n",
    "            cabin_G=1\n",
    "        if (s_cabin=='T'):\n",
    "            cabin_T=1\n",
    "        if (s_cabin=='Unknown'):\n",
    "            cabin_Unknown=1\n",
    "            \n",
    "            \n",
    "        \n",
    "        # pasajero\n",
    "        pasajero=[[age, sibsp, parch, fare, isfemale, \n",
    "                   pclass_Second, pclass_Third,  \n",
    "                   cabin_B, cabin_C, cabin_D, cabin_E, cabin_F, cabin_G,\n",
    "                   cabin_T, cabin_Unknown, embarked_Q, \n",
    "                   embarked_S, embarked_Unknown,  \n",
    "                   title_Master, title_Miss, title_Mr, title_Mrs, \n",
    "                   title_Rev, title_Unknown]]\n",
    "        \n",
    "        \n",
    "        # prediccion\n",
    "        y_prob=logreg.predict_proba(pasajero)\n",
    "        \n",
    "        \n",
    "        # plot\n",
    "        with plt.xkcd():\n",
    "            plt.figure()\n",
    "            plt.bar(range(2),[tasa_media, y_prob[0][1]*100],\n",
    "                    align='center', color=['y', 'b'], alpha=0.5)\n",
    "            \n",
    "            plt.xticks(range(2), ['Tasa Supervivencia media', 'Pasajero'])\n",
    "            plt.axhline(tasa_media, color='r')\n",
    "            plt.ylim([0,100])\n",
    "            plt.ylabel('Probabilidad Supervivencia')\n",
    "            plt.title('¿Sobrevivirá tu pasajero? \\n '+'¡{:.2f}% de probabilidad!'.format(y_prob[0][1]*100))\n",
    "            img=io.BytesIO()\n",
    "            plt.savefig(img, format='png')\n",
    "            img.seek(0)\n",
    "            plot_url=base64.b64encode(img.getvalue()).decode()\n",
    "            \n",
    "        \n",
    "        return render_template('index.html',\n",
    "            model_results='',\n",
    "            model_plot=Markup('<img src=\"data:image/png;base64,{}\">'.format(plot_url)),\n",
    "            s_embarked=s_embarked,\n",
    "            s_fare=s_fare,\n",
    "            s_age=s_age,\n",
    "            s_gender=s_gender,\n",
    "            s_title=s_title,\n",
    "            s_class=s_class,\n",
    "            s_cabin=s_cabin,\n",
    "            s_sibsp=s_sibsp,\n",
    "            s_parch=s_parch)\n",
    "    \n",
    "    else:\n",
    "        # parametros por defecto\n",
    "        return render_template('index.html',\n",
    "            model_results = '',\n",
    "            model_plot = '',\n",
    "            s_embarked=EMBARKED,\n",
    "            s_fare=FARE,\n",
    "            s_age=AGE,\n",
    "            s_gender=GENDER,\n",
    "            s_title=TITLE,\n",
    "            s_class=CLASS,\n",
    "            s_cabin=CABIN,\n",
    "            s_sibsp=SIBSP,\n",
    "            s_parch=PARCH)\n",
    "    \n",
    "    \n",
    "\n",
    "# solo en local\n",
    "if __name__=='__main__':\n",
    "    app.run(debug=False)\n",
    "    "
   ]
  },
  {
   "cell_type": "markdown",
   "metadata": {},
   "source": [
    "## Codigo HTML"
   ]
  },
  {
   "cell_type": "raw",
   "metadata": {},
   "source": [
    "<!DOCTYPE html>\n",
    "<html>\n",
    "<head>\n",
    "\t<meta name=\"viewport\" content=\"width=device-width, initial-scale=1\">\n",
    "\t<meta charset=\"UTF=8\">\n",
    "\t<title>Titanic Survival</title>\n",
    "</head>\n",
    "\n",
    "<script src=\"//ajax.googleapis.com/ajax/libs/jquery/1.9.1/jquery.min.js\"></script>\n",
    "<link rel=\"stylesheet\" href=\"//netdna.bootstrapcdn.com/bootstrap/3.0.3/css/bootstrap-theme.min.css\">\n",
    "<link rel=\"stylesheet\" href=\"//netdna.bootstrapcdn.com/bootstrap/3.0.3/css/bootstrap.min.css\">\n",
    "<script src=\"//netdna.bootstrapcdn.com/bootstrap/3.0.3/js/bootstrap.min.js\"></script>\n",
    "\n",
    "<body>\n",
    "<div class=\"container\">\n",
    "\n",
    "<form id='submit_params' method=\"POST\" action=\"{{ url_for('main') }}\">\n",
    "<div class=\"form-group\">\n",
    "<table class=\"table\">\n",
    "    <tr>\n",
    "        <td width=\"300px\"><p style=\"text-align:center\"><h1>Aplicacion con <BR>Regresion Logistica</h1>\n",
    "        </p></td>\n",
    "        <td><p style=\"text-align:center\">\n",
    "\t\t\t<img src=\"static/images/small_titanic.jpg\" alt=\"titanic\" style='padding:1px; \n",
    "            border:1px solid #021a40; width: 80%; height: 80%'>\n",
    "\t\t\t</p>\n",
    "\t\t</td>\n",
    "        <td width=\"200px\"><p style=\"text-align:center\"><h3>Detalles Cabina y Puerto de Embarque</h3></p></td>\n",
    "    </tr>\n",
    "    <tr>\n",
    "        <td>\n",
    "            <table class=\"table\" border=0 >\n",
    "                <tr>\n",
    "                    <td><label for=\"male\">Puerto de Embarque</label></td>\n",
    "                    <td>\n",
    "                     <SELECT class=\"selectpicker\" name=\"s_embarked\">\n",
    "\t\t\t\t          <option value=\"{{s_embarked}}\" selected>{{s_embarked}}</option>\n",
    "\t\t\t\t          <option>Cherbourg</option>\n",
    "\t\t\t\t          <option>Queenstown</option>\n",
    "\t\t\t\t          <option>Southampton</option>\n",
    "\t\t\t\t      </SELECT>\n",
    "\t\t\t\t\t</td>\n",
    "                </tr>\n",
    "                <tr>\n",
    "                    <td><label for=\"male\">Tarifa</label></td>\n",
    "                    <td><input type=\"number\" class=\"form-control\" id=\"fare\"\n",
    "                    \tplaceholder=\"Enter fare\" name=\"s_fare\" value=\"{{s_fare}}\">\n",
    "                    </td>\n",
    "                </tr>\n",
    "                <tr>\n",
    "                    <td><label for=\"male\">Edad</label></td>\n",
    "                    <td>\n",
    "                       <SELECT class=\"selectpicker\" name=\"s_age\">\n",
    "\t\t\t\t        <option value=\"{{s_age}}\" selected>{{s_age}}</option>\n",
    "\t\t\t\t       {% for age in range(0,100) %}\n",
    "\t\t\t\t           <option>{{age}}</option>\n",
    "\t\t\t\t       {% endfor %}\n",
    "\t\t\t\t      \t</SELECT>\n",
    "\t\t\t\t    </td>\n",
    "                </tr>\n",
    "                <tr>\n",
    "                    <td><label for=\"male\">Genero</label></td>\n",
    "                    <td>\n",
    "                     <SELECT class=\"selectpicker\" name=\"s_gender\">\n",
    "\t\t\t\t          <option value=\"{{s_gender}}\" selected>{{s_gender}}</option>\n",
    "\t\t\t\t          <option value='Male'>Hombre</option>\n",
    "\t\t\t\t          <option value='Female'>Mujer</option>\n",
    "\t\t\t\t      </SELECT>\n",
    "\t\t\t\t\t</td>\n",
    "                </tr>\n",
    "                <tr>\n",
    "                    <td><label for=\"male\">Titulo</label></td>\n",
    "                    <td>\n",
    "                     <SELECT class=\"selectpicker\" name=\"s_title\">\n",
    "\t\t\t\t\t\t<option value=\"{{s_title}}\" selected>{{s_title}}</option>\n",
    "\t\t\t\t\t\t<option value=\"Dr.\">Dr.</option>\n",
    "\t\t\t\t\t\t<option value=\"Master.\">Master.</option>\n",
    "\t\t\t\t\t\t<option value=\"Miss.\">Miss.</option>\n",
    "\t\t\t\t\t\t<option value=\"Mr.\">Mr.</option>\n",
    "\t\t\t\t\t\t<option value=\"Mrs.\">Mrs.</option>\n",
    "\t\t\t\t\t\t<option value=\"Master.\">Master.</option>\n",
    "\t\t\t\t\t\t<option value=\"Unknown.\">Unknown</option>\n",
    "\t\t\t\t\t\t<option value=\"Rev.\">Rev.</option>\n",
    "\t\t\t\t      </SELECT>\n",
    "\t\t\t\t\t</td>\n",
    "                </tr>\n",
    "                <tr>\n",
    "                    <td><label for=\"male\">Clase</label></td>\n",
    "                    <td>\n",
    "                     <SELECT class=\"selectpicker\" name=\"s_class\">\n",
    "\t\t\t\t\t\t<option value=\"{{s_class}}\" selected>{{s_class}}</option>\n",
    "\t\t\t\t\t\t<option value='First'>Primera</option>\n",
    "\t\t\t\t\t\t<option value='Second'>Segunda</option>\n",
    "\t\t\t\t\t\t<option value='Third'>Tercera</option>\n",
    "\t\t\t\t\t</td>\n",
    "                </tr>\n",
    "                <tr>\n",
    "                    <td><label for=\"male\">Cabina</label></td>\n",
    "                    <td>\n",
    "                     <SELECT class=\"selectpicker\" name=\"s_cabin\">\n",
    "\t\t\t\t\t\t<option value=\"{{s_cabin}}\" selected>{{s_cabin}}</option>\n",
    "\t\t\t\t\t\t<option>A</option>\n",
    "\t\t\t\t\t\t<option>B</option>\n",
    "\t\t\t\t\t\t<option>C</option>\n",
    "\t\t\t\t\t\t<option>D</option>\n",
    "\t\t\t\t\t\t<option>E</option>\n",
    "\t\t\t\t\t\t<option>F</option>\n",
    "\t\t\t\t\t\t<option>G</option>\n",
    "\t\t\t\t\t\t<option>T</option>\n",
    "\t\t\t\t\t\t<option>Unknown</option>\n",
    "\t\t\t\t\t</td>\n",
    "                </tr>\n",
    "                <tr>\n",
    "                    <td><label for=\"male\">Numero de hermanos/esposos</label></td>\n",
    "                    <td>\n",
    "                    \t<SELECT class=\"selectpicker\" name=\"s_sibsp\">\n",
    "\t\t\t\t        <option value=\"{{s_sibsp}}\" selected>{{s_sibsp}}</option>\n",
    "\t\t\t\t       {% for sibsp in range(0,10) %}\n",
    "\t\t\t\t           <option>{{sibsp}}</option>\n",
    "\t\t\t\t       {% endfor %}\n",
    "\t\t\t\t      \t</SELECT>\n",
    "\t\t\t\t  \t</td>\n",
    "                </tr>\n",
    "                <tr>\n",
    "                    <td><label for=\"male\">Numero de padres/hijos</label></td>\n",
    "                    <td>\n",
    "                    \t<SELECT class=\"selectpicker\" name=\"s_parch\">\n",
    "\t\t\t\t        <option value=\"{{s_parch}}\" selected>{{s_parch}}</option>\n",
    "\t\t\t\t       {% for parch in range(0,10) %}\n",
    "\t\t\t\t           <option>{{parch}}</option>\n",
    "\t\t\t\t       {% endfor %}\n",
    "\t\t\t\t      \t</SELECT>\n",
    "\t\t\t\t  \t</td>\n",
    "                </tr>\n",
    "\n",
    "          </table>\n",
    "\n",
    "        </td>\n",
    "\n",
    "        <td>{{model_results}}<BR>{{model_plot}}\n",
    "        </td>\n",
    "        <td>\n",
    "        \t<p style=\"text-align:center\">Detalle de cabina</p>\n",
    "        \t<p style=\"text-align:center\">\n",
    "\t\t\t<img src=\"static/images//small_cabin_location.png\" alt=\"cabin locations\" \n",
    "            style='padding:1px; border:1px solid #021a40; width: 100%; height: 100%'>\n",
    "\t\t\t</p></td>\n",
    "    </tr>\n",
    "    <td><button class=\"btn btn-default\" type=\"submit\" style=\"width: 100px; height: 30px;\">\n",
    "    ¡A bordo!</button></td><td></td><td></td>\n",
    "    <tr>\n",
    "</table>\n",
    "</div>\n",
    "</form>\n",
    "\n",
    "</div>\n",
    "</body>\n",
    "</html>\n"
   ]
  }
 ],
 "metadata": {
  "kernelspec": {
   "display_name": "Python 3",
   "language": "python",
   "name": "python3"
  },
  "language_info": {
   "codemirror_mode": {
    "name": "ipython",
    "version": 3
   },
   "file_extension": ".py",
   "mimetype": "text/x-python",
   "name": "python",
   "nbconvert_exporter": "python",
   "pygments_lexer": "ipython3",
   "version": "3.7.6"
  }
 },
 "nbformat": 4,
 "nbformat_minor": 2
}

{
 "cells": [
  {
   "cell_type": "markdown",
   "metadata": {},
   "source": [
    "# FPDF"
   ]
  },
  {
   "cell_type": "raw",
   "metadata": {},
   "source": [
    "pip3 install fpdf --user\n",
    "\n",
    "https://pypi.org/project/fpdf/\n",
    "\n",
    "http://www.fpdf.org\n",
    "\n",
    "https://github.com/reingart/pyfpdf\n",
    "\n",
    "https://pyfpdf.readthedocs.io/en/latest/Tutorial/index.html"
   ]
  },
  {
   "cell_type": "markdown",
   "metadata": {},
   "source": [
    "**libreria para crear PDFs**"
   ]
  },
  {
   "cell_type": "code",
   "execution_count": null,
   "metadata": {},
   "outputs": [],
   "source": [
    "from fpdf import FPDF "
   ]
  },
  {
   "cell_type": "markdown",
   "metadata": {},
   "source": [
    "**1-hola mundo**"
   ]
  },
  {
   "cell_type": "code",
   "execution_count": null,
   "metadata": {},
   "outputs": [],
   "source": [
    "pdf=FPDF()                             # por defecto se crea en formato dinA4, explicitamente FPDF('P', 'mm', 'A4')\n",
    "\n",
    "pdf.add_page()                         # se añade una pagina, origen arriba a la izq a 1cm\n",
    "\n",
    "#pdf.set_margins()                     # se pueden ajustar los margenes , set_top_margin, set_left_margin, set_right_margin, set_auto_page_break\n",
    "\n",
    "pdf.set_font('Arial', 'B', 16)         # se define la fuente de letra (Arial, negrita, tamaño 16)\n",
    "\n",
    "pdf.cell(40, 10, '¡Hola Mundo!')       # se crea la celda del texto, (ancho(mm), alto(mm), texto)\n",
    "\n",
    "#pdf.cell(w=0, h=0, txt='a', border=0, ln=0, align='', fill=False, link='')\n",
    "# (ancho, alto, texto, borde, salto de linea, alineado, relleno, url)\n",
    "\n",
    "pdf.output('output/hola mundo.pdf', 'F')      # guardado del pdf, en la misma carpeta que el archivo (nombre, destino)\n",
    "\n",
    "# destino\n",
    "\n",
    "#   I: envia el archivo al buscador\n",
    "#   D: envia el archivo al buscador y fuerza la descarga\n",
    "#   F: guarda el archivo en local, puede incluir el path\n",
    "#   S: devuelve el documento como string"
   ]
  },
  {
   "cell_type": "markdown",
   "metadata": {},
   "source": [
    "**2-imagenes**"
   ]
  },
  {
   "cell_type": "code",
   "execution_count": null,
   "metadata": {},
   "outputs": [],
   "source": [
    "pdf=FPDF()                      # formato dinA4\n",
    "\n",
    "pdf.add_page()                  # añade pagina\n",
    "\n",
    "pdf.set_xy(0, 0)                # define abscisa y ordinate, posicion actual. Si el valor es nagativo empieza por abajo\n",
    "\n",
    "pdf.set_font('arial', 'B', 12)  # arial 12 en negrita\n",
    "\n",
    "pdf.cell(60)                    # posicion texto\n",
    "\n",
    "pdf.cell(90, 10, 'Solar Flares vs Sunspots', 0, 2, 'C')     # titulo\n",
    "\n",
    "pdf.cell(90, 10, ' ', 0, 2, 'C')                             # celda vacia, como salto de linea\n",
    "\n",
    "pdf.image('input/sol.jpg', x=8, y=20, w=200, h=60, type = '', link = '') # imagen \n",
    "\n",
    "pdf.output('output/sol.pdf', 'F')                  # guardado del pdf"
   ]
  },
  {
   "cell_type": "markdown",
   "metadata": {},
   "source": [
    "**3-clase PDF**"
   ]
  },
  {
   "cell_type": "code",
   "execution_count": null,
   "metadata": {},
   "outputs": [],
   "source": [
    "class PDF(FPDF):\n",
    "\n",
    "    def header(self):                                 # cabecera\n",
    "        self.image('input/binning.png', 10, 8, 33)    # imagen\n",
    "        self.set_font('Arial', 'B', 15)               # Arial negrita 15        \n",
    "        self.cell(80)                             # mueve a la derecha        \n",
    "        self.cell(30, 10, 'Title', 1, 0, 'C')     # titulo\n",
    "        self.ln(20)                               # salto de linea\n",
    "\n",
    "    def footer(self):                       # pie de pagina                                     # pie de pagina\n",
    "        self.set_y(-15)                                                         # posicion a 1.5 cm desde abajo\n",
    "        self.set_font('Arial', 'I', 8)                                          # Arial italica 8\n",
    "        self.cell(0, 10, \n",
    "                  'Page ' + str(self.page_no()) + '/{nb}', \n",
    "                  0, 0, 'C')    # numero de pagina\n"
   ]
  },
  {
   "cell_type": "code",
   "execution_count": null,
   "metadata": {},
   "outputs": [],
   "source": [
    "# inicio de la clase\n",
    "pdf=PDF()                                               # inicia clase PDF, crea pdf\n",
    "pdf.alias_nb_pages()                                    # define un alias para el numero total de paginas \n",
    "\n",
    "pdf.add_page()                                          # añade pagina\n",
    "pdf.set_font('Times', '', 12)                           # selecciona la fuente de letra\n",
    "\n",
    "for i in range(1, 41):                                  # bucle para crear lineas de texto\n",
    "    pdf.cell(0, 10, 'Numero de linea ' + str(i), 0, 1)  # añade celdas de texto\n",
    "\n",
    "    \n",
    "pdf.output('output/clase pdf.pdf', 'F')                 # guarda pdf"
   ]
  },
  {
   "cell_type": "markdown",
   "metadata": {},
   "source": [
    "**4-clase completo**"
   ]
  },
  {
   "cell_type": "code",
   "execution_count": null,
   "metadata": {},
   "outputs": [],
   "source": [
    "titulo='Python Data Science Handbook'"
   ]
  },
  {
   "cell_type": "code",
   "execution_count": null,
   "metadata": {},
   "outputs": [],
   "source": [
    "class PDF(FPDF):\n",
    "    def header(self):                              # cabecera\n",
    "        self.set_font('Arial', 'B', 15)            # fuente Arial negrita 15  \n",
    "        ancho=self.get_string_width(titulo)+6      # calcula el ancho del titulo y su posicion\n",
    "        self.set_x((210-ancho)/2)\n",
    "        self.set_draw_color(0, 80, 180)            # colores del marco, fondo y texto\n",
    "        self.set_fill_color(230, 230, 0)\n",
    "        self.set_text_color(220, 50, 50)\n",
    "        self.set_line_width(1)                     # ancho del marco (1 mm)\n",
    "        self.cell(ancho, 9, titulo, 1, 1, 'C', 1)  # titulo\n",
    "        self.ln(10)                                # salto de linea\n",
    "\n",
    "\n",
    "    def footer(self):                                                # pie de pagina\n",
    "        self.set_y(-15)                                              # posicion a 1.5 cm desde abajo\n",
    "        self.set_font('Arial', 'I', 8)                               # fuente Arial italica 8\n",
    "        self.set_text_color(128)                                     # color texto en gray\n",
    "        self.cell(0, 10, 'Page ' + str(self.page_no()), 0, 0, 'C')   # numero de pagina\n",
    "\n",
    "\n",
    "    def chapter_title(self, numero, etiqueta):                                 # titulo del capitulo\n",
    "        self.set_font('Arial', '', 12)                                         # fuente Arial 12\n",
    "        self.set_fill_color(200, 220, 255)                                     # color del fondo\n",
    "        self.cell(0, 6, 'Chapter %d : %s' % (numero, etiqueta), 0, 1, 'L', 1)  # titulo\n",
    "        self.ln(4)                                                             # salto de linea\n",
    "\n",
    "\n",
    "    def chapter_body(self, nombre, numero):                      # cuerpo del capitulo\n",
    "        with open(nombre, 'rb') as f:                            # se lee el archivo de texto\n",
    "            txt=f.read().decode('latin-1')\n",
    "        self.set_font('Times', '', 12)                           # fuente Times 12\n",
    "        self.multi_cell(0, 5, txt)                               # texto con saltos de linea (multicelda)\n",
    "        self.ln()                                                # salto de linea\n",
    "        self.set_font('', 'I')                                   # alusion en fuente italica\n",
    "        self.cell(0, 5, '(fin del capitulo {})'.format(numero))\n",
    "\n",
    "\n",
    "    def print_chapter(self, numero, titulo, nombre):     # imprime el capitulo\n",
    "        self.add_page()                                  # añade pagina\n",
    "        self.chapter_title(numero, titulo)               # numero y titulo de capitulo\n",
    "        self.chapter_body(nombre, numero)                # cuerpo del capitulo\n"
   ]
  },
  {
   "cell_type": "code",
   "execution_count": null,
   "metadata": {},
   "outputs": [],
   "source": [
    "# inicio de la clase\n",
    "\n",
    "\n",
    "pdf=PDF()                                                               # inicia clase PDF\n",
    "pdf.set_title(titulo)                                                   # titulo\n",
    "pdf.set_author('Jake VanderPlas')                                       # autor\n",
    "pdf.print_chapter(1, 'IPython: Beyond Normal Python', 'input/c1.txt')   # capitulo 1\n",
    "pdf.print_chapter(2, 'Introduction to NumPy', 'input/c2.txt')           # capitulo 2\n",
    "pdf.output('output/libro.pdf', 'F')                                     # guarda pdf"
   ]
  },
  {
   "cell_type": "markdown",
   "metadata": {},
   "source": [
    "# ReportLab"
   ]
  },
  {
   "cell_type": "raw",
   "metadata": {},
   "source": [
    "pip3 install reportlab --user\n",
    "\n",
    "https://www.reportlab.com/documentation/\n",
    "\n",
    "https://recursospython.com/guias-y-manuales/crear-documentos-pdf-en-python-con-reportlab/"
   ]
  },
  {
   "cell_type": "markdown",
   "metadata": {},
   "source": [
    "**libreria para crear PDFs**"
   ]
  },
  {
   "cell_type": "code",
   "execution_count": null,
   "metadata": {},
   "outputs": [],
   "source": [
    "from reportlab.pdfgen import canvas\n",
    "from reportlab.lib.pagesizes import A4, letter"
   ]
  },
  {
   "cell_type": "markdown",
   "metadata": {},
   "source": [
    "**1-hola mundo**"
   ]
  },
  {
   "cell_type": "code",
   "execution_count": null,
   "metadata": {},
   "outputs": [],
   "source": [
    "ancho, alto=A4                                  # ancho y alto de la pagina, en dinA4, es una tupla en puntos (un punto=1/72 pulgadas)\n",
    "\n",
    "print (A4)\n",
    "print (letter)\n",
    "\n",
    "c=canvas.Canvas('output/hola mundo2.pdf', pagesize=A4)  # genera el archivo pdf vacio, con tamaño dinA4\n",
    "\n",
    "c.drawString(0,0, '¡Hola, mundo!')      # escribe con margen de 50 puntos\n",
    " \n",
    "c.showPage()                                    # fin o cambio de pagina (se pierden los estilos)\n",
    "\n",
    "c.save()                                        # guardado de archivo"
   ]
  },
  {
   "cell_type": "markdown",
   "metadata": {},
   "source": [
    "**2-figuras geometricas**"
   ]
  },
  {
   "cell_type": "code",
   "execution_count": null,
   "metadata": {},
   "outputs": [],
   "source": [
    "ancho, alto=A4 \n",
    "\n",
    "\n",
    "c=canvas.Canvas('output/figuras geometricas.pdf', \n",
    "                pagesize=A4)  # genera el pdf\n",
    "\n",
    "                       \n",
    "x=120\n",
    "y=alto-45\n",
    "\n",
    "c.drawString(30, alto-50, 'Linea')\n",
    "c.line(x, y, x+100, y)                                # pinta una linea\n",
    "\n",
    "c.drawString(30, alto-140, 'Rectangulo')\n",
    "c.rect(x, alto-160, 100, 50)                          # pinta un rectangulo\n",
    "\n",
    "c.drawString(30, alto-300, 'Rectangulo Curvo')\n",
    "c.roundRect(x, alto-500, 300, 200, 10)                # pinta un rectangulo con esquinas curvas\n",
    "\n",
    "c.showPage()                                          # cambia de pagina\n",
    "\n",
    "c.drawString(30, alto-170, 'Circulo')\n",
    "c.circle(170, alto-165, 20)                           # pinta circulo\n",
    "\n",
    "c.drawString(30, alto-240, 'Elipse')\n",
    "c.ellipse(x, y-170, x+100, y-220)                     # pinta elipse\n",
    "\n",
    "# bezier(), arc(), wedge()\n",
    "\n",
    "c.showPage()\n",
    "c.save()"
   ]
  },
  {
   "cell_type": "markdown",
   "metadata": {},
   "source": [
    "**3-estilos**"
   ]
  },
  {
   "cell_type": "code",
   "execution_count": null,
   "metadata": {},
   "outputs": [],
   "source": [
    "ancho, alto=A4 \n",
    "\n",
    "\n",
    "\n",
    "c=canvas.Canvas('output/figuras geometricas rellenas.pdf', pagesize=A4)  # genera el pdf\n",
    "\n",
    "c.setFillColorRGB(1, 0, 0)                                        # valores RGB entre 0.0 y 1.0\n",
    "\n",
    "c.drawString(50, alto-50, '¡Hola, mundo!')                        # escribe\n",
    "\n",
    "c.rect(50, alto-150, 50, 50, fill=True)                           # rellena el rectangulo\n",
    "\n",
    "c.setStrokeColorRGB(0.7, 0, 0.7)                                  # pon color, entre 0 y 1\n",
    "\n",
    "c.showPage()\n",
    "c.save()"
   ]
  },
  {
   "cell_type": "markdown",
   "metadata": {},
   "source": [
    "**4-texto**"
   ]
  },
  {
   "cell_type": "code",
   "execution_count": null,
   "metadata": {},
   "outputs": [],
   "source": [
    "ancho, alto=A4 \n",
    "\n",
    "\n",
    "c=canvas.Canvas('output/texto.pdf', pagesize=A4)  # genera el pdf\n",
    "\n",
    "text=c.beginText(50, alto-50)              # empieza el texto\n",
    "\n",
    "text.setFont('Times-Roman', 12)            # selecciona fuente\n",
    " \n",
    "\n",
    "text.textLine('¡Hola, mundo!')\n",
    "text.textLine('¡Bienvenido a IronHack!')  # las dos frases aparecen en dos lineas diferentes\n",
    "\n",
    "text.textLines('Aqui estamos\\nConectados a la wifi')  # o alternativo\n",
    "\n",
    "c.drawText(text)                          # escribe\n",
    "\n",
    "c.showPage()                 \n",
    "c.save()"
   ]
  },
  {
   "cell_type": "markdown",
   "metadata": {},
   "source": [
    "**5-imagenes**"
   ]
  },
  {
   "cell_type": "code",
   "execution_count": null,
   "metadata": {},
   "outputs": [],
   "source": [
    "ancho, alto=A4 \n",
    "\n",
    "\n",
    "c=canvas.Canvas('output/imagen.pdf', pagesize=A4)                        # genera el pdf\n",
    "\n",
    "c.drawImage('input/binning.png', 0, 0, width=600, height=350)   # pinta la imagen\n",
    "\n",
    "c.showPage()                 \n",
    "c.save()"
   ]
  },
  {
   "cell_type": "markdown",
   "metadata": {},
   "source": [
    "**6-grid**"
   ]
  },
  {
   "cell_type": "code",
   "execution_count": null,
   "metadata": {},
   "outputs": [],
   "source": [
    "ancho, alto=A4 \n",
    "\n",
    "\n",
    "c=canvas.Canvas('output/grid.pdf', pagesize=A4)       # genera el pdf\n",
    "\n",
    "\n",
    "xlist=[10, 60, 110, 160]                       # puntos de la malla\n",
    "ylist=[alto-10, alto-60, alto-110, alto-160]\n",
    "c.grid(xlist, ylist)\n",
    "\n",
    "c.showPage()                 \n",
    "c.save()"
   ]
  },
  {
   "cell_type": "markdown",
   "metadata": {},
   "source": [
    "**7-ejemplo**"
   ]
  },
  {
   "cell_type": "code",
   "execution_count": null,
   "metadata": {},
   "outputs": [],
   "source": [
    "import itertools\n",
    "from random import randint\n",
    "from statistics import mean\n",
    "from reportlab.lib.pagesizes import A4\n",
    "from reportlab.pdfgen import canvas"
   ]
  },
  {
   "cell_type": "code",
   "execution_count": null,
   "metadata": {},
   "outputs": [],
   "source": [
    "def grouper(iterable, n):\n",
    "    args=[iter(iterable)]*n\n",
    "    return itertools.zip_longest(*args)"
   ]
  },
  {
   "cell_type": "code",
   "execution_count": null,
   "metadata": {},
   "outputs": [],
   "source": [
    "def export_to_pdf(data):\n",
    "    c=canvas.Canvas('output/grilla-alumnos.pdf', pagesize=A4)\n",
    "    w, h=A4\n",
    "    max_rows_per_page=45\n",
    "\n",
    "    x_offset=50    # margen\n",
    "    y_offset=50\n",
    "\n",
    "    padding=15   # espacio entre filas\n",
    "\n",
    "    xlist=[x+x_offset for x in [0, 200, 250, 300, 350, 400, 480]]\n",
    "    ylist=[h-y_offset-i*padding for i in range(max_rows_per_page+1)]\n",
    "\n",
    "    for rows in grouper(data, max_rows_per_page):\n",
    "        rows=tuple(filter(bool, rows))\n",
    "        c.grid(xlist, ylist[:len(rows)+1])\n",
    "        for y, row in zip(ylist[:-1], rows):\n",
    "            for x, cell in zip(xlist, row):\n",
    "                c.drawString(x+2, y-padding+3, str(cell))\n",
    "                \n",
    "        c.showPage()\n",
    "\n",
    "    c.save()"
   ]
  },
  {
   "cell_type": "code",
   "execution_count": null,
   "metadata": {},
   "outputs": [],
   "source": [
    "data=[(\"NOMBRE\", \"NOTA 1\", \"NOTA 2\", \"NOTA 3\", \"PROM.\", \"ESTADO\")]\n",
    "\n",
    "for i in range(1, 101):\n",
    "    exams=[randint(0, 10) for _ in range(3)]\n",
    "    avg=round(mean(exams), 2)\n",
    "    state=\"Aprobado\" if avg >= 4 else \"Desaprobado\"\n",
    "    data.append((f\"Alumno {i}\", *exams, avg, state))\n",
    "    \n",
    "    \n",
    "export_to_pdf(data)"
   ]
  },
  {
   "cell_type": "code",
   "execution_count": null,
   "metadata": {},
   "outputs": [],
   "source": []
  }
 ],
 "metadata": {
  "kernelspec": {
   "display_name": "Python 3",
   "language": "python",
   "name": "python3"
  },
  "language_info": {
   "codemirror_mode": {
    "name": "ipython",
    "version": 3
   },
   "file_extension": ".py",
   "mimetype": "text/x-python",
   "name": "python",
   "nbconvert_exporter": "python",
   "pygments_lexer": "ipython3",
   "version": "3.7.6"
  }
 },
 "nbformat": 4,
 "nbformat_minor": 2
}

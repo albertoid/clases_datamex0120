{
 "cells": [
  {
   "cell_type": "markdown",
   "metadata": {},
   "source": [
    "# Proceso completo \n",
    "\n",
    "**Creacion de PDF y envio via mail**"
   ]
  },
  {
   "cell_type": "markdown",
   "metadata": {},
   "source": [
    "**librerias**"
   ]
  },
  {
   "cell_type": "code",
   "execution_count": 1,
   "metadata": {},
   "outputs": [],
   "source": [
    "import pandas as pd\n",
    "\n",
    "import matplotlib.pyplot as plt\n",
    "%matplotlib inline\n",
    "\n",
    "from fpdf import FPDF\n",
    "\n",
    "import smtplib\n",
    "import getpass\n",
    "from email.message import EmailMessage"
   ]
  },
  {
   "cell_type": "markdown",
   "metadata": {},
   "source": [
    "# Datos"
   ]
  },
  {
   "cell_type": "code",
   "execution_count": 2,
   "metadata": {},
   "outputs": [
    {
     "data": {
      "text/html": [
       "<div>\n",
       "<style scoped>\n",
       "    .dataframe tbody tr th:only-of-type {\n",
       "        vertical-align: middle;\n",
       "    }\n",
       "\n",
       "    .dataframe tbody tr th {\n",
       "        vertical-align: top;\n",
       "    }\n",
       "\n",
       "    .dataframe thead th {\n",
       "        text-align: right;\n",
       "    }\n",
       "</style>\n",
       "<table border=\"1\" class=\"dataframe\">\n",
       "  <thead>\n",
       "    <tr style=\"text-align: right;\">\n",
       "      <th></th>\n",
       "      <th>Channel</th>\n",
       "      <th>Region</th>\n",
       "      <th>Fresh</th>\n",
       "      <th>Milk</th>\n",
       "      <th>Grocery</th>\n",
       "      <th>Frozen</th>\n",
       "      <th>Detergents_Paper</th>\n",
       "      <th>Delicassen</th>\n",
       "    </tr>\n",
       "  </thead>\n",
       "  <tbody>\n",
       "    <tr>\n",
       "      <th>0</th>\n",
       "      <td>2</td>\n",
       "      <td>3</td>\n",
       "      <td>12669</td>\n",
       "      <td>9656</td>\n",
       "      <td>7561</td>\n",
       "      <td>214</td>\n",
       "      <td>2674</td>\n",
       "      <td>1338</td>\n",
       "    </tr>\n",
       "    <tr>\n",
       "      <th>1</th>\n",
       "      <td>2</td>\n",
       "      <td>3</td>\n",
       "      <td>7057</td>\n",
       "      <td>9810</td>\n",
       "      <td>9568</td>\n",
       "      <td>1762</td>\n",
       "      <td>3293</td>\n",
       "      <td>1776</td>\n",
       "    </tr>\n",
       "    <tr>\n",
       "      <th>2</th>\n",
       "      <td>2</td>\n",
       "      <td>3</td>\n",
       "      <td>6353</td>\n",
       "      <td>8808</td>\n",
       "      <td>7684</td>\n",
       "      <td>2405</td>\n",
       "      <td>3516</td>\n",
       "      <td>7844</td>\n",
       "    </tr>\n",
       "    <tr>\n",
       "      <th>3</th>\n",
       "      <td>1</td>\n",
       "      <td>3</td>\n",
       "      <td>13265</td>\n",
       "      <td>1196</td>\n",
       "      <td>4221</td>\n",
       "      <td>6404</td>\n",
       "      <td>507</td>\n",
       "      <td>1788</td>\n",
       "    </tr>\n",
       "    <tr>\n",
       "      <th>4</th>\n",
       "      <td>2</td>\n",
       "      <td>3</td>\n",
       "      <td>22615</td>\n",
       "      <td>5410</td>\n",
       "      <td>7198</td>\n",
       "      <td>3915</td>\n",
       "      <td>1777</td>\n",
       "      <td>5185</td>\n",
       "    </tr>\n",
       "  </tbody>\n",
       "</table>\n",
       "</div>"
      ],
      "text/plain": [
       "   Channel  Region  Fresh  Milk  Grocery  Frozen  Detergents_Paper  Delicassen\n",
       "0        2       3  12669  9656     7561     214              2674        1338\n",
       "1        2       3   7057  9810     9568    1762              3293        1776\n",
       "2        2       3   6353  8808     7684    2405              3516        7844\n",
       "3        1       3  13265  1196     4221    6404               507        1788\n",
       "4        2       3  22615  5410     7198    3915              1777        5185"
      ]
     },
     "execution_count": 2,
     "metadata": {},
     "output_type": "execute_result"
    }
   ],
   "source": [
    "df=pd.read_csv('input/customers_data.csv')\n",
    "df.head()"
   ]
  },
  {
   "cell_type": "code",
   "execution_count": 3,
   "metadata": {},
   "outputs": [
    {
     "name": "stdout",
     "output_type": "stream",
     "text": [
      "<class 'pandas.core.frame.DataFrame'>\n",
      "RangeIndex: 440 entries, 0 to 439\n",
      "Data columns (total 8 columns):\n",
      "Channel             440 non-null int64\n",
      "Region              440 non-null int64\n",
      "Fresh               440 non-null int64\n",
      "Milk                440 non-null int64\n",
      "Grocery             440 non-null int64\n",
      "Frozen              440 non-null int64\n",
      "Detergents_Paper    440 non-null int64\n",
      "Delicassen          440 non-null int64\n",
      "dtypes: int64(8)\n",
      "memory usage: 27.6 KB\n"
     ]
    }
   ],
   "source": [
    "df.info()"
   ]
  },
  {
   "cell_type": "code",
   "execution_count": 4,
   "metadata": {},
   "outputs": [
    {
     "data": {
      "text/plain": [
       "(440, 8)"
      ]
     },
     "execution_count": 4,
     "metadata": {},
     "output_type": "execute_result"
    }
   ],
   "source": [
    "df.shape"
   ]
  },
  {
   "cell_type": "code",
   "execution_count": 5,
   "metadata": {},
   "outputs": [
    {
     "data": {
      "text/plain": [
       "1    298\n",
       "2    142\n",
       "Name: Channel, dtype: int64"
      ]
     },
     "execution_count": 5,
     "metadata": {},
     "output_type": "execute_result"
    }
   ],
   "source": [
    "df.Channel.value_counts()"
   ]
  },
  {
   "cell_type": "code",
   "execution_count": 6,
   "metadata": {},
   "outputs": [
    {
     "data": {
      "text/plain": [
       "Index(['Channel', 'Region', 'Fresh', 'Milk', 'Grocery', 'Frozen',\n",
       "       'Detergents_Paper', 'Delicassen'],\n",
       "      dtype='object')"
      ]
     },
     "execution_count": 6,
     "metadata": {},
     "output_type": "execute_result"
    }
   ],
   "source": [
    "df.columns"
   ]
  },
  {
   "cell_type": "code",
   "execution_count": 7,
   "metadata": {},
   "outputs": [
    {
     "data": {
      "text/html": [
       "<div>\n",
       "<style scoped>\n",
       "    .dataframe tbody tr th:only-of-type {\n",
       "        vertical-align: middle;\n",
       "    }\n",
       "\n",
       "    .dataframe tbody tr th {\n",
       "        vertical-align: top;\n",
       "    }\n",
       "\n",
       "    .dataframe thead th {\n",
       "        text-align: right;\n",
       "    }\n",
       "</style>\n",
       "<table border=\"1\" class=\"dataframe\">\n",
       "  <thead>\n",
       "    <tr style=\"text-align: right;\">\n",
       "      <th></th>\n",
       "      <th>Region</th>\n",
       "      <th>Fresh</th>\n",
       "      <th>Milk</th>\n",
       "      <th>Grocery</th>\n",
       "      <th>Frozen</th>\n",
       "      <th>Detergents_Paper</th>\n",
       "      <th>Delicassen</th>\n",
       "    </tr>\n",
       "    <tr>\n",
       "      <th>Channel</th>\n",
       "      <th></th>\n",
       "      <th></th>\n",
       "      <th></th>\n",
       "      <th></th>\n",
       "      <th></th>\n",
       "      <th></th>\n",
       "      <th></th>\n",
       "    </tr>\n",
       "  </thead>\n",
       "  <tbody>\n",
       "    <tr>\n",
       "      <th>1</th>\n",
       "      <td>748</td>\n",
       "      <td>4015717</td>\n",
       "      <td>1028614</td>\n",
       "      <td>1180717</td>\n",
       "      <td>1116979</td>\n",
       "      <td>235587</td>\n",
       "      <td>421955</td>\n",
       "    </tr>\n",
       "    <tr>\n",
       "      <th>2</th>\n",
       "      <td>371</td>\n",
       "      <td>1264414</td>\n",
       "      <td>1521743</td>\n",
       "      <td>2317845</td>\n",
       "      <td>234671</td>\n",
       "      <td>1032270</td>\n",
       "      <td>248988</td>\n",
       "    </tr>\n",
       "  </tbody>\n",
       "</table>\n",
       "</div>"
      ],
      "text/plain": [
       "         Region    Fresh     Milk  Grocery   Frozen  Detergents_Paper  \\\n",
       "Channel                                                                 \n",
       "1           748  4015717  1028614  1180717  1116979            235587   \n",
       "2           371  1264414  1521743  2317845   234671           1032270   \n",
       "\n",
       "         Delicassen  \n",
       "Channel              \n",
       "1            421955  \n",
       "2            248988  "
      ]
     },
     "execution_count": 7,
     "metadata": {},
     "output_type": "execute_result"
    }
   ],
   "source": [
    "g_df=df.groupby('Channel').sum()\n",
    "g_df"
   ]
  },
  {
   "cell_type": "code",
   "execution_count": 8,
   "metadata": {},
   "outputs": [
    {
     "data": {
      "image/png": "[encoded data removed]",
      "text/plain": [
       "<Figure size 432x288 with 1 Axes>"
      ]
     },
     "metadata": {
      "needs_background": "light"
     },
     "output_type": "display_data"
    }
   ],
   "source": [
    "g_df[g_df.index==2].plot.bar()\n",
    "plt.title('Productos')\n",
    "plt.xticks([])\n",
    "plt.xlabel('Canal 2')\n",
    "plt.savefig('input/canal_2.png')"
   ]
  },
  {
   "cell_type": "markdown",
   "metadata": {},
   "source": [
    "# Funciones para datos y plots"
   ]
  },
  {
   "cell_type": "code",
   "execution_count": 9,
   "metadata": {},
   "outputs": [],
   "source": [
    "def read_data(path):\n",
    "    df=pd.read_csv(path)\n",
    "    df2=df.groupby('Channel').sum()\n",
    "    return df, df2"
   ]
  },
  {
   "cell_type": "code",
   "execution_count": 10,
   "metadata": {},
   "outputs": [],
   "source": [
    "def plots(df):\n",
    "    for i in range(len(df)):\n",
    "        df[df.index==i+1].plot.bar()\n",
    "        plt.title('Productos')\n",
    "        plt.xticks([])\n",
    "        plt.xlabel(f'Canal {i+1}')\n",
    "        plt.savefig(f'input/canal_{i+1}.png')"
   ]
  },
  {
   "cell_type": "markdown",
   "metadata": {},
   "source": [
    "# PDF"
   ]
  },
  {
   "cell_type": "code",
   "execution_count": 11,
   "metadata": {},
   "outputs": [],
   "source": [
    "def repo(df):\n",
    "    \n",
    "    print ('Escribiendo repo...')\n",
    "    \n",
    "    pdf=FPDF(format='letter') # formato dinA4\n",
    "    \n",
    "    \n",
    "    pdf.add_page()        # añade pagina (portada)\n",
    "    pdf.set_xy(0, 0)\n",
    "    pdf.set_font('arial', 'B', 12)                            # arial 12 en negrita\n",
    "    pdf.cell(60)                                              # posicion texto\n",
    "    pdf.cell(90, 10, 'REPORT', 0, 2, 'C')   # titulo\n",
    "    pdf.cell(90, 10, ' ', 0, 2, 'C')\n",
    "    pdf.image('input/portada.jpeg', x=8, y=20, w=200, h=200, type = '', link = '') # imagen\n",
    "    \n",
    "    \n",
    "    pdf.add_page()                     # pagina 1\n",
    "    pdf.set_font('arial', '', 10)      # cuerpo\n",
    "    pdf.cell(0, 10, 'Channel 1', 'C')\n",
    "    pdf.ln(0.25)\n",
    "    pdf.cell(90, 10, \" \", 0, 2, 'C')\n",
    "    pdf.cell(0, 10, f'Fresh max: {df[df.Channel==1].Fresh.max()}, Fresh Min: {df[df.Channel==1].Fresh.min()}')\n",
    "    pdf.ln(0.25)\n",
    "    pdf.cell(90, 10, \" \", 0, 2, 'C')\n",
    "    pdf.cell(0, 10, f'Milk max: {df[df.Channel==1].Milk.max()}, Fresh Min: {df[df.Channel==1].Milk.min()}')\n",
    "    pdf.ln(0.25)\n",
    "    pdf.cell(90, 10, \" \", 0, 2, 'C')\n",
    "    pdf.cell(0, 10, 'Detergents-Paper average: {:.2f}'.format(df[df.Channel==1].Detergents_Paper.mean()))\n",
    "    pdf.ln(0.25)\n",
    "    pdf.cell(90, 10, \" \", 0, 2, 'C')\n",
    "    pdf.image('input/canal_1.png', x=50, y=None, w=100, h=80, type = '', link = '') # imagen\n",
    "    \n",
    "    \n",
    "    pdf.cell(0, 10, 'Channel 2', 'C')\n",
    "    pdf.ln(0.25)\n",
    "    pdf.cell(90, 10, \" \", 0, 2, 'C')\n",
    "    pdf.cell(0, 10, f'Grocery max: {df[df.Channel==2].Grocery.max()}, Grocery Min: {df[df.Channel==2].Grocery.min()}')\n",
    "    pdf.ln(0.25)\n",
    "    pdf.cell(90, 10, \" \", 0, 2, 'C')\n",
    "    pdf.cell(0, 10, f'Frozen max: {df[df.Channel==2].Frozen.max()}, Frozen Min: {df[df.Channel==2].Frozen.min()}')\n",
    "    pdf.ln(0.25)\n",
    "    pdf.cell(90, 10, \" \", 0, 2, 'C')\n",
    "    pdf.cell(0, 10, 'Detergents-Paper average: {:.2f}'.format(df[df.Channel==2].Detergents_Paper.mean()))\n",
    "    pdf.ln(0.25)\n",
    "    pdf.cell(90, 10, \" \", 0, 2, 'C')\n",
    "    pdf.image('input/canal_2.png', x=50, y=None, w=100, h=80, type = '', link = '') # imagen\n",
    "    \n",
    "    \n",
    "    pdf.output('output/repo.pdf', 'F')"
   ]
  },
  {
   "cell_type": "markdown",
   "metadata": {},
   "source": [
    "# Mail"
   ]
  },
  {
   "cell_type": "code",
   "execution_count": 12,
   "metadata": {},
   "outputs": [],
   "source": [
    "# mandando emails\n",
    "\n",
    "# https://docs.python.org/3.4/library/email-examples.html\n",
    "# https://stackoverflow.com/questions/882712/sending-html-email-using-python\n",
    "\n",
    "\n",
    "def mail(path):\n",
    "    \n",
    "    # conexion\n",
    "    gmail_user = input('Introduce tu gmail: ')\n",
    "    gmail_password = getpass.getpass('Introduce tu password: ')\n",
    "    try:  \n",
    "        server = smtplib.SMTP_SSL('smtp.gmail.com', 465)\n",
    "        server.ehlo()\n",
    "        server.login(gmail_user, gmail_password)\n",
    "        print('Conectado.')\n",
    "    except:  \n",
    "        print('Algo va mal...probablemente necesites dar permisos en gmail.')\n",
    "    \n",
    "    \n",
    "    # creacion del mensaje\n",
    "    msg = EmailMessage()\n",
    "    msg['Subject'] = 'Reporte diario'\n",
    "    msg['From'] = gmail_user\n",
    "    msg['To'] = input('A quien se lo envias? ')\n",
    "    msg.preamble = 'Es el reporte diario por canales. Saludos!!.\\n'\n",
    "    \n",
    "    \n",
    "    with open(path, 'rb') as f:\n",
    "        pdf = f.read()\n",
    "        msg.add_attachment(pdf,\n",
    "                           maintype='application/pdf', \n",
    "                           subtype='pdf', \n",
    "                           filename='report.pdf')\n",
    "\n",
    "        \n",
    "    with server as s:\n",
    "        s.send_message(msg)\n",
    "        \n",
    "    print ('Mail enviado.')\n",
    "    "
   ]
  },
  {
   "cell_type": "markdown",
   "metadata": {},
   "source": [
    "# PipeLine"
   ]
  },
  {
   "cell_type": "code",
   "execution_count": 13,
   "metadata": {},
   "outputs": [],
   "source": [
    "# rutas\n",
    "\n",
    "data_path='input/customers_data.csv'\n",
    "\n",
    "pdf_path='output/repo.pdf'"
   ]
  },
  {
   "cell_type": "code",
   "execution_count": 14,
   "metadata": {},
   "outputs": [],
   "source": [
    "# datos\n",
    "\n",
    "data=read_data(data_path)"
   ]
  },
  {
   "cell_type": "code",
   "execution_count": 15,
   "metadata": {},
   "outputs": [
    {
     "data": {
      "text/plain": [
       "2"
      ]
     },
     "execution_count": 15,
     "metadata": {},
     "output_type": "execute_result"
    }
   ],
   "source": [
    "len(data)"
   ]
  },
  {
   "cell_type": "code",
   "execution_count": 16,
   "metadata": {},
   "outputs": [
    {
     "data": {
      "image/png": "[encoded data removed]",
      "text/plain": [
       "<Figure size 432x288 with 1 Axes>"
      ]
     },
     "metadata": {
      "needs_background": "light"
     },
     "output_type": "display_data"
    },
    {
     "data": {
      "image/png": "[encoded data removed]",
      "text/plain": [
       "<Figure size 432x288 with 1 Axes>"
      ]
     },
     "metadata": {
      "needs_background": "light"
     },
     "output_type": "display_data"
    }
   ],
   "source": [
    "# plots \n",
    "\n",
    "plots(data[1])"
   ]
  },
  {
   "cell_type": "code",
   "execution_count": 17,
   "metadata": {},
   "outputs": [
    {
     "name": "stdout",
     "output_type": "stream",
     "text": [
      "Escribiendo repo...\n"
     ]
    }
   ],
   "source": [
    "# repo\n",
    "\n",
    "repo(data[0])"
   ]
  },
  {
   "cell_type": "code",
   "execution_count": 18,
   "metadata": {},
   "outputs": [
    {
     "name": "stdout",
     "output_type": "stream",
     "text": [
      "Introduce tu gmail: yehonaga@gmail.com\n",
      "Introduce tu password: ········\n",
      "Conectado.\n",
      "A quien se lo envias? yonatan.rod.alv@gmail.com\n",
      "Mail enviado.\n"
     ]
    }
   ],
   "source": [
    "# envio mail\n",
    "\n",
    "mail(pdf_path)"
   ]
  },
  {
   "cell_type": "code",
   "execution_count": null,
   "metadata": {},
   "outputs": [],
   "source": []
  }
 ],
 "metadata": {
  "kernelspec": {
   "display_name": "Python 3",
   "language": "python",
   "name": "python3"
  },
  "language_info": {
   "codemirror_mode": {
    "name": "ipython",
    "version": 3
   },
   "file_extension": ".py",
   "mimetype": "text/x-python",
   "name": "python",
   "nbconvert_exporter": "python",
   "pygments_lexer": "ipython3",
   "version": "3.7.6"
  }
 },
 "nbformat": 4,
 "nbformat_minor": 2
}

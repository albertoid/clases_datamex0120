{
 "cells": [
  {
   "cell_type": "markdown",
   "metadata": {},
   "source": [
    "# Scavengers cha-1"
   ]
  },
  {
   "cell_type": "code",
   "execution_count": null,
   "metadata": {},
   "outputs": [],
   "source": [
    "with open('token.txt', 'r') as f:\n",
    "    acceso=f.readlines()[0].split('=')\n",
    "\n",
    "user=acceso[0]\n",
    "key=acceso[1].rstrip('\\n')"
   ]
  },
  {
   "cell_type": "code",
   "execution_count": null,
   "metadata": {},
   "outputs": [],
   "source": [
    "# https://developer.github.com/v3/guides/"
   ]
  },
  {
   "cell_type": "code",
   "execution_count": null,
   "metadata": {},
   "outputs": [],
   "source": [
    "import json\n",
    "import requests\n",
    "import pandas as pd\n",
    "import time"
   ]
  },
  {
   "cell_type": "code",
   "execution_count": null,
   "metadata": {},
   "outputs": [],
   "source": [
    "repo='ironhack-datalabs/madrid-oct-2018'\n",
    "\n",
    "get_forks='http://api.github.com/repos/'+ repo +'/forks'"
   ]
  },
  {
   "cell_type": "code",
   "execution_count": null,
   "metadata": {},
   "outputs": [],
   "source": [
    "res_fork=requests.get(get_forks, auth=(user, key))\n",
    "\n",
    "res=res_fork.json()"
   ]
  },
  {
   "cell_type": "code",
   "execution_count": null,
   "metadata": {},
   "outputs": [],
   "source": [
    "res[0].keys()"
   ]
  },
  {
   "cell_type": "code",
   "execution_count": null,
   "metadata": {},
   "outputs": [],
   "source": [
    "languages=set()\n",
    "\n",
    "for i in range(len(res)):\n",
    "    languages.add(res[i]['language'])\n",
    "\n",
    "print(languages)"
   ]
  },
  {
   "cell_type": "code",
   "execution_count": null,
   "metadata": {},
   "outputs": [],
   "source": [
    "lan=[]\n",
    "\n",
    "for i in range(len(res)):\n",
    "    lan.append(res[i]['language'])\n",
    "    \n",
    "set(lan)"
   ]
  },
  {
   "cell_type": "markdown",
   "metadata": {},
   "source": [
    "# Scavengers cha-2"
   ]
  },
  {
   "cell_type": "code",
   "execution_count": null,
   "metadata": {},
   "outputs": [],
   "source": [
    "repo='YonatanRA/clases_datamex0120'\n",
    "\n",
    "desde='2020-01-01T00:00:00Z'\n",
    "hasta='2020-01-31T23:59:59Z'"
   ]
  },
  {
   "cell_type": "code",
   "execution_count": null,
   "metadata": {},
   "outputs": [],
   "source": [
    "get_commits='http://api.github.com/repos/{}/commits?since={}&until={}'.format(repo, desde, hasta)\n",
    "\n",
    "res_commit=requests.get(get_commits, auth=(user, key))\n",
    "results_commit=res_commit.json()"
   ]
  },
  {
   "cell_type": "code",
   "execution_count": null,
   "metadata": {},
   "outputs": [],
   "source": [
    "commits=[]\n",
    "for i in range(len(results_commit)):\n",
    "    commits.append(results_commit[i]['committer'])\n",
    "\n",
    "print(len(commits)) "
   ]
  },
  {
   "cell_type": "markdown",
   "metadata": {},
   "source": [
    "# Scavengers cha-3 V1"
   ]
  },
  {
   "cell_type": "code",
   "execution_count": null,
   "metadata": {},
   "outputs": [],
   "source": [
    "repo='ironhack-datalabs/scavenger'"
   ]
  },
  {
   "cell_type": "code",
   "execution_count": null,
   "metadata": {},
   "outputs": [],
   "source": [
    "get_repo='http://api.github.com/repos/{}/git/trees/master?recursive=1'.format(repo)\n",
    "\n",
    "get_repo=requests.get(get_repo, auth=(user, key))\n",
    "res=get_repo.json()\n",
    "res['tree']"
   ]
  },
  {
   "cell_type": "code",
   "execution_count": null,
   "metadata": {},
   "outputs": [],
   "source": [
    "res['tree'][7]['path']"
   ]
  },
  {
   "cell_type": "code",
   "execution_count": null,
   "metadata": {},
   "outputs": [],
   "source": [
    "url='https://api.github.com/repos/ironhack-datalabs/scavenger/contents/'\n",
    "\n",
    "tree=res['tree']\n",
    "\n",
    "archivos=[]\n",
    "for i in range(len(tree)):\n",
    "    if tree[i]['type']=='blob' and 'scavengerhunt' in tree[i]['path']:\n",
    "        #obtengo el path y el contenido del archivo\n",
    "        get_contenido=requests.get(url + tree[i]['path'], auth=(user, key))\n",
    "        contenido=get_contenido.json()\n",
    "        archivos.append((contenido['name'], contenido['content']))\n",
    "        time.sleep(1)\n",
    "print (archivos)"
   ]
  },
  {
   "cell_type": "code",
   "execution_count": null,
   "metadata": {},
   "outputs": [],
   "source": [
    "archivos.sort()\n",
    "\n",
    "import base64\n",
    "frase=''\n",
    "for texto in archivos:\n",
    "    frase+=str(base64.b64decode(texto[1]))\n",
    "\n",
    "#La frase buscada es:\n",
    "frase=frase.replace('b\\'', '').replace('\\\\n\\'', ' ')\n",
    "frase"
   ]
  },
  {
   "cell_type": "markdown",
   "metadata": {},
   "source": [
    "# Scavengers cha-3 V2"
   ]
  },
  {
   "cell_type": "code",
   "execution_count": null,
   "metadata": {},
   "outputs": [],
   "source": [
    "def get_auth(url, headers={'Authorization':'token {}'.format(key)}):\n",
    "    baseURL='https://api.github.com{}'.format(url)\n",
    "    res=requests.get(baseURL, headers=headers, auth=(user, key))\n",
    "    return res.json()"
   ]
  },
  {
   "cell_type": "code",
   "execution_count": null,
   "metadata": {},
   "outputs": [],
   "source": [
    "data=get_auth('/search/code?q=extension:.scavengerhunt repo:ironhack-datalabs/scavenger')"
   ]
  },
  {
   "cell_type": "code",
   "execution_count": null,
   "metadata": {},
   "outputs": [],
   "source": [
    "data['items'][0]['name']"
   ]
  },
  {
   "cell_type": "code",
   "execution_count": null,
   "metadata": {},
   "outputs": [],
   "source": [
    "files=[(e['name'], e['path']) for e in data['items']]\n",
    "files[2]"
   ]
  },
  {
   "cell_type": "code",
   "execution_count": null,
   "metadata": {},
   "outputs": [],
   "source": [
    "formated=[(e[0], 'https://githubusercontent.com/ironhack-datalabs/scavenger/master/{}'.format(e[1])) for e in files]\n",
    "formated"
   ]
  },
  {
   "cell_type": "code",
   "execution_count": null,
   "metadata": {},
   "outputs": [],
   "source": [
    "urls=[e[1] for e in sorted(formated, key=lambda x: x[0])]\n",
    "urls"
   ]
  },
  {
   "cell_type": "code",
   "execution_count": null,
   "metadata": {},
   "outputs": [],
   "source": [
    "lst=[requests.get(e, auth=(user, key)).text for e in urls]\n",
    "' '.join(lst)"
   ]
  },
  {
   "cell_type": "markdown",
   "metadata": {},
   "source": [
    "# Web Scrap"
   ]
  },
  {
   "cell_type": "code",
   "execution_count": null,
   "metadata": {},
   "outputs": [],
   "source": [
    "import requests"
   ]
  },
  {
   "cell_type": "code",
   "execution_count": null,
   "metadata": {},
   "outputs": [],
   "source": [
    "url='https://www.reuters.com/article/us-shazam-m-a-apple/apple-completes-deal-to-buy-shazam-idUSKCN1M4202'"
   ]
  },
  {
   "cell_type": "code",
   "execution_count": null,
   "metadata": {},
   "outputs": [],
   "source": [
    "html=requests.get(url).content\n",
    "p=html[:600].decode()\n",
    "p.encode()"
   ]
  },
  {
   "cell_type": "code",
   "execution_count": null,
   "metadata": {},
   "outputs": [],
   "source": [
    "!pip3 install beautifulsoup4"
   ]
  },
  {
   "cell_type": "code",
   "execution_count": null,
   "metadata": {},
   "outputs": [],
   "source": [
    "from bs4 import BeautifulSoup as bs"
   ]
  },
  {
   "cell_type": "code",
   "execution_count": null,
   "metadata": {},
   "outputs": [],
   "source": [
    "soup=bs(html, 'lxml')\n",
    "soup"
   ]
  },
  {
   "cell_type": "code",
   "execution_count": null,
   "metadata": {},
   "outputs": [],
   "source": [
    "tags=['h1', 'h2', 'h3', 'h4', 'h5', 'h6', 'h7', 'p']\n",
    "\n",
    "text=[e.text for e in soup.find_all(tags)]\n",
    "text"
   ]
  },
  {
   "cell_type": "code",
   "execution_count": null,
   "metadata": {},
   "outputs": [],
   "source": [
    "'\\n'.join(text)"
   ]
  },
  {
   "cell_type": "code",
   "execution_count": null,
   "metadata": {},
   "outputs": [],
   "source": [
    "url='https://en.wikipedia.org/wiki/List_of_European_countries_by_life_expectancy'"
   ]
  },
  {
   "cell_type": "code",
   "execution_count": null,
   "metadata": {},
   "outputs": [],
   "source": [
    "html=requests.get(url).content\n",
    "soup=bs(html, 'lxml')"
   ]
  },
  {
   "cell_type": "code",
   "execution_count": null,
   "metadata": {},
   "outputs": [],
   "source": [
    "table=soup.find_all('table', {'class':'sortable wikitable'})[0]\n",
    "table"
   ]
  },
  {
   "cell_type": "code",
   "execution_count": null,
   "metadata": {},
   "outputs": [],
   "source": [
    "rows=table.find_all('tr')\n",
    "rows=[r.text.strip().split('\\n') for r in rows]\n",
    "\n",
    "final=[]\n",
    "for e in rows:\n",
    "    tmp=[]\n",
    "    for st in e:\n",
    "        if st!='':\n",
    "            tmp.append(st)\n",
    "    final.append(tmp)\n",
    "final"
   ]
  },
  {
   "cell_type": "code",
   "execution_count": null,
   "metadata": {},
   "outputs": [],
   "source": [
    "import pandas as pd\n",
    "\n",
    "col_names=final[0]\n",
    "data=final[1:]\n",
    "df=pd.DataFrame(data, columns=col_names)\n",
    "df"
   ]
  },
  {
   "cell_type": "code",
   "execution_count": null,
   "metadata": {},
   "outputs": [],
   "source": [
    "# otra wiki\n",
    "url='https://es.wikipedia.org/wiki/Juegos_Ol%C3%ADmpicos_de_Barcelona_1992'\n",
    "res=requests.get(url)"
   ]
  },
  {
   "cell_type": "code",
   "execution_count": null,
   "metadata": {},
   "outputs": [],
   "source": [
    "data=res.text\n",
    "soup=bs(data, 'html.parser')\n",
    "soup"
   ]
  },
  {
   "cell_type": "code",
   "execution_count": null,
   "metadata": {},
   "outputs": [],
   "source": [
    "tables=soup.find_all('table')\n",
    "ultima=tables[-1]\n",
    "ultima"
   ]
  },
  {
   "cell_type": "code",
   "execution_count": null,
   "metadata": {},
   "outputs": [],
   "source": [
    "elem=ultima.find_all('a')[0]\n",
    "elem.text"
   ]
  },
  {
   "cell_type": "code",
   "execution_count": null,
   "metadata": {},
   "outputs": [],
   "source": [
    "elem.attrs"
   ]
  },
  {
   "cell_type": "code",
   "execution_count": null,
   "metadata": {},
   "outputs": [],
   "source": [
    "elem.attrs['href']"
   ]
  },
  {
   "cell_type": "code",
   "execution_count": null,
   "metadata": {},
   "outputs": [],
   "source": [
    "medallero=soup.find_all('table')[-4]\n",
    "medallero"
   ]
  },
  {
   "cell_type": "code",
   "execution_count": null,
   "metadata": {},
   "outputs": [],
   "source": [
    "med_paises=[]\n",
    "\n",
    "for f in medallero.find_all('tr'):\n",
    "    fila=[e for e in f.find_all('td')]\n",
    "    if len(fila)>0:\n",
    "        pais={'nombre': fila[1].find('a').text.strip(),\n",
    "              'oros':int(fila[2].text),\n",
    "              'platas':int(fila[3].text),\n",
    "              'bronces':int(fila[4].text)}\n",
    "        med_paises.append(pais)\n",
    "        \n",
    "med_paises"
   ]
  },
  {
   "cell_type": "code",
   "execution_count": null,
   "metadata": {},
   "outputs": [],
   "source": [
    "sum([p['oros'] for p in med_paises])"
   ]
  },
  {
   "cell_type": "code",
   "execution_count": null,
   "metadata": {},
   "outputs": [],
   "source": [
    "df=pd.DataFrame(med_paises)\n",
    "df"
   ]
  },
  {
   "cell_type": "code",
   "execution_count": null,
   "metadata": {},
   "outputs": [],
   "source": [
    "res=requests.get('https://www.emsc-csem.org/Earthquake/')\n",
    "res.status_code"
   ]
  },
  {
   "cell_type": "code",
   "execution_count": null,
   "metadata": {},
   "outputs": [],
   "source": [
    "soup=bs(res.text.encode('utf-8'))\n",
    "soup"
   ]
  },
  {
   "cell_type": "code",
   "execution_count": null,
   "metadata": {},
   "outputs": [],
   "source": [
    "import unidecode\n",
    "\n",
    "t=soup.select('#tbody tr')\n",
    "m=t[0].select('td')\n",
    "m"
   ]
  },
  {
   "cell_type": "code",
   "execution_count": null,
   "metadata": {},
   "outputs": [],
   "source": [
    "earthquake={'date':m[3].find('a').text,\n",
    "            'region':m[-2].text,\n",
    "            'lat':m[4].text+m[5].text,\n",
    "            'lng':m[6].text+m[7].text}\n",
    "\n",
    "earthquake={k:unidecode.unidecode(v).strip() for k,v in earthquake.items()}\n",
    "\n",
    "type(earthquake)"
   ]
  },
  {
   "cell_type": "code",
   "execution_count": null,
   "metadata": {},
   "outputs": [],
   "source": [
    "df=pd.DataFrame([earthquake])\n",
    "df"
   ]
  },
  {
   "cell_type": "code",
   "execution_count": null,
   "metadata": {},
   "outputs": [],
   "source": [
    "t=soup.select('#tbody tr')\n",
    "print (len(t))\n",
    "earth=[]\n",
    "\n",
    "for i in range(len(t)):\n",
    "    m=t[i].select('td')\n",
    "\n",
    "\n",
    "    earthquake={'date':m[3].find('a').text,\n",
    "                'region':m[-2].text,\n",
    "                'lat':m[4].text+m[5].text,\n",
    "                'lng':m[6].text+m[7].text}\n",
    "\n",
    "    earthquake={k:unidecode.unidecode(v).strip() for k,v in earthquake.items()}\n",
    "    earth.append(earthquake)\n",
    "    \n",
    "    \n",
    "df=pd.DataFrame(earth)\n",
    "df\n"
   ]
  },
  {
   "cell_type": "code",
   "execution_count": null,
   "metadata": {},
   "outputs": [],
   "source": [
    "# crypto\n",
    "\n",
    "url='https://es.wikipedia.org/wiki/Criptomoneda'"
   ]
  },
  {
   "cell_type": "code",
   "execution_count": null,
   "metadata": {},
   "outputs": [],
   "source": [
    "res=requests.get(url)\n",
    "res.text"
   ]
  },
  {
   "cell_type": "code",
   "execution_count": null,
   "metadata": {},
   "outputs": [],
   "source": [
    "soup=bs(res.text, 'html.parser')\n",
    "soup.title.text"
   ]
  },
  {
   "cell_type": "code",
   "execution_count": null,
   "metadata": {},
   "outputs": [],
   "source": [
    "soup.find_all('td')"
   ]
  },
  {
   "cell_type": "code",
   "execution_count": null,
   "metadata": {},
   "outputs": [],
   "source": [
    "lst_elem=soup.select('tr td a')\n",
    "lst_elem[0]"
   ]
  },
  {
   "cell_type": "code",
   "execution_count": null,
   "metadata": {},
   "outputs": [],
   "source": [
    "for e in lst_elem:\n",
    "    print (e.text, e.attrs['href'])"
   ]
  },
  {
   "cell_type": "code",
   "execution_count": null,
   "metadata": {},
   "outputs": [],
   "source": [
    "sel=soup.select('table:nth-of-type(1) tr')[1:-2]\n",
    "list(map(lambda x:x.findChildren()[0].text.rstrip(), sel))"
   ]
  },
  {
   "cell_type": "code",
   "execution_count": null,
   "metadata": {},
   "outputs": [],
   "source": []
  }
 ],
 "metadata": {
  "kernelspec": {
   "display_name": "Python 3",
   "language": "python",
   "name": "python3"
  },
  "language_info": {
   "codemirror_mode": {
    "name": "ipython",
    "version": 3
   },
   "file_extension": ".py",
   "mimetype": "text/x-python",
   "name": "python",
   "nbconvert_exporter": "python",
   "pygments_lexer": "ipython3",
   "version": "3.7.6"
  }
 },
 "nbformat": 4,
 "nbformat_minor": 2
}

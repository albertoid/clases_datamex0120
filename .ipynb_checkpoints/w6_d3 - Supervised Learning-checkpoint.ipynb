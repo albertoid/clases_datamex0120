{
 "cells": [
  {
   "cell_type": "markdown",
   "metadata": {},
   "source": [
    "# Lasso, Ridge, ElasticNet"
   ]
  },
  {
   "cell_type": "code",
   "execution_count": 1,
   "metadata": {},
   "outputs": [],
   "source": [
    "import pandas as pd\n",
    "\n",
    "from sklearn.datasets import load_boston\n",
    "from sklearn.model_selection import train_test_split\n",
    "\n",
    "from sklearn.linear_model import LinearRegression\n",
    "from sklearn.linear_model import Lasso\n",
    "from sklearn.linear_model import Ridge\n",
    "from sklearn.linear_model import ElasticNet"
   ]
  },
  {
   "cell_type": "code",
   "execution_count": 3,
   "metadata": {},
   "outputs": [],
   "source": [
    "boston=load_boston()\n"
   ]
  },
  {
   "cell_type": "code",
   "execution_count": 5,
   "metadata": {},
   "outputs": [
    {
     "data": {
      "text/html": [
       "<div>\n",
       "<style scoped>\n",
       "    .dataframe tbody tr th:only-of-type {\n",
       "        vertical-align: middle;\n",
       "    }\n",
       "\n",
       "    .dataframe tbody tr th {\n",
       "        vertical-align: top;\n",
       "    }\n",
       "\n",
       "    .dataframe thead th {\n",
       "        text-align: right;\n",
       "    }\n",
       "</style>\n",
       "<table border=\"1\" class=\"dataframe\">\n",
       "  <thead>\n",
       "    <tr style=\"text-align: right;\">\n",
       "      <th></th>\n",
       "      <th>CRIM</th>\n",
       "      <th>ZN</th>\n",
       "      <th>INDUS</th>\n",
       "      <th>CHAS</th>\n",
       "      <th>NOX</th>\n",
       "      <th>RM</th>\n",
       "      <th>AGE</th>\n",
       "      <th>DIS</th>\n",
       "      <th>RAD</th>\n",
       "      <th>TAX</th>\n",
       "      <th>PTRATIO</th>\n",
       "      <th>B</th>\n",
       "      <th>LSTAT</th>\n",
       "    </tr>\n",
       "  </thead>\n",
       "  <tbody>\n",
       "    <tr>\n",
       "      <th>0</th>\n",
       "      <td>0.00632</td>\n",
       "      <td>18.0</td>\n",
       "      <td>2.31</td>\n",
       "      <td>0.0</td>\n",
       "      <td>0.538</td>\n",
       "      <td>6.575</td>\n",
       "      <td>65.2</td>\n",
       "      <td>4.0900</td>\n",
       "      <td>1.0</td>\n",
       "      <td>296.0</td>\n",
       "      <td>15.3</td>\n",
       "      <td>396.90</td>\n",
       "      <td>4.98</td>\n",
       "    </tr>\n",
       "    <tr>\n",
       "      <th>1</th>\n",
       "      <td>0.02731</td>\n",
       "      <td>0.0</td>\n",
       "      <td>7.07</td>\n",
       "      <td>0.0</td>\n",
       "      <td>0.469</td>\n",
       "      <td>6.421</td>\n",
       "      <td>78.9</td>\n",
       "      <td>4.9671</td>\n",
       "      <td>2.0</td>\n",
       "      <td>242.0</td>\n",
       "      <td>17.8</td>\n",
       "      <td>396.90</td>\n",
       "      <td>9.14</td>\n",
       "    </tr>\n",
       "    <tr>\n",
       "      <th>2</th>\n",
       "      <td>0.02729</td>\n",
       "      <td>0.0</td>\n",
       "      <td>7.07</td>\n",
       "      <td>0.0</td>\n",
       "      <td>0.469</td>\n",
       "      <td>7.185</td>\n",
       "      <td>61.1</td>\n",
       "      <td>4.9671</td>\n",
       "      <td>2.0</td>\n",
       "      <td>242.0</td>\n",
       "      <td>17.8</td>\n",
       "      <td>392.83</td>\n",
       "      <td>4.03</td>\n",
       "    </tr>\n",
       "    <tr>\n",
       "      <th>3</th>\n",
       "      <td>0.03237</td>\n",
       "      <td>0.0</td>\n",
       "      <td>2.18</td>\n",
       "      <td>0.0</td>\n",
       "      <td>0.458</td>\n",
       "      <td>6.998</td>\n",
       "      <td>45.8</td>\n",
       "      <td>6.0622</td>\n",
       "      <td>3.0</td>\n",
       "      <td>222.0</td>\n",
       "      <td>18.7</td>\n",
       "      <td>394.63</td>\n",
       "      <td>2.94</td>\n",
       "    </tr>\n",
       "    <tr>\n",
       "      <th>4</th>\n",
       "      <td>0.06905</td>\n",
       "      <td>0.0</td>\n",
       "      <td>2.18</td>\n",
       "      <td>0.0</td>\n",
       "      <td>0.458</td>\n",
       "      <td>7.147</td>\n",
       "      <td>54.2</td>\n",
       "      <td>6.0622</td>\n",
       "      <td>3.0</td>\n",
       "      <td>222.0</td>\n",
       "      <td>18.7</td>\n",
       "      <td>396.90</td>\n",
       "      <td>5.33</td>\n",
       "    </tr>\n",
       "  </tbody>\n",
       "</table>\n",
       "</div>"
      ],
      "text/plain": [
       "      CRIM    ZN  INDUS  CHAS    NOX     RM   AGE     DIS  RAD    TAX  \\\n",
       "0  0.00632  18.0   2.31   0.0  0.538  6.575  65.2  4.0900  1.0  296.0   \n",
       "1  0.02731   0.0   7.07   0.0  0.469  6.421  78.9  4.9671  2.0  242.0   \n",
       "2  0.02729   0.0   7.07   0.0  0.469  7.185  61.1  4.9671  2.0  242.0   \n",
       "3  0.03237   0.0   2.18   0.0  0.458  6.998  45.8  6.0622  3.0  222.0   \n",
       "4  0.06905   0.0   2.18   0.0  0.458  7.147  54.2  6.0622  3.0  222.0   \n",
       "\n",
       "   PTRATIO       B  LSTAT  \n",
       "0     15.3  396.90   4.98  \n",
       "1     17.8  396.90   9.14  \n",
       "2     17.8  392.83   4.03  \n",
       "3     18.7  394.63   2.94  \n",
       "4     18.7  396.90   5.33  "
      ]
     },
     "execution_count": 5,
     "metadata": {},
     "output_type": "execute_result"
    }
   ],
   "source": [
    "df=pd.DataFrame(boston.data, columns=boston.feature_names)\n",
    "df.head()"
   ]
  },
  {
   "cell_type": "code",
   "execution_count": 6,
   "metadata": {},
   "outputs": [
    {
     "data": {
      "text/html": [
       "<div>\n",
       "<style scoped>\n",
       "    .dataframe tbody tr th:only-of-type {\n",
       "        vertical-align: middle;\n",
       "    }\n",
       "\n",
       "    .dataframe tbody tr th {\n",
       "        vertical-align: top;\n",
       "    }\n",
       "\n",
       "    .dataframe thead th {\n",
       "        text-align: right;\n",
       "    }\n",
       "</style>\n",
       "<table border=\"1\" class=\"dataframe\">\n",
       "  <thead>\n",
       "    <tr style=\"text-align: right;\">\n",
       "      <th></th>\n",
       "      <th>CRIM</th>\n",
       "      <th>ZN</th>\n",
       "      <th>INDUS</th>\n",
       "      <th>CHAS</th>\n",
       "      <th>NOX</th>\n",
       "      <th>RM</th>\n",
       "      <th>AGE</th>\n",
       "      <th>DIS</th>\n",
       "      <th>RAD</th>\n",
       "      <th>TAX</th>\n",
       "      <th>PTRATIO</th>\n",
       "      <th>B</th>\n",
       "      <th>LSTAT</th>\n",
       "      <th>price</th>\n",
       "    </tr>\n",
       "  </thead>\n",
       "  <tbody>\n",
       "    <tr>\n",
       "      <th>0</th>\n",
       "      <td>0.00632</td>\n",
       "      <td>18.0</td>\n",
       "      <td>2.31</td>\n",
       "      <td>0.0</td>\n",
       "      <td>0.538</td>\n",
       "      <td>6.575</td>\n",
       "      <td>65.2</td>\n",
       "      <td>4.0900</td>\n",
       "      <td>1.0</td>\n",
       "      <td>296.0</td>\n",
       "      <td>15.3</td>\n",
       "      <td>396.90</td>\n",
       "      <td>4.98</td>\n",
       "      <td>24.0</td>\n",
       "    </tr>\n",
       "    <tr>\n",
       "      <th>1</th>\n",
       "      <td>0.02731</td>\n",
       "      <td>0.0</td>\n",
       "      <td>7.07</td>\n",
       "      <td>0.0</td>\n",
       "      <td>0.469</td>\n",
       "      <td>6.421</td>\n",
       "      <td>78.9</td>\n",
       "      <td>4.9671</td>\n",
       "      <td>2.0</td>\n",
       "      <td>242.0</td>\n",
       "      <td>17.8</td>\n",
       "      <td>396.90</td>\n",
       "      <td>9.14</td>\n",
       "      <td>21.6</td>\n",
       "    </tr>\n",
       "    <tr>\n",
       "      <th>2</th>\n",
       "      <td>0.02729</td>\n",
       "      <td>0.0</td>\n",
       "      <td>7.07</td>\n",
       "      <td>0.0</td>\n",
       "      <td>0.469</td>\n",
       "      <td>7.185</td>\n",
       "      <td>61.1</td>\n",
       "      <td>4.9671</td>\n",
       "      <td>2.0</td>\n",
       "      <td>242.0</td>\n",
       "      <td>17.8</td>\n",
       "      <td>392.83</td>\n",
       "      <td>4.03</td>\n",
       "      <td>34.7</td>\n",
       "    </tr>\n",
       "    <tr>\n",
       "      <th>3</th>\n",
       "      <td>0.03237</td>\n",
       "      <td>0.0</td>\n",
       "      <td>2.18</td>\n",
       "      <td>0.0</td>\n",
       "      <td>0.458</td>\n",
       "      <td>6.998</td>\n",
       "      <td>45.8</td>\n",
       "      <td>6.0622</td>\n",
       "      <td>3.0</td>\n",
       "      <td>222.0</td>\n",
       "      <td>18.7</td>\n",
       "      <td>394.63</td>\n",
       "      <td>2.94</td>\n",
       "      <td>33.4</td>\n",
       "    </tr>\n",
       "    <tr>\n",
       "      <th>4</th>\n",
       "      <td>0.06905</td>\n",
       "      <td>0.0</td>\n",
       "      <td>2.18</td>\n",
       "      <td>0.0</td>\n",
       "      <td>0.458</td>\n",
       "      <td>7.147</td>\n",
       "      <td>54.2</td>\n",
       "      <td>6.0622</td>\n",
       "      <td>3.0</td>\n",
       "      <td>222.0</td>\n",
       "      <td>18.7</td>\n",
       "      <td>396.90</td>\n",
       "      <td>5.33</td>\n",
       "      <td>36.2</td>\n",
       "    </tr>\n",
       "  </tbody>\n",
       "</table>\n",
       "</div>"
      ],
      "text/plain": [
       "      CRIM    ZN  INDUS  CHAS    NOX     RM   AGE     DIS  RAD    TAX  \\\n",
       "0  0.00632  18.0   2.31   0.0  0.538  6.575  65.2  4.0900  1.0  296.0   \n",
       "1  0.02731   0.0   7.07   0.0  0.469  6.421  78.9  4.9671  2.0  242.0   \n",
       "2  0.02729   0.0   7.07   0.0  0.469  7.185  61.1  4.9671  2.0  242.0   \n",
       "3  0.03237   0.0   2.18   0.0  0.458  6.998  45.8  6.0622  3.0  222.0   \n",
       "4  0.06905   0.0   2.18   0.0  0.458  7.147  54.2  6.0622  3.0  222.0   \n",
       "\n",
       "   PTRATIO       B  LSTAT  price  \n",
       "0     15.3  396.90   4.98   24.0  \n",
       "1     17.8  396.90   9.14   21.6  \n",
       "2     17.8  392.83   4.03   34.7  \n",
       "3     18.7  394.63   2.94   33.4  \n",
       "4     18.7  396.90   5.33   36.2  "
      ]
     },
     "execution_count": 6,
     "metadata": {},
     "output_type": "execute_result"
    }
   ],
   "source": [
    "df['price']=boston.target\n",
    "df.head()"
   ]
  },
  {
   "cell_type": "code",
   "execution_count": 7,
   "metadata": {},
   "outputs": [],
   "source": [
    "X=df.drop('price', axis=1)\n",
    "y=df.price"
   ]
  },
  {
   "cell_type": "code",
   "execution_count": 8,
   "metadata": {},
   "outputs": [],
   "source": [
    "X_train, X_test, y_train, y_test=train_test_split(X,y, test_size=0.2)"
   ]
  },
  {
   "cell_type": "code",
   "execution_count": 9,
   "metadata": {},
   "outputs": [
    {
     "data": {
      "text/plain": [
       "LinearRegression(copy_X=True, fit_intercept=True, n_jobs=None, normalize=False)"
      ]
     },
     "execution_count": 9,
     "metadata": {},
     "output_type": "execute_result"
    }
   ],
   "source": [
    "#modelos\n",
    "\n",
    "linreg=LinearRegression()\n",
    "linreg.fit(X_train, y_train)"
   ]
  },
  {
   "cell_type": "code",
   "execution_count": 10,
   "metadata": {},
   "outputs": [
    {
     "data": {
      "text/plain": [
       "Lasso(alpha=1.0, copy_X=True, fit_intercept=True, max_iter=1000,\n",
       "      normalize=False, positive=False, precompute=False, random_state=None,\n",
       "      selection='cyclic', tol=0.0001, warm_start=False)"
      ]
     },
     "execution_count": 10,
     "metadata": {},
     "output_type": "execute_result"
    }
   ],
   "source": [
    "lasso=Lasso()\n",
    "lasso.fit(X_train, y_train)"
   ]
  },
  {
   "cell_type": "code",
   "execution_count": 11,
   "metadata": {},
   "outputs": [
    {
     "data": {
      "text/plain": [
       "Ridge(alpha=1.0, copy_X=True, fit_intercept=True, max_iter=None,\n",
       "      normalize=False, random_state=None, solver='auto', tol=0.001)"
      ]
     },
     "execution_count": 11,
     "metadata": {},
     "output_type": "execute_result"
    }
   ],
   "source": [
    "ridge=Ridge()\n",
    "ridge.fit(X_train, y_train)"
   ]
  },
  {
   "cell_type": "code",
   "execution_count": 12,
   "metadata": {},
   "outputs": [
    {
     "data": {
      "text/plain": [
       "ElasticNet(alpha=1.0, copy_X=True, fit_intercept=True, l1_ratio=0.5,\n",
       "           max_iter=1000, normalize=False, positive=False, precompute=False,\n",
       "           random_state=None, selection='cyclic', tol=0.0001, warm_start=False)"
      ]
     },
     "execution_count": 12,
     "metadata": {},
     "output_type": "execute_result"
    }
   ],
   "source": [
    "elastic=ElasticNet()\n",
    "elastic.fit(X_train, y_train)"
   ]
  },
  {
   "cell_type": "code",
   "execution_count": 13,
   "metadata": {},
   "outputs": [
    {
     "name": "stdout",
     "output_type": "stream",
     "text": [
      "0.720587035208675 0.7750368224678431\n"
     ]
    }
   ],
   "source": [
    "train_score=linreg.score(X_train, y_train)    # R2\n",
    "test_score=linreg.score(X_test, y_test)\n",
    "print (train_score, test_score)"
   ]
  },
  {
   "cell_type": "code",
   "execution_count": 14,
   "metadata": {},
   "outputs": [
    {
     "name": "stdout",
     "output_type": "stream",
     "text": [
      "0.6550679482210249 0.6370548162738527\n"
     ]
    }
   ],
   "source": [
    "train_score=lasso.score(X_train, y_train)\n",
    "test_score=lasso.score(X_test, y_test)\n",
    "print (train_score, test_score)"
   ]
  },
  {
   "cell_type": "code",
   "execution_count": 15,
   "metadata": {},
   "outputs": [
    {
     "name": "stdout",
     "output_type": "stream",
     "text": [
      "0.7179823115349706 0.773783924687844\n"
     ]
    }
   ],
   "source": [
    "train_score=ridge.score(X_train, y_train)\n",
    "test_score=ridge.score(X_test, y_test)\n",
    "print (train_score, test_score)"
   ]
  },
  {
   "cell_type": "code",
   "execution_count": 16,
   "metadata": {},
   "outputs": [
    {
     "name": "stdout",
     "output_type": "stream",
     "text": [
      "0.670763147899029 0.6674443935383241\n"
     ]
    }
   ],
   "source": [
    "train_score=elastic.score(X_train, y_train)\n",
    "test_score=elastic.score(X_test, y_test)\n",
    "print (train_score, test_score)"
   ]
  },
  {
   "cell_type": "markdown",
   "metadata": {},
   "source": [
    "# SVR"
   ]
  },
  {
   "cell_type": "code",
   "execution_count": 18,
   "metadata": {},
   "outputs": [
    {
     "name": "stdout",
     "output_type": "stream",
     "text": [
      "0.15557322924925565 -0.116632472950426\n"
     ]
    }
   ],
   "source": [
    "import warnings\n",
    "warnings.simplefilter('ignore')\n",
    "\n",
    "from sklearn.svm import SVR\n",
    "\n",
    "svr=SVR()\n",
    "svr.fit(X_train, y_train)\n",
    "\n",
    "train_score=svr.score(X_train, y_train)\n",
    "test_score=svr.score(X_test, y_test)\n",
    "print (train_score, test_score)"
   ]
  },
  {
   "cell_type": "markdown",
   "metadata": {},
   "source": [
    "# Random Forest Regressor"
   ]
  },
  {
   "cell_type": "code",
   "execution_count": 19,
   "metadata": {},
   "outputs": [
    {
     "name": "stdout",
     "output_type": "stream",
     "text": [
      "0.9685342658969299 0.8895110278018619\n"
     ]
    }
   ],
   "source": [
    "from sklearn.ensemble import RandomForestRegressor as RFR\n",
    "\n",
    "rf=RFR()\n",
    "rf.fit(X_train, y_train)\n",
    "\n",
    "train_score=rf.score(X_train, y_train)\n",
    "test_score=rf.score(X_test, y_test)\n",
    "print (train_score, test_score)"
   ]
  },
  {
   "cell_type": "code",
   "execution_count": 21,
   "metadata": {},
   "outputs": [],
   "source": [
    "#help(RFR())"
   ]
  },
  {
   "cell_type": "markdown",
   "metadata": {},
   "source": [
    "# GridSearching"
   ]
  },
  {
   "cell_type": "code",
   "execution_count": 22,
   "metadata": {},
   "outputs": [],
   "source": [
    "from sklearn.model_selection import GridSearchCV\n",
    "\n",
    "\n",
    "def grid(modelo, param, cv=5):\n",
    "    grid=GridSearchCV(modelo, param, cv=cv, \n",
    "                      iid=True, return_train_score=True, n_jobs=-1)\n",
    "    \n",
    "    grid.fit(X_train, y_train)\n",
    "    \n",
    "    print('Acierto test: {:.2f}'.format(grid.score(X_test, y_test)))\n",
    "    print('Acierto train: {:.2f}'.format(grid.score(X_train, y_train)))\n",
    "    print('Mejores parametros: {}'.format(grid.best_params_))\n",
    "    print('Mejor acierto cv: {:.2f}'.format(grid.best_score_))\n",
    "    \n",
    "    return grid.best_estimator_.fit(X_train, y_train)"
   ]
  },
  {
   "cell_type": "code",
   "execution_count": 23,
   "metadata": {},
   "outputs": [],
   "source": [
    "param={'max_leaf_nodes':[5,10,20], 'n_estimators':[10,50,100,500]}"
   ]
  },
  {
   "cell_type": "code",
   "execution_count": 24,
   "metadata": {},
   "outputs": [
    {
     "name": "stdout",
     "output_type": "stream",
     "text": [
      "Acierto test: 0.91\n",
      "Acierto train: 0.94\n",
      "Mejores parametros: {'max_leaf_nodes': 20, 'n_estimators': 50}\n",
      "Mejor acierto cv: 0.82\n"
     ]
    },
    {
     "data": {
      "text/plain": [
       "RandomForestRegressor(bootstrap=True, criterion='mse', max_depth=None,\n",
       "                      max_features='auto', max_leaf_nodes=20,\n",
       "                      min_impurity_decrease=0.0, min_impurity_split=None,\n",
       "                      min_samples_leaf=1, min_samples_split=2,\n",
       "                      min_weight_fraction_leaf=0.0, n_estimators=50,\n",
       "                      n_jobs=None, oob_score=False, random_state=None,\n",
       "                      verbose=0, warm_start=False)"
      ]
     },
     "execution_count": 24,
     "metadata": {},
     "output_type": "execute_result"
    }
   ],
   "source": [
    "grid(rf, param)"
   ]
  },
  {
   "cell_type": "code",
   "execution_count": 25,
   "metadata": {},
   "outputs": [
    {
     "name": "stdout",
     "output_type": "stream",
     "text": [
      "Acierto test: 0.91\n",
      "Acierto train: 0.93\n",
      "Mejores parametros: {'max_leaf_nodes': 20, 'n_estimators': 100}\n",
      "Mejor acierto cv: 0.82\n"
     ]
    }
   ],
   "source": [
    "modelo=grid(rf, param)"
   ]
  },
  {
   "cell_type": "code",
   "execution_count": 26,
   "metadata": {},
   "outputs": [
    {
     "data": {
      "text/plain": [
       "array([17.01216494, 43.69377832, 33.24848263, 13.39055944, 20.59528625,\n",
       "       27.5681412 , 21.24525113, 42.52350608, 22.54510166, 24.1524939 ,\n",
       "       22.40312389, 19.24554236, 25.98670672, 26.26136559, 29.77292083,\n",
       "       45.33752894, 20.6745306 , 14.69578621, 22.64591979, 20.8546063 ,\n",
       "       28.47448325, 25.98940554, 38.51934787,  9.0066527 , 15.16915515,\n",
       "       23.90366292, 23.74104243, 20.6008961 , 20.11675536, 18.79240107,\n",
       "       43.97858514, 22.52198982, 19.4771734 , 19.73855197, 26.43432452,\n",
       "       22.66922748, 33.07634735, 24.33359005, 19.61950119, 23.98277685,\n",
       "       19.95158214, 45.20306813, 46.0716324 , 35.10018375, 45.9226921 ,\n",
       "       23.86452006,  9.98257318, 22.38903048, 32.98991985, 15.46674256,\n",
       "       19.86138068, 23.97206733, 25.9386355 , 25.03195824, 20.95576707,\n",
       "       17.57286281, 33.53771076, 19.99797608, 13.76630271, 19.2975693 ,\n",
       "       19.06784898, 45.23485014, 20.75151628, 14.02579388, 20.28678185,\n",
       "       15.21886868, 23.77187433, 22.67104304, 23.84373582, 44.99155033,\n",
       "       15.75817348, 20.95729426, 30.53623219, 25.6154797 , 25.54799678,\n",
       "       16.64444107, 20.42386281, 14.95015491, 20.23754877, 11.5544946 ,\n",
       "       33.36515156, 26.76282211, 18.80380559, 44.1185382 , 25.87970183,\n",
       "       15.46113029, 15.10059659, 15.79601357, 15.54271829, 20.73967507,\n",
       "       18.46563129, 32.39509421, 17.46150443, 44.5126329 , 34.06991219,\n",
       "       33.84614483, 18.54254262, 32.57753541, 33.31133057, 12.96557965,\n",
       "        9.93284158, 13.12562252])"
      ]
     },
     "execution_count": 26,
     "metadata": {},
     "output_type": "execute_result"
    }
   ],
   "source": [
    "modelo.predict(X_test)"
   ]
  },
  {
   "cell_type": "markdown",
   "metadata": {},
   "source": [
    "# Extratrees"
   ]
  },
  {
   "cell_type": "code",
   "execution_count": 29,
   "metadata": {},
   "outputs": [
    {
     "name": "stdout",
     "output_type": "stream",
     "text": [
      "1.0 0.840286635853755\n"
     ]
    }
   ],
   "source": [
    "from sklearn.tree import ExtraTreeRegressor as ETR\n",
    "\n",
    "etr=ETR()\n",
    "etr.fit(X_train, y_train)\n",
    "\n",
    "train_score=etr.score(X_train, y_train)\n",
    "test_score=etr.score(X_test, y_test)\n",
    "print (train_score, test_score)"
   ]
  },
  {
   "cell_type": "markdown",
   "metadata": {},
   "source": [
    "# Arboles, Random Forest Classifier"
   ]
  },
  {
   "cell_type": "code",
   "execution_count": 32,
   "metadata": {},
   "outputs": [],
   "source": [
    "from sklearn.datasets import load_iris\n",
    "from sklearn.tree import DecisionTreeClassifier as DTC"
   ]
  },
  {
   "cell_type": "code",
   "execution_count": 33,
   "metadata": {},
   "outputs": [
    {
     "data": {
      "text/plain": [
       "DecisionTreeClassifier(class_weight=None, criterion='gini', max_depth=None,\n",
       "                       max_features=None, max_leaf_nodes=None,\n",
       "                       min_impurity_decrease=0.0, min_impurity_split=None,\n",
       "                       min_samples_leaf=1, min_samples_split=2,\n",
       "                       min_weight_fraction_leaf=0.0, presort=False,\n",
       "                       random_state=None, splitter='best')"
      ]
     },
     "execution_count": 33,
     "metadata": {},
     "output_type": "execute_result"
    }
   ],
   "source": [
    "dt=DTC()\n",
    "dt.fit(load_iris().data, load_iris().target)"
   ]
  },
  {
   "cell_type": "code",
   "execution_count": 36,
   "metadata": {},
   "outputs": [
    {
     "data": {
      "text/plain": [
       "[Text(418.5, 747.4499999999999, 'X[2] <= 2.45\\ngini = 0.667\\nsamples = 150\\nvalue = [50, 50, 50]'),\n",
       " Text(354.11538461538464, 611.55, 'gini = 0.0\\nsamples = 50\\nvalue = [50, 0, 0]'),\n",
       " Text(482.8846153846154, 611.55, 'X[3] <= 1.75\\ngini = 0.5\\nsamples = 100\\nvalue = [0, 50, 50]'),\n",
       " Text(257.53846153846155, 475.65, 'X[2] <= 4.95\\ngini = 0.168\\nsamples = 54\\nvalue = [0, 49, 5]'),\n",
       " Text(128.76923076923077, 339.74999999999994, 'X[3] <= 1.65\\ngini = 0.041\\nsamples = 48\\nvalue = [0, 47, 1]'),\n",
       " Text(64.38461538461539, 203.8499999999999, 'gini = 0.0\\nsamples = 47\\nvalue = [0, 47, 0]'),\n",
       " Text(193.15384615384616, 203.8499999999999, 'gini = 0.0\\nsamples = 1\\nvalue = [0, 0, 1]'),\n",
       " Text(386.3076923076923, 339.74999999999994, 'X[3] <= 1.55\\ngini = 0.444\\nsamples = 6\\nvalue = [0, 2, 4]'),\n",
       " Text(321.9230769230769, 203.8499999999999, 'gini = 0.0\\nsamples = 3\\nvalue = [0, 0, 3]'),\n",
       " Text(450.69230769230774, 203.8499999999999, 'X[2] <= 5.45\\ngini = 0.444\\nsamples = 3\\nvalue = [0, 2, 1]'),\n",
       " Text(386.3076923076923, 67.94999999999993, 'gini = 0.0\\nsamples = 2\\nvalue = [0, 2, 0]'),\n",
       " Text(515.0769230769231, 67.94999999999993, 'gini = 0.0\\nsamples = 1\\nvalue = [0, 0, 1]'),\n",
       " Text(708.2307692307693, 475.65, 'X[2] <= 4.85\\ngini = 0.043\\nsamples = 46\\nvalue = [0, 1, 45]'),\n",
       " Text(643.8461538461538, 339.74999999999994, 'X[1] <= 3.1\\ngini = 0.444\\nsamples = 3\\nvalue = [0, 1, 2]'),\n",
       " Text(579.4615384615385, 203.8499999999999, 'gini = 0.0\\nsamples = 2\\nvalue = [0, 0, 2]'),\n",
       " Text(708.2307692307693, 203.8499999999999, 'gini = 0.0\\nsamples = 1\\nvalue = [0, 1, 0]'),\n",
       " Text(772.6153846153846, 339.74999999999994, 'gini = 0.0\\nsamples = 43\\nvalue = [0, 0, 43]')]"
      ]
     },
     "execution_count": 36,
     "metadata": {},
     "output_type": "execute_result"
    },
    {
     "data": {
      "image/png": "[encoded data removed]",
      "text/plain": [
       "<Figure size 1080x1080 with 1 Axes>"
      ]
     },
     "metadata": {
      "needs_background": "light"
     },
     "output_type": "display_data"
    }
   ],
   "source": [
    "import matplotlib.pyplot as plt\n",
    "from sklearn.tree import plot_tree\n",
    "\n",
    "plt.figure(figsize=(15, 15))\n",
    "plot_tree(dt, fontsize=15)"
   ]
  },
  {
   "cell_type": "code",
   "execution_count": 37,
   "metadata": {},
   "outputs": [
    {
     "name": "stdout",
     "output_type": "stream",
     "text": [
      "0.9910714285714286 1.0\n"
     ]
    }
   ],
   "source": [
    "from sklearn.ensemble import RandomForestClassifier as RFC\n",
    "\n",
    "X_train, X_test, y_train, y_test=train_test_split(load_iris().data, load_iris().target)\n",
    "\n",
    "\n",
    "rf=RFC()\n",
    "rf.fit(X_train, y_train)\n",
    "\n",
    "train_score=rf.score(X_train, y_train)\n",
    "test_score=rf.score(X_test, y_test)\n",
    "print (train_score, test_score)"
   ]
  },
  {
   "cell_type": "markdown",
   "metadata": {},
   "source": [
    "# SVC"
   ]
  },
  {
   "cell_type": "code",
   "execution_count": 38,
   "metadata": {},
   "outputs": [
    {
     "name": "stdout",
     "output_type": "stream",
     "text": [
      "0.9821428571428571 1.0\n"
     ]
    }
   ],
   "source": [
    "from sklearn.svm import SVC\n",
    "\n",
    "svc=SVC()\n",
    "svc.fit(X_train, y_train)\n",
    "\n",
    "train_score=svc.score(X_train, y_train)\n",
    "test_score=svc.score(X_test, y_test)\n",
    "print (train_score, test_score)"
   ]
  },
  {
   "cell_type": "markdown",
   "metadata": {},
   "source": [
    "# Random GridSearching"
   ]
  },
  {
   "cell_type": "code",
   "execution_count": 44,
   "metadata": {},
   "outputs": [],
   "source": [
    "import numpy as np\n",
    "from sklearn.datasets import make_circles\n",
    "from sklearn.model_selection import RandomizedSearchCV\n",
    "from sklearn.ensemble import RandomForestClassifier as RFC\n",
    "\n",
    "\n",
    "X,y=make_circles(noise=0.2, factor=0.5, random_state=1)"
   ]
  },
  {
   "cell_type": "code",
   "execution_count": 45,
   "metadata": {},
   "outputs": [],
   "source": [
    "n_estimators=[int(x) for x in np.linspace(200, 2000, 10)]\n",
    "max_features=['auto', 'sqrt']\n",
    "max_depth=[int(x) for x in np.linspace(10, 110, 11)]\n",
    "max_depth.append(None)\n",
    "bootstrap=['True', 'False']"
   ]
  },
  {
   "cell_type": "code",
   "execution_count": 46,
   "metadata": {},
   "outputs": [],
   "source": [
    "param={'n_estimators':n_estimators,\n",
    "       'max_features':max_features,\n",
    "       'max_depth':max_depth,\n",
    "       'bootstrap':bootstrap}"
   ]
  },
  {
   "cell_type": "code",
   "execution_count": 47,
   "metadata": {},
   "outputs": [],
   "source": [
    "rf=RFC()"
   ]
  },
  {
   "cell_type": "code",
   "execution_count": 50,
   "metadata": {},
   "outputs": [
    {
     "name": "stdout",
     "output_type": "stream",
     "text": [
      "Fitting 3 folds for each of 100 candidates, totalling 300 fits\n"
     ]
    },
    {
     "name": "stderr",
     "output_type": "stream",
     "text": [
      "[Parallel(n_jobs=-1)]: Using backend LokyBackend with 12 concurrent workers.\n",
      "[Parallel(n_jobs=-1)]: Done   1 tasks      | elapsed:    4.2s\n",
      "[Parallel(n_jobs=-1)]: Done   8 tasks      | elapsed:    4.7s\n",
      "[Parallel(n_jobs=-1)]: Done  17 tasks      | elapsed:    6.3s\n",
      "[Parallel(n_jobs=-1)]: Done  26 tasks      | elapsed:    6.8s\n",
      "[Parallel(n_jobs=-1)]: Done  37 tasks      | elapsed:   11.0s\n",
      "[Parallel(n_jobs=-1)]: Done  48 tasks      | elapsed:   12.1s\n",
      "[Parallel(n_jobs=-1)]: Done  61 tasks      | elapsed:   17.7s\n",
      "[Parallel(n_jobs=-1)]: Done  74 tasks      | elapsed:   20.1s\n",
      "[Parallel(n_jobs=-1)]: Done  89 tasks      | elapsed:   26.7s\n",
      "[Parallel(n_jobs=-1)]: Done 104 tasks      | elapsed:   31.1s\n",
      "[Parallel(n_jobs=-1)]: Done 121 tasks      | elapsed:   37.1s\n",
      "[Parallel(n_jobs=-1)]: Done 138 tasks      | elapsed:   39.7s\n",
      "[Parallel(n_jobs=-1)]: Done 157 tasks      | elapsed:   45.9s\n",
      "[Parallel(n_jobs=-1)]: Done 176 tasks      | elapsed:   48.8s\n",
      "[Parallel(n_jobs=-1)]: Done 197 tasks      | elapsed:   57.3s\n",
      "[Parallel(n_jobs=-1)]: Done 218 tasks      | elapsed:  1.1min\n",
      "[Parallel(n_jobs=-1)]: Done 241 tasks      | elapsed:  1.2min\n",
      "[Parallel(n_jobs=-1)]: Done 264 tasks      | elapsed:  1.4min\n",
      "[Parallel(n_jobs=-1)]: Done 300 out of 300 | elapsed:  1.6min finished\n"
     ]
    },
    {
     "data": {
      "text/plain": [
       "RandomizedSearchCV(cv=3, error_score='raise-deprecating',\n",
       "                   estimator=RandomForestClassifier(bootstrap=True,\n",
       "                                                    class_weight=None,\n",
       "                                                    criterion='gini',\n",
       "                                                    max_depth=None,\n",
       "                                                    max_features='auto',\n",
       "                                                    max_leaf_nodes=None,\n",
       "                                                    min_impurity_decrease=0.0,\n",
       "                                                    min_impurity_split=None,\n",
       "                                                    min_samples_leaf=1,\n",
       "                                                    min_samples_split=2,\n",
       "                                                    min_weight_fraction_leaf=0.0,\n",
       "                                                    n_estimators='warn',\n",
       "                                                    n_jobs=None,\n",
       "                                                    oob_sc...\n",
       "                                                    warm_start=False),\n",
       "                   iid='warn', n_iter=100, n_jobs=-1,\n",
       "                   param_distributions={'bootstrap': ['True', 'False'],\n",
       "                                        'max_depth': [10, 20, 30, 40, 50, 60,\n",
       "                                                      70, 80, 90, 100, 110,\n",
       "                                                      None],\n",
       "                                        'max_features': ['auto', 'sqrt'],\n",
       "                                        'n_estimators': [200, 400, 600, 800,\n",
       "                                                         1000, 1200, 1400, 1600,\n",
       "                                                         1800, 2000]},\n",
       "                   pre_dispatch='2*n_jobs', random_state=None, refit=True,\n",
       "                   return_train_score=False, scoring='roc_auc', verbose=10)"
      ]
     },
     "execution_count": 50,
     "metadata": {},
     "output_type": "execute_result"
    }
   ],
   "source": [
    "rf_random=RandomizedSearchCV(estimator=rf, param_distributions=param,\n",
    "                            n_iter=100, cv=3, verbose=10, n_jobs=-1, scoring='roc_auc')\n",
    "\n",
    "rf_random.fit(X,y)"
   ]
  },
  {
   "cell_type": "code",
   "execution_count": 51,
   "metadata": {},
   "outputs": [
    {
     "data": {
      "text/plain": [
       "RandomForestClassifier(bootstrap='True', class_weight=None, criterion='gini',\n",
       "                       max_depth=90, max_features='sqrt', max_leaf_nodes=None,\n",
       "                       min_impurity_decrease=0.0, min_impurity_split=None,\n",
       "                       min_samples_leaf=1, min_samples_split=2,\n",
       "                       min_weight_fraction_leaf=0.0, n_estimators=1200,\n",
       "                       n_jobs=None, oob_score=False, random_state=None,\n",
       "                       verbose=0, warm_start=False)"
      ]
     },
     "execution_count": 51,
     "metadata": {},
     "output_type": "execute_result"
    }
   ],
   "source": [
    "rf_random.best_estimator_"
   ]
  },
  {
   "cell_type": "code",
   "execution_count": 52,
   "metadata": {},
   "outputs": [
    {
     "data": {
      "text/plain": [
       "0.8886029411764705"
      ]
     },
     "execution_count": 52,
     "metadata": {},
     "output_type": "execute_result"
    }
   ],
   "source": [
    "rf_random.best_score_"
   ]
  },
  {
   "cell_type": "code",
   "execution_count": 53,
   "metadata": {},
   "outputs": [
    {
     "data": {
      "text/plain": [
       "{'n_estimators': 1200,\n",
       " 'max_features': 'sqrt',\n",
       " 'max_depth': 90,\n",
       " 'bootstrap': 'True'}"
      ]
     },
     "execution_count": 53,
     "metadata": {},
     "output_type": "execute_result"
    }
   ],
   "source": [
    "rf_random.best_params_"
   ]
  },
  {
   "cell_type": "code",
   "execution_count": 54,
   "metadata": {},
   "outputs": [
    {
     "data": {
      "text/plain": [
       "{'mean_fit_time': array([2.75259725, 3.27384599, 2.75755874, 3.21592641, 2.39397931,\n",
       "        1.92842301, 1.43439921, 1.93445039, 5.01823576, 0.49061664,\n",
       "        5.06388545, 0.49563917, 0.49093731, 0.50152818, 3.53581301,\n",
       "        3.02043978, 4.23151835, 5.27915311, 2.12998033, 1.0693864 ,\n",
       "        4.23339764, 4.29590042, 3.25325632, 3.28926539, 2.19025962,\n",
       "        5.06055721, 4.55327765, 2.25734266, 2.29384891, 5.74801064,\n",
       "        5.15477872, 5.72916142, 2.81172069, 4.12153657, 4.74932869,\n",
       "        1.15096553, 1.78807298, 5.96000735, 1.79627275, 5.35472139,\n",
       "        4.12512374, 0.59509428, 3.58742372, 3.07793323, 3.92572037,\n",
       "        6.68685412, 0.6400973 , 1.31426589, 4.80657101, 6.24154298,\n",
       "        1.99716663, 2.80919274, 0.71125937, 1.40348927, 0.74693735,\n",
       "        2.11656729, 6.80245304, 1.40456533, 1.39337738, 6.71498203,\n",
       "        1.9924318 , 0.66354187, 5.98523736, 3.3310686 , 2.6393857 ,\n",
       "        6.64317544, 3.29614075, 5.99149386, 1.31149141, 4.78141904,\n",
       "        3.42107979, 6.77994108, 5.44890038, 2.66845298, 2.6792469 ,\n",
       "        4.811282  , 4.78004138, 5.33880758, 3.99688061, 1.97652952,\n",
       "        4.61382437, 4.62422164, 4.66097442, 1.3164924 , 2.7059238 ,\n",
       "        2.79409099, 2.14108364, 5.65119966, 7.0105323 , 5.52893893,\n",
       "        2.74224766, 4.24159932, 5.64109929, 3.50895   , 7.08376487,\n",
       "        7.10910908, 1.44180067, 5.8270394 , 0.68561117, 5.56059202]),\n",
       " 'std_fit_time': array([0.0081356 , 0.00914148, 0.01252088, 0.00534004, 0.02026361,\n",
       "        0.01757172, 0.00624598, 0.00380841, 0.00983054, 0.00010331,\n",
       "        0.02035828, 0.00622725, 0.00866465, 0.00781906, 0.00871708,\n",
       "        0.01100632, 0.00313619, 0.03167724, 0.0073653 , 0.01347059,\n",
       "        0.01705065, 0.04444833, 0.01755104, 0.00696778, 0.01156823,\n",
       "        0.03336738, 0.042749  , 0.01310143, 0.02708682, 0.01949361,\n",
       "        0.04210336, 0.01792453, 0.00627767, 0.01144063, 0.01901357,\n",
       "        0.00359376, 0.02038995, 0.05135447, 0.01287959, 0.04873776,\n",
       "        0.01232764, 0.00311418, 0.025226  , 0.03789623, 0.01924502,\n",
       "        0.03271396, 0.0066269 , 0.00963519, 0.04616388, 0.03053462,\n",
       "        0.01367738, 0.01933549, 0.00055883, 0.00265487, 0.04165772,\n",
       "        0.01631871, 0.02021086, 0.00983813, 0.01005599, 0.01239985,\n",
       "        0.00842112, 0.00683863, 0.00843277, 0.00670263, 0.02504832,\n",
       "        0.00898049, 0.00589312, 0.02449528, 0.00690296, 0.07217622,\n",
       "        0.0076073 , 0.01851959, 0.02360479, 0.0056875 , 0.07325323,\n",
       "        0.0280099 , 0.02269255, 0.03318789, 0.02413033, 0.01683406,\n",
       "        0.02396618, 0.04721199, 0.0234995 , 0.00673054, 0.00715958,\n",
       "        0.02963565, 0.02431196, 0.07130452, 0.02658884, 0.02786886,\n",
       "        0.00281845, 0.0650468 , 0.06726232, 0.02558843, 0.0315302 ,\n",
       "        0.03311277, 0.00977469, 0.04607814, 0.008807  , 0.0256724 ]),\n",
       " 'mean_score_time': array([0.14902751, 0.17495974, 0.14837368, 0.17546527, 0.13218578,\n",
       "        0.10961827, 0.07630873, 0.11209695, 0.29480124, 0.02923226,\n",
       "        0.28597848, 0.02915438, 0.03016361, 0.0292472 , 0.18410897,\n",
       "        0.15847929, 0.21717087, 0.2825369 , 0.12001808, 0.05779092,\n",
       "        0.22753175, 0.25527167, 0.18356109, 0.18109576, 0.12054674,\n",
       "        0.28405484, 0.25196203, 0.12101078, 0.13036942, 0.30951977,\n",
       "        0.281401  , 0.3284963 , 0.15216462, 0.22106663, 0.25996733,\n",
       "        0.06291199, 0.09994976, 0.31020196, 0.09680883, 0.29895965,\n",
       "        0.25907787, 0.03364849, 0.21760972, 0.2011567 , 0.23018837,\n",
       "        0.38083927, 0.03718495, 0.07607182, 0.26859832, 0.35800322,\n",
       "        0.12718097, 0.15342037, 0.03673601, 0.07827799, 0.03696187,\n",
       "        0.11679141, 0.35721803, 0.0745376 , 0.07723045, 0.35782639,\n",
       "        0.11020239, 0.03852812, 0.32275764, 0.17657749, 0.14336236,\n",
       "        0.35230096, 0.17961868, 0.33880051, 0.07358964, 0.25992393,\n",
       "        0.18267528, 0.35709794, 0.28098305, 0.1394647 , 0.1507322 ,\n",
       "        0.24314094, 0.25579866, 0.28328149, 0.21318364, 0.10669963,\n",
       "        0.24762543, 0.28551189, 0.2685976 , 0.07455564, 0.15912127,\n",
       "        0.16259964, 0.10752662, 0.29305641, 0.42417828, 0.2979126 ,\n",
       "        0.14529371, 0.23746808, 0.35388732, 0.24092706, 0.4229726 ,\n",
       "        0.34945758, 0.07261403, 0.24671094, 0.03963256, 0.24966526]),\n",
       " 'std_score_time': array([3.86823550e-03, 1.99173209e-03, 2.71422158e-03, 1.40333105e-03,\n",
       "        6.10959602e-03, 3.67973667e-03, 8.81332071e-04, 3.74509781e-03,\n",
       "        5.88404549e-03, 1.26426829e-03, 1.37079529e-02, 1.20622766e-03,\n",
       "        1.93912940e-03, 1.69268936e-03, 5.87036347e-04, 5.00733257e-05,\n",
       "        1.42278508e-03, 1.69996713e-03, 1.08214222e-02, 3.53827200e-03,\n",
       "        3.87866567e-03, 2.47768822e-02, 3.03260911e-03, 2.58648626e-03,\n",
       "        1.97777988e-03, 5.29844699e-03, 5.72346096e-03, 6.25941361e-04,\n",
       "        3.65312413e-03, 2.39073722e-03, 7.11821999e-03, 3.57431341e-02,\n",
       "        2.81013888e-03, 4.30934325e-03, 5.61742283e-03, 1.93822299e-03,\n",
       "        1.92675002e-03, 4.11157589e-03, 1.44262526e-03, 4.82943870e-03,\n",
       "        2.89853497e-02, 3.51785031e-04, 5.16216207e-03, 1.56752774e-02,\n",
       "        1.42529219e-02, 1.54878350e-02, 7.55610305e-04, 3.91963153e-03,\n",
       "        2.67900140e-02, 4.98752544e-03, 6.08229590e-03, 3.52863402e-03,\n",
       "        5.09744758e-04, 2.76976842e-03, 7.07673504e-04, 4.04087474e-03,\n",
       "        5.42974135e-03, 3.22764753e-03, 5.88375415e-04, 9.11778619e-03,\n",
       "        1.54173453e-03, 1.02649238e-03, 2.19057718e-03, 8.15010454e-04,\n",
       "        1.26269778e-03, 3.82302157e-04, 5.62259172e-03, 9.72994230e-03,\n",
       "        1.12056506e-03, 6.48632409e-03, 1.69307288e-03, 6.50401971e-03,\n",
       "        1.94111317e-03, 1.25553017e-03, 9.90284062e-03, 2.34360007e-03,\n",
       "        2.06248324e-02, 1.01915152e-03, 1.20677626e-03, 6.70577655e-04,\n",
       "        2.16265930e-03, 7.23565084e-04, 4.98138709e-03, 1.56148877e-03,\n",
       "        2.36076477e-03, 7.52684404e-04, 4.01304876e-04, 2.71300483e-02,\n",
       "        2.33153858e-02, 1.12778291e-02, 7.50990860e-03, 3.92831057e-02,\n",
       "        1.50644227e-02, 2.42040662e-02, 4.78078662e-03, 6.95652543e-03,\n",
       "        3.29203527e-03, 3.33763461e-03, 3.71387281e-03, 8.43628361e-03]),\n",
       " 'param_n_estimators': masked_array(data=[1200, 1400, 1200, 1400, 1000, 800, 600, 800, 2000, 200,\n",
       "                    2000, 200, 200, 200, 1400, 1200, 1600, 2000, 800, 400,\n",
       "                    1600, 1600, 1200, 1200, 800, 1800, 1600, 800, 800,\n",
       "                    2000, 1800, 2000, 1000, 1400, 1600, 400, 600, 2000,\n",
       "                    600, 1800, 1400, 200, 1200, 1000, 1200, 2000, 200, 400,\n",
       "                    1400, 1800, 600, 800, 200, 400, 200, 600, 2000, 400,\n",
       "                    400, 2000, 600, 200, 1800, 1000, 800, 2000, 1000, 1800,\n",
       "                    400, 1400, 1000, 2000, 1600, 800, 800, 1400, 1400,\n",
       "                    1600, 1200, 600, 1400, 1400, 1400, 400, 800, 800, 600,\n",
       "                    1600, 2000, 1600, 800, 1200, 1600, 1000, 2000, 2000,\n",
       "                    400, 1800, 200, 1800],\n",
       "              mask=[False, False, False, False, False, False, False, False,\n",
       "                    False, False, False, False, False, False, False, False,\n",
       "                    False, False, False, False, False, False, False, False,\n",
       "                    False, False, False, False, False, False, False, False,\n",
       "                    False, False, False, False, False, False, False, False,\n",
       "                    False, False, False, False, False, False, False, False,\n",
       "                    False, False, False, False, False, False, False, False,\n",
       "                    False, False, False, False, False, False, False, False,\n",
       "                    False, False, False, False, False, False, False, False,\n",
       "                    False, False, False, False, False, False, False, False,\n",
       "                    False, False, False, False, False, False, False, False,\n",
       "                    False, False, False, False, False, False, False, False,\n",
       "                    False, False, False, False],\n",
       "        fill_value='?',\n",
       "             dtype=object),\n",
       " 'param_max_features': masked_array(data=['auto', 'sqrt', 'sqrt', 'auto', 'auto', 'sqrt', 'sqrt',\n",
       "                    'sqrt', 'sqrt', 'auto', 'sqrt', 'sqrt', 'sqrt', 'sqrt',\n",
       "                    'sqrt', 'sqrt', 'auto', 'sqrt', 'sqrt', 'auto', 'sqrt',\n",
       "                    'auto', 'auto', 'sqrt', 'auto', 'auto', 'sqrt', 'auto',\n",
       "                    'sqrt', 'sqrt', 'sqrt', 'sqrt', 'auto', 'sqrt', 'auto',\n",
       "                    'auto', 'sqrt', 'sqrt', 'auto', 'sqrt', 'sqrt', 'sqrt',\n",
       "                    'sqrt', 'sqrt', 'sqrt', 'auto', 'auto', 'auto', 'auto',\n",
       "                    'sqrt', 'auto', 'sqrt', 'sqrt', 'auto', 'sqrt', 'auto',\n",
       "                    'sqrt', 'auto', 'sqrt', 'auto', 'sqrt', 'auto', 'auto',\n",
       "                    'sqrt', 'auto', 'auto', 'auto', 'sqrt', 'sqrt', 'auto',\n",
       "                    'sqrt', 'auto', 'sqrt', 'sqrt', 'auto', 'sqrt', 'sqrt',\n",
       "                    'auto', 'auto', 'auto', 'sqrt', 'auto', 'auto', 'auto',\n",
       "                    'auto', 'auto', 'sqrt', 'auto', 'auto', 'auto', 'auto',\n",
       "                    'auto', 'sqrt', 'auto', 'auto', 'sqrt', 'sqrt', 'auto',\n",
       "                    'sqrt', 'sqrt'],\n",
       "              mask=[False, False, False, False, False, False, False, False,\n",
       "                    False, False, False, False, False, False, False, False,\n",
       "                    False, False, False, False, False, False, False, False,\n",
       "                    False, False, False, False, False, False, False, False,\n",
       "                    False, False, False, False, False, False, False, False,\n",
       "                    False, False, False, False, False, False, False, False,\n",
       "                    False, False, False, False, False, False, False, False,\n",
       "                    False, False, False, False, False, False, False, False,\n",
       "                    False, False, False, False, False, False, False, False,\n",
       "                    False, False, False, False, False, False, False, False,\n",
       "                    False, False, False, False, False, False, False, False,\n",
       "                    False, False, False, False, False, False, False, False,\n",
       "                    False, False, False, False],\n",
       "        fill_value='?',\n",
       "             dtype=object),\n",
       " 'param_max_depth': masked_array(data=[110, None, 110, 20, 20, 110, 100, None, 10, 30, 70,\n",
       "                    100, 70, 60, 60, 30, 50, 70, 30, 30, 40, 40, 40, 70,\n",
       "                    40, 40, 30, 70, 70, 50, 70, 100, 40, 80, 20, 60, 60,\n",
       "                    None, None, None, 50, 40, 100, 60, 90, 10, 70, 40, 60,\n",
       "                    110, 40, 60, 50, 110, 70, 30, 40, 80, 30, None, 40, 20,\n",
       "                    80, 10, 60, 90, 30, None, 10, 100, 80, 60, 80, 110, 10,\n",
       "                    10, 20, 70, None, 10, 20, 10, 110, 60, 80, 70, 90, 20,\n",
       "                    10, None, 110, 50, 50, 70, 110, 90, 20, 110, 30, 70],\n",
       "              mask=[False, False, False, False, False, False, False, False,\n",
       "                    False, False, False, False, False, False, False, False,\n",
       "                    False, False, False, False, False, False, False, False,\n",
       "                    False, False, False, False, False, False, False, False,\n",
       "                    False, False, False, False, False, False, False, False,\n",
       "                    False, False, False, False, False, False, False, False,\n",
       "                    False, False, False, False, False, False, False, False,\n",
       "                    False, False, False, False, False, False, False, False,\n",
       "                    False, False, False, False, False, False, False, False,\n",
       "                    False, False, False, False, False, False, False, False,\n",
       "                    False, False, False, False, False, False, False, False,\n",
       "                    False, False, False, False, False, False, False, False,\n",
       "                    False, False, False, False],\n",
       "        fill_value='?',\n",
       "             dtype=object),\n",
       " 'param_bootstrap': masked_array(data=['False', 'True', 'True', 'True', 'True', 'False',\n",
       "                    'True', 'True', 'False', 'True', 'True', 'True',\n",
       "                    'False', 'False', 'True', 'False', 'False', 'False',\n",
       "                    'True', 'False', 'False', 'True', 'False', 'False',\n",
       "                    'True', 'False', 'True', 'False', 'True', 'True',\n",
       "                    'True', 'True', 'True', 'False', 'True', 'True',\n",
       "                    'False', 'True', 'False', 'True', 'True', 'True',\n",
       "                    'False', 'False', 'True', 'False', 'True', 'False',\n",
       "                    'True', 'True', 'False', 'False', 'False', 'True',\n",
       "                    'True', 'True', 'False', 'True', 'False', 'False',\n",
       "                    'True', 'False', 'True', 'False', 'False', 'True',\n",
       "                    'True', 'False', 'False', 'False', 'False', 'False',\n",
       "                    'True', 'True', 'True', 'True', 'False', 'True',\n",
       "                    'True', 'False', 'True', 'True', 'False', 'False',\n",
       "                    'True', 'True', 'False', 'False', 'True', 'True',\n",
       "                    'True', 'True', 'True', 'False', 'False', 'True',\n",
       "                    'False', 'True', 'True', 'False'],\n",
       "              mask=[False, False, False, False, False, False, False, False,\n",
       "                    False, False, False, False, False, False, False, False,\n",
       "                    False, False, False, False, False, False, False, False,\n",
       "                    False, False, False, False, False, False, False, False,\n",
       "                    False, False, False, False, False, False, False, False,\n",
       "                    False, False, False, False, False, False, False, False,\n",
       "                    False, False, False, False, False, False, False, False,\n",
       "                    False, False, False, False, False, False, False, False,\n",
       "                    False, False, False, False, False, False, False, False,\n",
       "                    False, False, False, False, False, False, False, False,\n",
       "                    False, False, False, False, False, False, False, False,\n",
       "                    False, False, False, False, False, False, False, False,\n",
       "                    False, False, False, False],\n",
       "        fill_value='?',\n",
       "             dtype=object),\n",
       " 'params': [{'n_estimators': 1200,\n",
       "   'max_features': 'auto',\n",
       "   'max_depth': 110,\n",
       "   'bootstrap': 'False'},\n",
       "  {'n_estimators': 1400,\n",
       "   'max_features': 'sqrt',\n",
       "   'max_depth': None,\n",
       "   'bootstrap': 'True'},\n",
       "  {'n_estimators': 1200,\n",
       "   'max_features': 'sqrt',\n",
       "   'max_depth': 110,\n",
       "   'bootstrap': 'True'},\n",
       "  {'n_estimators': 1400,\n",
       "   'max_features': 'auto',\n",
       "   'max_depth': 20,\n",
       "   'bootstrap': 'True'},\n",
       "  {'n_estimators': 1000,\n",
       "   'max_features': 'auto',\n",
       "   'max_depth': 20,\n",
       "   'bootstrap': 'True'},\n",
       "  {'n_estimators': 800,\n",
       "   'max_features': 'sqrt',\n",
       "   'max_depth': 110,\n",
       "   'bootstrap': 'False'},\n",
       "  {'n_estimators': 600,\n",
       "   'max_features': 'sqrt',\n",
       "   'max_depth': 100,\n",
       "   'bootstrap': 'True'},\n",
       "  {'n_estimators': 800,\n",
       "   'max_features': 'sqrt',\n",
       "   'max_depth': None,\n",
       "   'bootstrap': 'True'},\n",
       "  {'n_estimators': 2000,\n",
       "   'max_features': 'sqrt',\n",
       "   'max_depth': 10,\n",
       "   'bootstrap': 'False'},\n",
       "  {'n_estimators': 200,\n",
       "   'max_features': 'auto',\n",
       "   'max_depth': 30,\n",
       "   'bootstrap': 'True'},\n",
       "  {'n_estimators': 2000,\n",
       "   'max_features': 'sqrt',\n",
       "   'max_depth': 70,\n",
       "   'bootstrap': 'True'},\n",
       "  {'n_estimators': 200,\n",
       "   'max_features': 'sqrt',\n",
       "   'max_depth': 100,\n",
       "   'bootstrap': 'True'},\n",
       "  {'n_estimators': 200,\n",
       "   'max_features': 'sqrt',\n",
       "   'max_depth': 70,\n",
       "   'bootstrap': 'False'},\n",
       "  {'n_estimators': 200,\n",
       "   'max_features': 'sqrt',\n",
       "   'max_depth': 60,\n",
       "   'bootstrap': 'False'},\n",
       "  {'n_estimators': 1400,\n",
       "   'max_features': 'sqrt',\n",
       "   'max_depth': 60,\n",
       "   'bootstrap': 'True'},\n",
       "  {'n_estimators': 1200,\n",
       "   'max_features': 'sqrt',\n",
       "   'max_depth': 30,\n",
       "   'bootstrap': 'False'},\n",
       "  {'n_estimators': 1600,\n",
       "   'max_features': 'auto',\n",
       "   'max_depth': 50,\n",
       "   'bootstrap': 'False'},\n",
       "  {'n_estimators': 2000,\n",
       "   'max_features': 'sqrt',\n",
       "   'max_depth': 70,\n",
       "   'bootstrap': 'False'},\n",
       "  {'n_estimators': 800,\n",
       "   'max_features': 'sqrt',\n",
       "   'max_depth': 30,\n",
       "   'bootstrap': 'True'},\n",
       "  {'n_estimators': 400,\n",
       "   'max_features': 'auto',\n",
       "   'max_depth': 30,\n",
       "   'bootstrap': 'False'},\n",
       "  {'n_estimators': 1600,\n",
       "   'max_features': 'sqrt',\n",
       "   'max_depth': 40,\n",
       "   'bootstrap': 'False'},\n",
       "  {'n_estimators': 1600,\n",
       "   'max_features': 'auto',\n",
       "   'max_depth': 40,\n",
       "   'bootstrap': 'True'},\n",
       "  {'n_estimators': 1200,\n",
       "   'max_features': 'auto',\n",
       "   'max_depth': 40,\n",
       "   'bootstrap': 'False'},\n",
       "  {'n_estimators': 1200,\n",
       "   'max_features': 'sqrt',\n",
       "   'max_depth': 70,\n",
       "   'bootstrap': 'False'},\n",
       "  {'n_estimators': 800,\n",
       "   'max_features': 'auto',\n",
       "   'max_depth': 40,\n",
       "   'bootstrap': 'True'},\n",
       "  {'n_estimators': 1800,\n",
       "   'max_features': 'auto',\n",
       "   'max_depth': 40,\n",
       "   'bootstrap': 'False'},\n",
       "  {'n_estimators': 1600,\n",
       "   'max_features': 'sqrt',\n",
       "   'max_depth': 30,\n",
       "   'bootstrap': 'True'},\n",
       "  {'n_estimators': 800,\n",
       "   'max_features': 'auto',\n",
       "   'max_depth': 70,\n",
       "   'bootstrap': 'False'},\n",
       "  {'n_estimators': 800,\n",
       "   'max_features': 'sqrt',\n",
       "   'max_depth': 70,\n",
       "   'bootstrap': 'True'},\n",
       "  {'n_estimators': 2000,\n",
       "   'max_features': 'sqrt',\n",
       "   'max_depth': 50,\n",
       "   'bootstrap': 'True'},\n",
       "  {'n_estimators': 1800,\n",
       "   'max_features': 'sqrt',\n",
       "   'max_depth': 70,\n",
       "   'bootstrap': 'True'},\n",
       "  {'n_estimators': 2000,\n",
       "   'max_features': 'sqrt',\n",
       "   'max_depth': 100,\n",
       "   'bootstrap': 'True'},\n",
       "  {'n_estimators': 1000,\n",
       "   'max_features': 'auto',\n",
       "   'max_depth': 40,\n",
       "   'bootstrap': 'True'},\n",
       "  {'n_estimators': 1400,\n",
       "   'max_features': 'sqrt',\n",
       "   'max_depth': 80,\n",
       "   'bootstrap': 'False'},\n",
       "  {'n_estimators': 1600,\n",
       "   'max_features': 'auto',\n",
       "   'max_depth': 20,\n",
       "   'bootstrap': 'True'},\n",
       "  {'n_estimators': 400,\n",
       "   'max_features': 'auto',\n",
       "   'max_depth': 60,\n",
       "   'bootstrap': 'True'},\n",
       "  {'n_estimators': 600,\n",
       "   'max_features': 'sqrt',\n",
       "   'max_depth': 60,\n",
       "   'bootstrap': 'False'},\n",
       "  {'n_estimators': 2000,\n",
       "   'max_features': 'sqrt',\n",
       "   'max_depth': None,\n",
       "   'bootstrap': 'True'},\n",
       "  {'n_estimators': 600,\n",
       "   'max_features': 'auto',\n",
       "   'max_depth': None,\n",
       "   'bootstrap': 'False'},\n",
       "  {'n_estimators': 1800,\n",
       "   'max_features': 'sqrt',\n",
       "   'max_depth': None,\n",
       "   'bootstrap': 'True'},\n",
       "  {'n_estimators': 1400,\n",
       "   'max_features': 'sqrt',\n",
       "   'max_depth': 50,\n",
       "   'bootstrap': 'True'},\n",
       "  {'n_estimators': 200,\n",
       "   'max_features': 'sqrt',\n",
       "   'max_depth': 40,\n",
       "   'bootstrap': 'True'},\n",
       "  {'n_estimators': 1200,\n",
       "   'max_features': 'sqrt',\n",
       "   'max_depth': 100,\n",
       "   'bootstrap': 'False'},\n",
       "  {'n_estimators': 1000,\n",
       "   'max_features': 'sqrt',\n",
       "   'max_depth': 60,\n",
       "   'bootstrap': 'False'},\n",
       "  {'n_estimators': 1200,\n",
       "   'max_features': 'sqrt',\n",
       "   'max_depth': 90,\n",
       "   'bootstrap': 'True'},\n",
       "  {'n_estimators': 2000,\n",
       "   'max_features': 'auto',\n",
       "   'max_depth': 10,\n",
       "   'bootstrap': 'False'},\n",
       "  {'n_estimators': 200,\n",
       "   'max_features': 'auto',\n",
       "   'max_depth': 70,\n",
       "   'bootstrap': 'True'},\n",
       "  {'n_estimators': 400,\n",
       "   'max_features': 'auto',\n",
       "   'max_depth': 40,\n",
       "   'bootstrap': 'False'},\n",
       "  {'n_estimators': 1400,\n",
       "   'max_features': 'auto',\n",
       "   'max_depth': 60,\n",
       "   'bootstrap': 'True'},\n",
       "  {'n_estimators': 1800,\n",
       "   'max_features': 'sqrt',\n",
       "   'max_depth': 110,\n",
       "   'bootstrap': 'True'},\n",
       "  {'n_estimators': 600,\n",
       "   'max_features': 'auto',\n",
       "   'max_depth': 40,\n",
       "   'bootstrap': 'False'},\n",
       "  {'n_estimators': 800,\n",
       "   'max_features': 'sqrt',\n",
       "   'max_depth': 60,\n",
       "   'bootstrap': 'False'},\n",
       "  {'n_estimators': 200,\n",
       "   'max_features': 'sqrt',\n",
       "   'max_depth': 50,\n",
       "   'bootstrap': 'False'},\n",
       "  {'n_estimators': 400,\n",
       "   'max_features': 'auto',\n",
       "   'max_depth': 110,\n",
       "   'bootstrap': 'True'},\n",
       "  {'n_estimators': 200,\n",
       "   'max_features': 'sqrt',\n",
       "   'max_depth': 70,\n",
       "   'bootstrap': 'True'},\n",
       "  {'n_estimators': 600,\n",
       "   'max_features': 'auto',\n",
       "   'max_depth': 30,\n",
       "   'bootstrap': 'True'},\n",
       "  {'n_estimators': 2000,\n",
       "   'max_features': 'sqrt',\n",
       "   'max_depth': 40,\n",
       "   'bootstrap': 'False'},\n",
       "  {'n_estimators': 400,\n",
       "   'max_features': 'auto',\n",
       "   'max_depth': 80,\n",
       "   'bootstrap': 'True'},\n",
       "  {'n_estimators': 400,\n",
       "   'max_features': 'sqrt',\n",
       "   'max_depth': 30,\n",
       "   'bootstrap': 'False'},\n",
       "  {'n_estimators': 2000,\n",
       "   'max_features': 'auto',\n",
       "   'max_depth': None,\n",
       "   'bootstrap': 'False'},\n",
       "  {'n_estimators': 600,\n",
       "   'max_features': 'sqrt',\n",
       "   'max_depth': 40,\n",
       "   'bootstrap': 'True'},\n",
       "  {'n_estimators': 200,\n",
       "   'max_features': 'auto',\n",
       "   'max_depth': 20,\n",
       "   'bootstrap': 'False'},\n",
       "  {'n_estimators': 1800,\n",
       "   'max_features': 'auto',\n",
       "   'max_depth': 80,\n",
       "   'bootstrap': 'True'},\n",
       "  {'n_estimators': 1000,\n",
       "   'max_features': 'sqrt',\n",
       "   'max_depth': 10,\n",
       "   'bootstrap': 'False'},\n",
       "  {'n_estimators': 800,\n",
       "   'max_features': 'auto',\n",
       "   'max_depth': 60,\n",
       "   'bootstrap': 'False'},\n",
       "  {'n_estimators': 2000,\n",
       "   'max_features': 'auto',\n",
       "   'max_depth': 90,\n",
       "   'bootstrap': 'True'},\n",
       "  {'n_estimators': 1000,\n",
       "   'max_features': 'auto',\n",
       "   'max_depth': 30,\n",
       "   'bootstrap': 'True'},\n",
       "  {'n_estimators': 1800,\n",
       "   'max_features': 'sqrt',\n",
       "   'max_depth': None,\n",
       "   'bootstrap': 'False'},\n",
       "  {'n_estimators': 400,\n",
       "   'max_features': 'sqrt',\n",
       "   'max_depth': 10,\n",
       "   'bootstrap': 'False'},\n",
       "  {'n_estimators': 1400,\n",
       "   'max_features': 'auto',\n",
       "   'max_depth': 100,\n",
       "   'bootstrap': 'False'},\n",
       "  {'n_estimators': 1000,\n",
       "   'max_features': 'sqrt',\n",
       "   'max_depth': 80,\n",
       "   'bootstrap': 'False'},\n",
       "  {'n_estimators': 2000,\n",
       "   'max_features': 'auto',\n",
       "   'max_depth': 60,\n",
       "   'bootstrap': 'False'},\n",
       "  {'n_estimators': 1600,\n",
       "   'max_features': 'sqrt',\n",
       "   'max_depth': 80,\n",
       "   'bootstrap': 'True'},\n",
       "  {'n_estimators': 800,\n",
       "   'max_features': 'sqrt',\n",
       "   'max_depth': 110,\n",
       "   'bootstrap': 'True'},\n",
       "  {'n_estimators': 800,\n",
       "   'max_features': 'auto',\n",
       "   'max_depth': 10,\n",
       "   'bootstrap': 'True'},\n",
       "  {'n_estimators': 1400,\n",
       "   'max_features': 'sqrt',\n",
       "   'max_depth': 10,\n",
       "   'bootstrap': 'True'},\n",
       "  {'n_estimators': 1400,\n",
       "   'max_features': 'sqrt',\n",
       "   'max_depth': 20,\n",
       "   'bootstrap': 'False'},\n",
       "  {'n_estimators': 1600,\n",
       "   'max_features': 'auto',\n",
       "   'max_depth': 70,\n",
       "   'bootstrap': 'True'},\n",
       "  {'n_estimators': 1200,\n",
       "   'max_features': 'auto',\n",
       "   'max_depth': None,\n",
       "   'bootstrap': 'True'},\n",
       "  {'n_estimators': 600,\n",
       "   'max_features': 'auto',\n",
       "   'max_depth': 10,\n",
       "   'bootstrap': 'False'},\n",
       "  {'n_estimators': 1400,\n",
       "   'max_features': 'sqrt',\n",
       "   'max_depth': 20,\n",
       "   'bootstrap': 'True'},\n",
       "  {'n_estimators': 1400,\n",
       "   'max_features': 'auto',\n",
       "   'max_depth': 10,\n",
       "   'bootstrap': 'True'},\n",
       "  {'n_estimators': 1400,\n",
       "   'max_features': 'auto',\n",
       "   'max_depth': 110,\n",
       "   'bootstrap': 'False'},\n",
       "  {'n_estimators': 400,\n",
       "   'max_features': 'auto',\n",
       "   'max_depth': 60,\n",
       "   'bootstrap': 'False'},\n",
       "  {'n_estimators': 800,\n",
       "   'max_features': 'auto',\n",
       "   'max_depth': 80,\n",
       "   'bootstrap': 'True'},\n",
       "  {'n_estimators': 800,\n",
       "   'max_features': 'auto',\n",
       "   'max_depth': 70,\n",
       "   'bootstrap': 'True'},\n",
       "  {'n_estimators': 600,\n",
       "   'max_features': 'sqrt',\n",
       "   'max_depth': 90,\n",
       "   'bootstrap': 'False'},\n",
       "  {'n_estimators': 1600,\n",
       "   'max_features': 'auto',\n",
       "   'max_depth': 20,\n",
       "   'bootstrap': 'False'},\n",
       "  {'n_estimators': 2000,\n",
       "   'max_features': 'auto',\n",
       "   'max_depth': 10,\n",
       "   'bootstrap': 'True'},\n",
       "  {'n_estimators': 1600,\n",
       "   'max_features': 'auto',\n",
       "   'max_depth': None,\n",
       "   'bootstrap': 'True'},\n",
       "  {'n_estimators': 800,\n",
       "   'max_features': 'auto',\n",
       "   'max_depth': 110,\n",
       "   'bootstrap': 'True'},\n",
       "  {'n_estimators': 1200,\n",
       "   'max_features': 'auto',\n",
       "   'max_depth': 50,\n",
       "   'bootstrap': 'True'},\n",
       "  {'n_estimators': 1600,\n",
       "   'max_features': 'sqrt',\n",
       "   'max_depth': 50,\n",
       "   'bootstrap': 'True'},\n",
       "  {'n_estimators': 1000,\n",
       "   'max_features': 'auto',\n",
       "   'max_depth': 70,\n",
       "   'bootstrap': 'False'},\n",
       "  {'n_estimators': 2000,\n",
       "   'max_features': 'auto',\n",
       "   'max_depth': 110,\n",
       "   'bootstrap': 'False'},\n",
       "  {'n_estimators': 2000,\n",
       "   'max_features': 'sqrt',\n",
       "   'max_depth': 90,\n",
       "   'bootstrap': 'True'},\n",
       "  {'n_estimators': 400,\n",
       "   'max_features': 'sqrt',\n",
       "   'max_depth': 20,\n",
       "   'bootstrap': 'False'},\n",
       "  {'n_estimators': 1800,\n",
       "   'max_features': 'auto',\n",
       "   'max_depth': 110,\n",
       "   'bootstrap': 'True'},\n",
       "  {'n_estimators': 200,\n",
       "   'max_features': 'sqrt',\n",
       "   'max_depth': 30,\n",
       "   'bootstrap': 'True'},\n",
       "  {'n_estimators': 1800,\n",
       "   'max_features': 'sqrt',\n",
       "   'max_depth': 70,\n",
       "   'bootstrap': 'False'}],\n",
       " 'split0_test_score': array([0.83391003, 0.82698962, 0.83044983, 0.82698962, 0.8200692 ,\n",
       "        0.82698962, 0.83391003, 0.8200692 , 0.83391003, 0.83044983,\n",
       "        0.82698962, 0.82698962, 0.82871972, 0.83391003, 0.83044983,\n",
       "        0.83044983, 0.83391003, 0.83391003, 0.83391003, 0.82698962,\n",
       "        0.8200692 , 0.82698962, 0.82698962, 0.83391003, 0.83044983,\n",
       "        0.82698962, 0.83391003, 0.82352941, 0.82698962, 0.82698962,\n",
       "        0.82352941, 0.83044983, 0.82698962, 0.83391003, 0.83044983,\n",
       "        0.8200692 , 0.82179931, 0.83044983, 0.83044983, 0.83044983,\n",
       "        0.83391003, 0.83044983, 0.82352941, 0.816609  , 0.83044983,\n",
       "        0.83044983, 0.816609  , 0.81314879, 0.83044983, 0.82352941,\n",
       "        0.82352941, 0.83044983, 0.816609  , 0.82352941, 0.82352941,\n",
       "        0.8200692 , 0.82352941, 0.83391003, 0.82698962, 0.83044983,\n",
       "        0.83044983, 0.83391003, 0.82352941, 0.83044983, 0.83391003,\n",
       "        0.83044983, 0.82698962, 0.83044983, 0.82698962, 0.83044983,\n",
       "        0.83391003, 0.83391003, 0.83044983, 0.82698962, 0.83564014,\n",
       "        0.8200692 , 0.83044983, 0.83044983, 0.83044983, 0.83044983,\n",
       "        0.83044983, 0.83391003, 0.83391003, 0.83044983, 0.82352941,\n",
       "        0.82698962, 0.83044983, 0.83391003, 0.83391003, 0.83044983,\n",
       "        0.83044983, 0.83391003, 0.83217993, 0.82698962, 0.82698962,\n",
       "        0.82698962, 0.83217993, 0.83391003, 0.82871972, 0.83044983]),\n",
       " 'split1_test_score': array([0.86851211, 0.87543253, 0.87889273, 0.88927336, 0.88235294,\n",
       "        0.86851211, 0.88235294, 0.88581315, 0.86851211, 0.89273356,\n",
       "        0.87716263, 0.88235294, 0.88927336, 0.87197232, 0.87543253,\n",
       "        0.87197232, 0.87543253, 0.87543253, 0.87197232, 0.88927336,\n",
       "        0.87543253, 0.88235294, 0.87197232, 0.8650519 , 0.87197232,\n",
       "        0.86851211, 0.87543253, 0.86851211, 0.86851211, 0.87889273,\n",
       "        0.88062284, 0.87024221, 0.87197232, 0.87543253, 0.88062284,\n",
       "        0.87716263, 0.87889273, 0.87543253, 0.88235294, 0.8650519 ,\n",
       "        0.87197232, 0.86851211, 0.88408304, 0.88754325, 0.88235294,\n",
       "        0.87889273, 0.87370242, 0.89100346, 0.88062284, 0.87197232,\n",
       "        0.87716263, 0.86851211, 0.87197232, 0.86851211, 0.8615917 ,\n",
       "        0.88581315, 0.87197232, 0.87197232, 0.86678201, 0.87716263,\n",
       "        0.87889273, 0.87716263, 0.88235294, 0.8650519 , 0.87197232,\n",
       "        0.87889273, 0.87889273, 0.87370242, 0.89273356, 0.8633218 ,\n",
       "        0.8650519 , 0.87716263, 0.88235294, 0.87543253, 0.88581315,\n",
       "        0.8615917 , 0.87543253, 0.87543253, 0.88408304, 0.87197232,\n",
       "        0.87543253, 0.8650519 , 0.87370242, 0.87716263, 0.88235294,\n",
       "        0.86851211, 0.87197232, 0.8650519 , 0.87889273, 0.87716263,\n",
       "        0.87197232, 0.87543253, 0.86851211, 0.87197232, 0.8615917 ,\n",
       "        0.88235294, 0.88062284, 0.87543253, 0.85121107, 0.87889273]),\n",
       " 'split2_test_score': array([0.9453125 , 0.9453125 , 0.9453125 , 0.9453125 , 0.9453125 ,\n",
       "        0.94921875, 0.94921875, 0.94335938, 0.94921875, 0.9453125 ,\n",
       "        0.9453125 , 0.94921875, 0.94140625, 0.95117188, 0.94921875,\n",
       "        0.94921875, 0.94921875, 0.94921875, 0.953125  , 0.9453125 ,\n",
       "        0.9453125 , 0.953125  , 0.9453125 , 0.94921875, 0.94921875,\n",
       "        0.9453125 , 0.9453125 , 0.94140625, 0.94335938, 0.94921875,\n",
       "        0.953125  , 0.94921875, 0.94726562, 0.94921875, 0.9453125 ,\n",
       "        0.9453125 , 0.94921875, 0.9453125 , 0.94921875, 0.9453125 ,\n",
       "        0.9453125 , 0.953125  , 0.94921875, 0.94921875, 0.95703125,\n",
       "        0.9453125 , 0.9375    , 0.93554688, 0.94921875, 0.9453125 ,\n",
       "        0.94726562, 0.953125  , 0.93945312, 0.94140625, 0.93554688,\n",
       "        0.94921875, 0.9453125 , 0.94726562, 0.94140625, 0.94921875,\n",
       "        0.94335938, 0.94335938, 0.9453125 , 0.9453125 , 0.94921875,\n",
       "        0.9453125 , 0.9453125 , 0.94726562, 0.9375    , 0.9453125 ,\n",
       "        0.9453125 , 0.9453125 , 0.94921875, 0.9453125 , 0.9453125 ,\n",
       "        0.9453125 , 0.94921875, 0.94726562, 0.9453125 , 0.9453125 ,\n",
       "        0.953125  , 0.9453125 , 0.94335938, 0.94921875, 0.9453125 ,\n",
       "        0.9453125 , 0.9375    , 0.94921875, 0.9453125 , 0.9453125 ,\n",
       "        0.94140625, 0.953125  , 0.94921875, 0.9453125 , 0.94921875,\n",
       "        0.94921875, 0.953125  , 0.9453125 , 0.9453125 , 0.9453125 ]),\n",
       " 'mean_test_score': array([0.88132353, 0.88132353, 0.88367647, 0.88602941, 0.88132353,\n",
       "        0.88022059, 0.88727941, 0.881875  , 0.88257353, 0.88838235,\n",
       "        0.88191176, 0.88492647, 0.88536765, 0.884375  , 0.88375   ,\n",
       "        0.88257353, 0.88492647, 0.88492647, 0.885     , 0.88602941,\n",
       "        0.87897059, 0.88617647, 0.88014706, 0.88139706, 0.88257353,\n",
       "        0.87897059, 0.88367647, 0.87654412, 0.87834559, 0.88375   ,\n",
       "        0.88441176, 0.88198529, 0.88077206, 0.88492647, 0.88426471,\n",
       "        0.87955882, 0.88198529, 0.8825    , 0.88610294, 0.87897059,\n",
       "        0.8825    , 0.88264706, 0.88433824, 0.88316176, 0.88860294,\n",
       "        0.88367647, 0.87470588, 0.87878676, 0.88551471, 0.87897059,\n",
       "        0.88136029, 0.88264706, 0.87474265, 0.87654412, 0.87231618,\n",
       "        0.88375   , 0.87897059, 0.883125  , 0.87713235, 0.88433824,\n",
       "        0.88305147, 0.88363971, 0.8825    , 0.87897059, 0.88375   ,\n",
       "        0.88367647, 0.8825    , 0.88253676, 0.88470588, 0.87838235,\n",
       "        0.88014706, 0.88426471, 0.88610294, 0.88132353, 0.88779412,\n",
       "        0.87426471, 0.88375   , 0.883125  , 0.88544118, 0.88132353,\n",
       "        0.885     , 0.88014706, 0.88246324, 0.88433824, 0.8825    ,\n",
       "        0.87897059, 0.87882353, 0.88139706, 0.88485294, 0.88308824,\n",
       "        0.88007353, 0.88617647, 0.88198529, 0.88014706, 0.87786765,\n",
       "        0.88492647, 0.88735294, 0.88367647, 0.87367647, 0.88367647]),\n",
       " 'std_test_score': array([0.04615633, 0.04822662, 0.04676223, 0.0480973 , 0.05085607,\n",
       "        0.0503334 , 0.04695045, 0.05013744, 0.04789258, 0.04674046,\n",
       "        0.04816168, 0.04966127, 0.04583826, 0.04843518, 0.04859013,\n",
       "        0.04881862, 0.04731041, 0.04731041, 0.049298  , 0.0480973 ,\n",
       "        0.05091407, 0.05128638, 0.04839788, 0.0482646 , 0.04881862,\n",
       "        0.04862382, 0.0456165 , 0.04820576, 0.04777215, 0.04974921,\n",
       "        0.05268803, 0.04895305, 0.04924065, 0.04731041, 0.04670921,\n",
       "        0.05087978, 0.05178185, 0.04691107, 0.04829706, 0.047694  ,\n",
       "        0.04585792, 0.05083073, 0.05103213, 0.05393336, 0.05158941,\n",
       "        0.04676223, 0.04908889, 0.05046314, 0.04834966, 0.04970028,\n",
       "        0.05032906, 0.05083073, 0.04991622, 0.04820576, 0.04612759,\n",
       "        0.05245761, 0.04970028, 0.04671504, 0.04704516, 0.04849626,\n",
       "        0.04594008, 0.04468062, 0.04944592, 0.047694  , 0.04757416,\n",
       "        0.04676223, 0.04811063, 0.04785098, 0.04523735, 0.04787238,\n",
       "        0.04651062, 0.04551744, 0.04829706, 0.04822662, 0.04455136,\n",
       "        0.05165782, 0.04859013, 0.04774929, 0.0466462 , 0.04711651,\n",
       "        0.05027915, 0.04651062, 0.04488079, 0.04849626, 0.04944592,\n",
       "        0.04862382, 0.0437413 , 0.0482646 , 0.04543296, 0.04682954,\n",
       "        0.0454237 , 0.04901353, 0.04849353, 0.04839788, 0.0509833 ,\n",
       "        0.04966127, 0.04934257, 0.0456165 , 0.05000924, 0.04676223]),\n",
       " 'rank_test_score': array([ 68,  68,  36,  10,  68,  74,   5,  64,  51,   2,  63,  17,  14,\n",
       "         25,  31,  51,  20,  17,  15,  10,  81,   6,  75,  65,  50,  85,\n",
       "         40,  94,  91,  31,  24,  60,  73,  20,  29,  80,  60,  54,   8,\n",
       "         81,  54,  48,  26,  43,   1,  36,  97,  89,  12,  81,  67,  48,\n",
       "         96,  94, 100,  31,  85,  44,  93,  26,  47,  42,  54,  81,  31,\n",
       "         36,  54,  53,  23,  90,  78,  29,   8,  68,   3,  98,  31,  44,\n",
       "         13,  68,  15,  75,  59,  26,  54,  85,  88,  65,  22,  46,  79,\n",
       "          6,  62,  75,  92,  17,   4,  40,  99,  36], dtype=int32)}"
      ]
     },
     "execution_count": 54,
     "metadata": {},
     "output_type": "execute_result"
    }
   ],
   "source": [
    "rf_random.cv_results_"
   ]
  },
  {
   "cell_type": "code",
   "execution_count": null,
   "metadata": {},
   "outputs": [],
   "source": []
  }
 ],
 "metadata": {
  "kernelspec": {
   "display_name": "Python 3",
   "language": "python",
   "name": "python3"
  },
  "language_info": {
   "codemirror_mode": {
    "name": "ipython",
    "version": 3
   },
   "file_extension": ".py",
   "mimetype": "text/x-python",
   "name": "python",
   "nbconvert_exporter": "python",
   "pygments_lexer": "ipython3",
   "version": "3.7.6"
  }
 },
 "nbformat": 4,
 "nbformat_minor": 2
}

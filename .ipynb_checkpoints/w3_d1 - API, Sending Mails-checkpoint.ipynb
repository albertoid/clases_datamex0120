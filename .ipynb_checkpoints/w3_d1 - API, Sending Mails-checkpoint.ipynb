{
 "cells": [
  {
   "cell_type": "code",
   "execution_count": 1,
   "metadata": {},
   "outputs": [],
   "source": [
    "import json\n",
    "import requests"
   ]
  },
  {
   "cell_type": "code",
   "execution_count": 3,
   "metadata": {},
   "outputs": [
    {
     "data": {
      "text/plain": [
       "[{'userId': 1, 'id': 1, 'title': 'delectus aut autem', 'completed': False},\n",
       " {'userId': 1,\n",
       "  'id': 2,\n",
       "  'title': 'quis ut nam facilis et officia qui',\n",
       "  'completed': False},\n",
       " {'userId': 1, 'id': 3, 'title': 'fugiat veniam minus', 'completed': False},\n",
       " {'userId': 1, 'id': 4, 'title': 'et porro tempora', 'completed': True},\n",
       " {'userId': 1,\n",
       "  'id': 5,\n",
       "  'title': 'laboriosam mollitia et enim quasi adipisci quia provident illum',\n",
       "  'completed': False},\n",
       " {'userId': 1,\n",
       "  'id': 6,\n",
       "  'title': 'qui ullam ratione quibusdam voluptatem quia omnis',\n",
       "  'completed': False},\n",
       " {'userId': 1,\n",
       "  'id': 7,\n",
       "  'title': 'illo expedita consequatur quia in',\n",
       "  'completed': False},\n",
       " {'userId': 1,\n",
       "  'id': 8,\n",
       "  'title': 'quo adipisci enim quam ut ab',\n",
       "  'completed': True},\n",
       " {'userId': 1,\n",
       "  'id': 9,\n",
       "  'title': 'molestiae perspiciatis ipsa',\n",
       "  'completed': False},\n",
       " {'userId': 1,\n",
       "  'id': 10,\n",
       "  'title': 'illo est ratione doloremque quia maiores aut',\n",
       "  'completed': True}]"
      ]
     },
     "execution_count": 3,
     "metadata": {},
     "output_type": "execute_result"
    }
   ],
   "source": [
    "resp=requests.get('https://jsonplaceholder.typicode.com/todos')\n",
    "results=resp.json()\n",
    "results[:10]"
   ]
  },
  {
   "cell_type": "code",
   "execution_count": 5,
   "metadata": {},
   "outputs": [
    {
     "data": {
      "text/html": [
       "<div>\n",
       "<style scoped>\n",
       "    .dataframe tbody tr th:only-of-type {\n",
       "        vertical-align: middle;\n",
       "    }\n",
       "\n",
       "    .dataframe tbody tr th {\n",
       "        vertical-align: top;\n",
       "    }\n",
       "\n",
       "    .dataframe thead th {\n",
       "        text-align: right;\n",
       "    }\n",
       "</style>\n",
       "<table border=\"1\" class=\"dataframe\">\n",
       "  <thead>\n",
       "    <tr style=\"text-align: right;\">\n",
       "      <th></th>\n",
       "      <th>userId</th>\n",
       "      <th>id</th>\n",
       "      <th>title</th>\n",
       "      <th>completed</th>\n",
       "    </tr>\n",
       "  </thead>\n",
       "  <tbody>\n",
       "    <tr>\n",
       "      <th>0</th>\n",
       "      <td>1</td>\n",
       "      <td>1</td>\n",
       "      <td>delectus aut autem</td>\n",
       "      <td>False</td>\n",
       "    </tr>\n",
       "    <tr>\n",
       "      <th>1</th>\n",
       "      <td>1</td>\n",
       "      <td>2</td>\n",
       "      <td>quis ut nam facilis et officia qui</td>\n",
       "      <td>False</td>\n",
       "    </tr>\n",
       "    <tr>\n",
       "      <th>2</th>\n",
       "      <td>1</td>\n",
       "      <td>3</td>\n",
       "      <td>fugiat veniam minus</td>\n",
       "      <td>False</td>\n",
       "    </tr>\n",
       "    <tr>\n",
       "      <th>3</th>\n",
       "      <td>1</td>\n",
       "      <td>4</td>\n",
       "      <td>et porro tempora</td>\n",
       "      <td>True</td>\n",
       "    </tr>\n",
       "    <tr>\n",
       "      <th>4</th>\n",
       "      <td>1</td>\n",
       "      <td>5</td>\n",
       "      <td>laboriosam mollitia et enim quasi adipisci qui...</td>\n",
       "      <td>False</td>\n",
       "    </tr>\n",
       "  </tbody>\n",
       "</table>\n",
       "</div>"
      ],
      "text/plain": [
       "   userId  id                                              title  completed\n",
       "0       1   1                                 delectus aut autem      False\n",
       "1       1   2                 quis ut nam facilis et officia qui      False\n",
       "2       1   3                                fugiat veniam minus      False\n",
       "3       1   4                                   et porro tempora       True\n",
       "4       1   5  laboriosam mollitia et enim quasi adipisci qui...      False"
      ]
     },
     "execution_count": 5,
     "metadata": {},
     "output_type": "execute_result"
    }
   ],
   "source": [
    "import pandas as pd\n",
    "data=pd.DataFrame(results)\n",
    "data.head()"
   ]
  },
  {
   "cell_type": "code",
   "execution_count": 6,
   "metadata": {},
   "outputs": [
    {
     "data": {
      "text/html": [
       "<div>\n",
       "<style scoped>\n",
       "    .dataframe tbody tr th:only-of-type {\n",
       "        vertical-align: middle;\n",
       "    }\n",
       "\n",
       "    .dataframe tbody tr th {\n",
       "        vertical-align: top;\n",
       "    }\n",
       "\n",
       "    .dataframe thead th {\n",
       "        text-align: right;\n",
       "    }\n",
       "</style>\n",
       "<table border=\"1\" class=\"dataframe\">\n",
       "  <thead>\n",
       "    <tr style=\"text-align: right;\">\n",
       "      <th></th>\n",
       "      <th>id</th>\n",
       "      <th>type</th>\n",
       "      <th>actor</th>\n",
       "      <th>repo</th>\n",
       "      <th>payload</th>\n",
       "      <th>public</th>\n",
       "      <th>created_at</th>\n",
       "      <th>org</th>\n",
       "    </tr>\n",
       "  </thead>\n",
       "  <tbody>\n",
       "    <tr>\n",
       "      <th>0</th>\n",
       "      <td>11317440400</td>\n",
       "      <td>IssueCommentEvent</td>\n",
       "      <td>{'id': 15955486, 'login': 'shijianjian', 'disp...</td>\n",
       "      <td>{'id': 145693916, 'name': 'kornia/kornia', 'ur...</td>\n",
       "      <td>{'action': 'created', 'issue': {'url': 'https:...</td>\n",
       "      <td>True</td>\n",
       "      <td>2020-01-20T17:27:22Z</td>\n",
       "      <td>{'id': 56968752, 'login': 'kornia', 'gravatar_...</td>\n",
       "    </tr>\n",
       "    <tr>\n",
       "      <th>1</th>\n",
       "      <td>11317440381</td>\n",
       "      <td>PushEvent</td>\n",
       "      <td>{'id': 6829750, 'login': 'mathemancer', 'displ...</td>\n",
       "      <td>{'id': 97037973, 'name': 'creativecommons/ccca...</td>\n",
       "      <td>{'push_id': 4522819818, 'size': 1, 'distinct_s...</td>\n",
       "      <td>True</td>\n",
       "      <td>2020-01-20T17:27:22Z</td>\n",
       "      <td>{'id': 3248958, 'login': 'creativecommons', 'g...</td>\n",
       "    </tr>\n",
       "    <tr>\n",
       "      <th>2</th>\n",
       "      <td>11317440371</td>\n",
       "      <td>PushEvent</td>\n",
       "      <td>{'id': 26477157, 'login': 'gaganmalvi', 'displ...</td>\n",
       "      <td>{'id': 226352080, 'name': 'gaganmalvi/pythonpr...</td>\n",
       "      <td>{'push_id': 4522819810, 'size': 1, 'distinct_s...</td>\n",
       "      <td>True</td>\n",
       "      <td>2020-01-20T17:27:22Z</td>\n",
       "      <td>NaN</td>\n",
       "    </tr>\n",
       "    <tr>\n",
       "      <th>3</th>\n",
       "      <td>11317440368</td>\n",
       "      <td>PushEvent</td>\n",
       "      <td>{'id': 29840758, 'login': 'Hamzacebi', 'displa...</td>\n",
       "      <td>{'id': 234942066, 'name': 'Hamzacebi/ToDoList'...</td>\n",
       "      <td>{'push_id': 4522819808, 'size': 2, 'distinct_s...</td>\n",
       "      <td>True</td>\n",
       "      <td>2020-01-20T17:27:22Z</td>\n",
       "      <td>NaN</td>\n",
       "    </tr>\n",
       "    <tr>\n",
       "      <th>4</th>\n",
       "      <td>11317440372</td>\n",
       "      <td>PullRequestReviewCommentEvent</td>\n",
       "      <td>{'id': 17525238, 'login': 'idbolshakov', 'disp...</td>\n",
       "      <td>{'id': 126395123, 'name': 'idbolshakov/apress-...</td>\n",
       "      <td>{'action': 'created', 'comment': {'url': 'http...</td>\n",
       "      <td>True</td>\n",
       "      <td>2020-01-20T17:27:21Z</td>\n",
       "      <td>NaN</td>\n",
       "    </tr>\n",
       "  </tbody>\n",
       "</table>\n",
       "</div>"
      ],
      "text/plain": [
       "            id                           type  \\\n",
       "0  11317440400              IssueCommentEvent   \n",
       "1  11317440381                      PushEvent   \n",
       "2  11317440371                      PushEvent   \n",
       "3  11317440368                      PushEvent   \n",
       "4  11317440372  PullRequestReviewCommentEvent   \n",
       "\n",
       "                                               actor  \\\n",
       "0  {'id': 15955486, 'login': 'shijianjian', 'disp...   \n",
       "1  {'id': 6829750, 'login': 'mathemancer', 'displ...   \n",
       "2  {'id': 26477157, 'login': 'gaganmalvi', 'displ...   \n",
       "3  {'id': 29840758, 'login': 'Hamzacebi', 'displa...   \n",
       "4  {'id': 17525238, 'login': 'idbolshakov', 'disp...   \n",
       "\n",
       "                                                repo  \\\n",
       "0  {'id': 145693916, 'name': 'kornia/kornia', 'ur...   \n",
       "1  {'id': 97037973, 'name': 'creativecommons/ccca...   \n",
       "2  {'id': 226352080, 'name': 'gaganmalvi/pythonpr...   \n",
       "3  {'id': 234942066, 'name': 'Hamzacebi/ToDoList'...   \n",
       "4  {'id': 126395123, 'name': 'idbolshakov/apress-...   \n",
       "\n",
       "                                             payload  public  \\\n",
       "0  {'action': 'created', 'issue': {'url': 'https:...    True   \n",
       "1  {'push_id': 4522819818, 'size': 1, 'distinct_s...    True   \n",
       "2  {'push_id': 4522819810, 'size': 1, 'distinct_s...    True   \n",
       "3  {'push_id': 4522819808, 'size': 2, 'distinct_s...    True   \n",
       "4  {'action': 'created', 'comment': {'url': 'http...    True   \n",
       "\n",
       "             created_at                                                org  \n",
       "0  2020-01-20T17:27:22Z  {'id': 56968752, 'login': 'kornia', 'gravatar_...  \n",
       "1  2020-01-20T17:27:22Z  {'id': 3248958, 'login': 'creativecommons', 'g...  \n",
       "2  2020-01-20T17:27:22Z                                                NaN  \n",
       "3  2020-01-20T17:27:22Z                                                NaN  \n",
       "4  2020-01-20T17:27:21Z                                                NaN  "
      ]
     },
     "execution_count": 6,
     "metadata": {},
     "output_type": "execute_result"
    }
   ],
   "source": [
    "# github\n",
    "\n",
    "resp=requests.get('https://api.github.com/events')\n",
    "data=pd.DataFrame(resp.json())\n",
    "data.head()"
   ]
  },
  {
   "cell_type": "code",
   "execution_count": 8,
   "metadata": {},
   "outputs": [],
   "source": [
    "def flatten(data, cols):\n",
    "    for c in cols:\n",
    "        fl=pd.DataFrame(dict(data[c])).T\n",
    "        cols=[str(col) for col in fl.columns]\n",
    "        fl.columns=[c+'_'+name for name in cols]\n",
    "        data=pd.concat([data, fl] ,axis=1)\n",
    "        data=data.drop(c, axis=1)\n",
    "    return data"
   ]
  },
  {
   "cell_type": "code",
   "execution_count": 9,
   "metadata": {},
   "outputs": [
    {
     "data": {
      "text/html": [
       "<div>\n",
       "<style scoped>\n",
       "    .dataframe tbody tr th:only-of-type {\n",
       "        vertical-align: middle;\n",
       "    }\n",
       "\n",
       "    .dataframe tbody tr th {\n",
       "        vertical-align: top;\n",
       "    }\n",
       "\n",
       "    .dataframe thead th {\n",
       "        text-align: right;\n",
       "    }\n",
       "</style>\n",
       "<table border=\"1\" class=\"dataframe\">\n",
       "  <thead>\n",
       "    <tr style=\"text-align: right;\">\n",
       "      <th></th>\n",
       "      <th>id</th>\n",
       "      <th>type</th>\n",
       "      <th>public</th>\n",
       "      <th>created_at</th>\n",
       "      <th>actor_id</th>\n",
       "      <th>actor_login</th>\n",
       "      <th>actor_display_login</th>\n",
       "      <th>actor_gravatar_id</th>\n",
       "      <th>actor_url</th>\n",
       "      <th>actor_avatar_url</th>\n",
       "      <th>...</th>\n",
       "      <th>payload_description</th>\n",
       "      <th>payload_pusher_type</th>\n",
       "      <th>repo_id</th>\n",
       "      <th>repo_name</th>\n",
       "      <th>repo_url</th>\n",
       "      <th>org_id</th>\n",
       "      <th>org_login</th>\n",
       "      <th>org_gravatar_id</th>\n",
       "      <th>org_url</th>\n",
       "      <th>org_avatar_url</th>\n",
       "    </tr>\n",
       "  </thead>\n",
       "  <tbody>\n",
       "    <tr>\n",
       "      <th>0</th>\n",
       "      <td>11317440400</td>\n",
       "      <td>IssueCommentEvent</td>\n",
       "      <td>True</td>\n",
       "      <td>2020-01-20T17:27:22Z</td>\n",
       "      <td>15955486</td>\n",
       "      <td>shijianjian</td>\n",
       "      <td>shijianjian</td>\n",
       "      <td></td>\n",
       "      <td>https://api.github.com/users/shijianjian</td>\n",
       "      <td>https://avatars.githubusercontent.com/u/15955486?</td>\n",
       "      <td>...</td>\n",
       "      <td>NaN</td>\n",
       "      <td>NaN</td>\n",
       "      <td>145693916</td>\n",
       "      <td>kornia/kornia</td>\n",
       "      <td>https://api.github.com/repos/kornia/kornia</td>\n",
       "      <td>56968752</td>\n",
       "      <td>kornia</td>\n",
       "      <td></td>\n",
       "      <td>https://api.github.com/orgs/kornia</td>\n",
       "      <td>https://avatars.githubusercontent.com/u/56968752?</td>\n",
       "    </tr>\n",
       "    <tr>\n",
       "      <th>1</th>\n",
       "      <td>11317440381</td>\n",
       "      <td>PushEvent</td>\n",
       "      <td>True</td>\n",
       "      <td>2020-01-20T17:27:22Z</td>\n",
       "      <td>6829750</td>\n",
       "      <td>mathemancer</td>\n",
       "      <td>mathemancer</td>\n",
       "      <td></td>\n",
       "      <td>https://api.github.com/users/mathemancer</td>\n",
       "      <td>https://avatars.githubusercontent.com/u/6829750?</td>\n",
       "      <td>...</td>\n",
       "      <td>NaN</td>\n",
       "      <td>NaN</td>\n",
       "      <td>97037973</td>\n",
       "      <td>creativecommons/cccatalog</td>\n",
       "      <td>https://api.github.com/repos/creativecommons/c...</td>\n",
       "      <td>3248958</td>\n",
       "      <td>creativecommons</td>\n",
       "      <td></td>\n",
       "      <td>https://api.github.com/orgs/creativecommons</td>\n",
       "      <td>https://avatars.githubusercontent.com/u/3248958?</td>\n",
       "    </tr>\n",
       "    <tr>\n",
       "      <th>2</th>\n",
       "      <td>11317440371</td>\n",
       "      <td>PushEvent</td>\n",
       "      <td>True</td>\n",
       "      <td>2020-01-20T17:27:22Z</td>\n",
       "      <td>26477157</td>\n",
       "      <td>gaganmalvi</td>\n",
       "      <td>gaganmalvi</td>\n",
       "      <td></td>\n",
       "      <td>https://api.github.com/users/gaganmalvi</td>\n",
       "      <td>https://avatars.githubusercontent.com/u/26477157?</td>\n",
       "      <td>...</td>\n",
       "      <td>NaN</td>\n",
       "      <td>NaN</td>\n",
       "      <td>226352080</td>\n",
       "      <td>gaganmalvi/pythonprojects</td>\n",
       "      <td>https://api.github.com/repos/gaganmalvi/python...</td>\n",
       "      <td>NaN</td>\n",
       "      <td>NaN</td>\n",
       "      <td>NaN</td>\n",
       "      <td>NaN</td>\n",
       "      <td>NaN</td>\n",
       "    </tr>\n",
       "    <tr>\n",
       "      <th>3</th>\n",
       "      <td>11317440368</td>\n",
       "      <td>PushEvent</td>\n",
       "      <td>True</td>\n",
       "      <td>2020-01-20T17:27:22Z</td>\n",
       "      <td>29840758</td>\n",
       "      <td>Hamzacebi</td>\n",
       "      <td>Hamzacebi</td>\n",
       "      <td></td>\n",
       "      <td>https://api.github.com/users/Hamzacebi</td>\n",
       "      <td>https://avatars.githubusercontent.com/u/29840758?</td>\n",
       "      <td>...</td>\n",
       "      <td>NaN</td>\n",
       "      <td>NaN</td>\n",
       "      <td>234942066</td>\n",
       "      <td>Hamzacebi/ToDoList</td>\n",
       "      <td>https://api.github.com/repos/Hamzacebi/ToDoList</td>\n",
       "      <td>NaN</td>\n",
       "      <td>NaN</td>\n",
       "      <td>NaN</td>\n",
       "      <td>NaN</td>\n",
       "      <td>NaN</td>\n",
       "    </tr>\n",
       "    <tr>\n",
       "      <th>4</th>\n",
       "      <td>11317440372</td>\n",
       "      <td>PullRequestReviewCommentEvent</td>\n",
       "      <td>True</td>\n",
       "      <td>2020-01-20T17:27:21Z</td>\n",
       "      <td>17525238</td>\n",
       "      <td>idbolshakov</td>\n",
       "      <td>idbolshakov</td>\n",
       "      <td></td>\n",
       "      <td>https://api.github.com/users/idbolshakov</td>\n",
       "      <td>https://avatars.githubusercontent.com/u/17525238?</td>\n",
       "      <td>...</td>\n",
       "      <td>NaN</td>\n",
       "      <td>NaN</td>\n",
       "      <td>126395123</td>\n",
       "      <td>idbolshakov/apress-frontend_test_task</td>\n",
       "      <td>https://api.github.com/repos/idbolshakov/apres...</td>\n",
       "      <td>NaN</td>\n",
       "      <td>NaN</td>\n",
       "      <td>NaN</td>\n",
       "      <td>NaN</td>\n",
       "      <td>NaN</td>\n",
       "    </tr>\n",
       "  </tbody>\n",
       "</table>\n",
       "<p>5 rows × 34 columns</p>\n",
       "</div>"
      ],
      "text/plain": [
       "            id                           type  public            created_at  \\\n",
       "0  11317440400              IssueCommentEvent    True  2020-01-20T17:27:22Z   \n",
       "1  11317440381                      PushEvent    True  2020-01-20T17:27:22Z   \n",
       "2  11317440371                      PushEvent    True  2020-01-20T17:27:22Z   \n",
       "3  11317440368                      PushEvent    True  2020-01-20T17:27:22Z   \n",
       "4  11317440372  PullRequestReviewCommentEvent    True  2020-01-20T17:27:21Z   \n",
       "\n",
       "   actor_id  actor_login actor_display_login actor_gravatar_id  \\\n",
       "0  15955486  shijianjian         shijianjian                     \n",
       "1   6829750  mathemancer         mathemancer                     \n",
       "2  26477157   gaganmalvi          gaganmalvi                     \n",
       "3  29840758    Hamzacebi           Hamzacebi                     \n",
       "4  17525238  idbolshakov         idbolshakov                     \n",
       "\n",
       "                                  actor_url  \\\n",
       "0  https://api.github.com/users/shijianjian   \n",
       "1  https://api.github.com/users/mathemancer   \n",
       "2   https://api.github.com/users/gaganmalvi   \n",
       "3    https://api.github.com/users/Hamzacebi   \n",
       "4  https://api.github.com/users/idbolshakov   \n",
       "\n",
       "                                    actor_avatar_url  ... payload_description  \\\n",
       "0  https://avatars.githubusercontent.com/u/15955486?  ...                 NaN   \n",
       "1   https://avatars.githubusercontent.com/u/6829750?  ...                 NaN   \n",
       "2  https://avatars.githubusercontent.com/u/26477157?  ...                 NaN   \n",
       "3  https://avatars.githubusercontent.com/u/29840758?  ...                 NaN   \n",
       "4  https://avatars.githubusercontent.com/u/17525238?  ...                 NaN   \n",
       "\n",
       "  payload_pusher_type    repo_id                              repo_name  \\\n",
       "0                 NaN  145693916                          kornia/kornia   \n",
       "1                 NaN   97037973              creativecommons/cccatalog   \n",
       "2                 NaN  226352080              gaganmalvi/pythonprojects   \n",
       "3                 NaN  234942066                     Hamzacebi/ToDoList   \n",
       "4                 NaN  126395123  idbolshakov/apress-frontend_test_task   \n",
       "\n",
       "                                            repo_url    org_id  \\\n",
       "0         https://api.github.com/repos/kornia/kornia  56968752   \n",
       "1  https://api.github.com/repos/creativecommons/c...   3248958   \n",
       "2  https://api.github.com/repos/gaganmalvi/python...       NaN   \n",
       "3    https://api.github.com/repos/Hamzacebi/ToDoList       NaN   \n",
       "4  https://api.github.com/repos/idbolshakov/apres...       NaN   \n",
       "\n",
       "         org_login org_gravatar_id  \\\n",
       "0           kornia                   \n",
       "1  creativecommons                   \n",
       "2              NaN             NaN   \n",
       "3              NaN             NaN   \n",
       "4              NaN             NaN   \n",
       "\n",
       "                                       org_url  \\\n",
       "0           https://api.github.com/orgs/kornia   \n",
       "1  https://api.github.com/orgs/creativecommons   \n",
       "2                                          NaN   \n",
       "3                                          NaN   \n",
       "4                                          NaN   \n",
       "\n",
       "                                      org_avatar_url  \n",
       "0  https://avatars.githubusercontent.com/u/56968752?  \n",
       "1   https://avatars.githubusercontent.com/u/3248958?  \n",
       "2                                                NaN  \n",
       "3                                                NaN  \n",
       "4                                                NaN  \n",
       "\n",
       "[5 rows x 34 columns]"
      ]
     },
     "execution_count": 9,
     "metadata": {},
     "output_type": "execute_result"
    }
   ],
   "source": [
    "nested_cols=['actor', 'payload', 'repo', 'org']\n",
    "flat=flatten(data, nested_cols)\n",
    "flat.head()"
   ]
  },
  {
   "cell_type": "code",
   "execution_count": 10,
   "metadata": {},
   "outputs": [
    {
     "data": {
      "text/html": [
       "<div>\n",
       "<style scoped>\n",
       "    .dataframe tbody tr th:only-of-type {\n",
       "        vertical-align: middle;\n",
       "    }\n",
       "\n",
       "    .dataframe tbody tr th {\n",
       "        vertical-align: top;\n",
       "    }\n",
       "\n",
       "    .dataframe thead th {\n",
       "        text-align: right;\n",
       "    }\n",
       "</style>\n",
       "<table border=\"1\" class=\"dataframe\">\n",
       "  <thead>\n",
       "    <tr style=\"text-align: right;\">\n",
       "      <th></th>\n",
       "      <th>id</th>\n",
       "      <th>type</th>\n",
       "      <th>public</th>\n",
       "      <th>created_at</th>\n",
       "      <th>actor.id</th>\n",
       "      <th>actor.login</th>\n",
       "      <th>actor.display_login</th>\n",
       "      <th>actor.gravatar_id</th>\n",
       "      <th>actor.url</th>\n",
       "      <th>actor.avatar_url</th>\n",
       "      <th>...</th>\n",
       "      <th>payload.pull_request.base.repo.license.key</th>\n",
       "      <th>payload.pull_request.base.repo.license.name</th>\n",
       "      <th>payload.pull_request.base.repo.license.spdx_id</th>\n",
       "      <th>payload.pull_request.base.repo.license.url</th>\n",
       "      <th>payload.pull_request.base.repo.license.node_id</th>\n",
       "      <th>payload.ref_type</th>\n",
       "      <th>payload.master_branch</th>\n",
       "      <th>payload.description</th>\n",
       "      <th>payload.pusher_type</th>\n",
       "      <th>payload.comment.line</th>\n",
       "    </tr>\n",
       "  </thead>\n",
       "  <tbody>\n",
       "    <tr>\n",
       "      <th>0</th>\n",
       "      <td>11317440400</td>\n",
       "      <td>IssueCommentEvent</td>\n",
       "      <td>True</td>\n",
       "      <td>2020-01-20T17:27:22Z</td>\n",
       "      <td>15955486</td>\n",
       "      <td>shijianjian</td>\n",
       "      <td>shijianjian</td>\n",
       "      <td></td>\n",
       "      <td>https://api.github.com/users/shijianjian</td>\n",
       "      <td>https://avatars.githubusercontent.com/u/15955486?</td>\n",
       "      <td>...</td>\n",
       "      <td>NaN</td>\n",
       "      <td>NaN</td>\n",
       "      <td>NaN</td>\n",
       "      <td>NaN</td>\n",
       "      <td>NaN</td>\n",
       "      <td>NaN</td>\n",
       "      <td>NaN</td>\n",
       "      <td>NaN</td>\n",
       "      <td>NaN</td>\n",
       "      <td>NaN</td>\n",
       "    </tr>\n",
       "    <tr>\n",
       "      <th>1</th>\n",
       "      <td>11317440381</td>\n",
       "      <td>PushEvent</td>\n",
       "      <td>True</td>\n",
       "      <td>2020-01-20T17:27:22Z</td>\n",
       "      <td>6829750</td>\n",
       "      <td>mathemancer</td>\n",
       "      <td>mathemancer</td>\n",
       "      <td></td>\n",
       "      <td>https://api.github.com/users/mathemancer</td>\n",
       "      <td>https://avatars.githubusercontent.com/u/6829750?</td>\n",
       "      <td>...</td>\n",
       "      <td>NaN</td>\n",
       "      <td>NaN</td>\n",
       "      <td>NaN</td>\n",
       "      <td>NaN</td>\n",
       "      <td>NaN</td>\n",
       "      <td>NaN</td>\n",
       "      <td>NaN</td>\n",
       "      <td>NaN</td>\n",
       "      <td>NaN</td>\n",
       "      <td>NaN</td>\n",
       "    </tr>\n",
       "    <tr>\n",
       "      <th>2</th>\n",
       "      <td>11317440371</td>\n",
       "      <td>PushEvent</td>\n",
       "      <td>True</td>\n",
       "      <td>2020-01-20T17:27:22Z</td>\n",
       "      <td>26477157</td>\n",
       "      <td>gaganmalvi</td>\n",
       "      <td>gaganmalvi</td>\n",
       "      <td></td>\n",
       "      <td>https://api.github.com/users/gaganmalvi</td>\n",
       "      <td>https://avatars.githubusercontent.com/u/26477157?</td>\n",
       "      <td>...</td>\n",
       "      <td>NaN</td>\n",
       "      <td>NaN</td>\n",
       "      <td>NaN</td>\n",
       "      <td>NaN</td>\n",
       "      <td>NaN</td>\n",
       "      <td>NaN</td>\n",
       "      <td>NaN</td>\n",
       "      <td>NaN</td>\n",
       "      <td>NaN</td>\n",
       "      <td>NaN</td>\n",
       "    </tr>\n",
       "    <tr>\n",
       "      <th>3</th>\n",
       "      <td>11317440368</td>\n",
       "      <td>PushEvent</td>\n",
       "      <td>True</td>\n",
       "      <td>2020-01-20T17:27:22Z</td>\n",
       "      <td>29840758</td>\n",
       "      <td>Hamzacebi</td>\n",
       "      <td>Hamzacebi</td>\n",
       "      <td></td>\n",
       "      <td>https://api.github.com/users/Hamzacebi</td>\n",
       "      <td>https://avatars.githubusercontent.com/u/29840758?</td>\n",
       "      <td>...</td>\n",
       "      <td>NaN</td>\n",
       "      <td>NaN</td>\n",
       "      <td>NaN</td>\n",
       "      <td>NaN</td>\n",
       "      <td>NaN</td>\n",
       "      <td>NaN</td>\n",
       "      <td>NaN</td>\n",
       "      <td>NaN</td>\n",
       "      <td>NaN</td>\n",
       "      <td>NaN</td>\n",
       "    </tr>\n",
       "    <tr>\n",
       "      <th>4</th>\n",
       "      <td>11317440372</td>\n",
       "      <td>PullRequestReviewCommentEvent</td>\n",
       "      <td>True</td>\n",
       "      <td>2020-01-20T17:27:21Z</td>\n",
       "      <td>17525238</td>\n",
       "      <td>idbolshakov</td>\n",
       "      <td>idbolshakov</td>\n",
       "      <td></td>\n",
       "      <td>https://api.github.com/users/idbolshakov</td>\n",
       "      <td>https://avatars.githubusercontent.com/u/17525238?</td>\n",
       "      <td>...</td>\n",
       "      <td>NaN</td>\n",
       "      <td>NaN</td>\n",
       "      <td>NaN</td>\n",
       "      <td>NaN</td>\n",
       "      <td>NaN</td>\n",
       "      <td>NaN</td>\n",
       "      <td>NaN</td>\n",
       "      <td>NaN</td>\n",
       "      <td>NaN</td>\n",
       "      <td>NaN</td>\n",
       "    </tr>\n",
       "  </tbody>\n",
       "</table>\n",
       "<p>5 rows × 496 columns</p>\n",
       "</div>"
      ],
      "text/plain": [
       "            id                           type  public            created_at  \\\n",
       "0  11317440400              IssueCommentEvent    True  2020-01-20T17:27:22Z   \n",
       "1  11317440381                      PushEvent    True  2020-01-20T17:27:22Z   \n",
       "2  11317440371                      PushEvent    True  2020-01-20T17:27:22Z   \n",
       "3  11317440368                      PushEvent    True  2020-01-20T17:27:22Z   \n",
       "4  11317440372  PullRequestReviewCommentEvent    True  2020-01-20T17:27:21Z   \n",
       "\n",
       "   actor.id  actor.login actor.display_login actor.gravatar_id  \\\n",
       "0  15955486  shijianjian         shijianjian                     \n",
       "1   6829750  mathemancer         mathemancer                     \n",
       "2  26477157   gaganmalvi          gaganmalvi                     \n",
       "3  29840758    Hamzacebi           Hamzacebi                     \n",
       "4  17525238  idbolshakov         idbolshakov                     \n",
       "\n",
       "                                  actor.url  \\\n",
       "0  https://api.github.com/users/shijianjian   \n",
       "1  https://api.github.com/users/mathemancer   \n",
       "2   https://api.github.com/users/gaganmalvi   \n",
       "3    https://api.github.com/users/Hamzacebi   \n",
       "4  https://api.github.com/users/idbolshakov   \n",
       "\n",
       "                                    actor.avatar_url  ...  \\\n",
       "0  https://avatars.githubusercontent.com/u/15955486?  ...   \n",
       "1   https://avatars.githubusercontent.com/u/6829750?  ...   \n",
       "2  https://avatars.githubusercontent.com/u/26477157?  ...   \n",
       "3  https://avatars.githubusercontent.com/u/29840758?  ...   \n",
       "4  https://avatars.githubusercontent.com/u/17525238?  ...   \n",
       "\n",
       "   payload.pull_request.base.repo.license.key  \\\n",
       "0                                         NaN   \n",
       "1                                         NaN   \n",
       "2                                         NaN   \n",
       "3                                         NaN   \n",
       "4                                         NaN   \n",
       "\n",
       "  payload.pull_request.base.repo.license.name  \\\n",
       "0                                         NaN   \n",
       "1                                         NaN   \n",
       "2                                         NaN   \n",
       "3                                         NaN   \n",
       "4                                         NaN   \n",
       "\n",
       "  payload.pull_request.base.repo.license.spdx_id  \\\n",
       "0                                            NaN   \n",
       "1                                            NaN   \n",
       "2                                            NaN   \n",
       "3                                            NaN   \n",
       "4                                            NaN   \n",
       "\n",
       "  payload.pull_request.base.repo.license.url  \\\n",
       "0                                        NaN   \n",
       "1                                        NaN   \n",
       "2                                        NaN   \n",
       "3                                        NaN   \n",
       "4                                        NaN   \n",
       "\n",
       "  payload.pull_request.base.repo.license.node_id payload.ref_type  \\\n",
       "0                                            NaN              NaN   \n",
       "1                                            NaN              NaN   \n",
       "2                                            NaN              NaN   \n",
       "3                                            NaN              NaN   \n",
       "4                                            NaN              NaN   \n",
       "\n",
       "  payload.master_branch payload.description payload.pusher_type  \\\n",
       "0                   NaN                 NaN                 NaN   \n",
       "1                   NaN                 NaN                 NaN   \n",
       "2                   NaN                 NaN                 NaN   \n",
       "3                   NaN                 NaN                 NaN   \n",
       "4                   NaN                 NaN                 NaN   \n",
       "\n",
       "  payload.comment.line  \n",
       "0                  NaN  \n",
       "1                  NaN  \n",
       "2                  NaN  \n",
       "3                  NaN  \n",
       "4                  NaN  \n",
       "\n",
       "[5 rows x 496 columns]"
      ]
     },
     "execution_count": 10,
     "metadata": {},
     "output_type": "execute_result"
    }
   ],
   "source": [
    "from pandas.io.json import json_normalize\n",
    "results=resp.json()\n",
    "flat_data=json_normalize(results)\n",
    "flat_data.head()"
   ]
  },
  {
   "cell_type": "code",
   "execution_count": 11,
   "metadata": {},
   "outputs": [
    {
     "data": {
      "text/plain": [
       "(30, 34)"
      ]
     },
     "execution_count": 11,
     "metadata": {},
     "output_type": "execute_result"
    }
   ],
   "source": [
    "flat.shape"
   ]
  },
  {
   "cell_type": "code",
   "execution_count": 12,
   "metadata": {},
   "outputs": [
    {
     "data": {
      "text/plain": [
       "(30, 496)"
      ]
     },
     "execution_count": 12,
     "metadata": {},
     "output_type": "execute_result"
    }
   ],
   "source": [
    "flat_data.shape"
   ]
  },
  {
   "cell_type": "code",
   "execution_count": null,
   "metadata": {},
   "outputs": [],
   "source": [
    "# twitter\n",
    "# https://developer.twitter.com/en/apply-for-access.html\n",
    "\n",
    "import tweepy\n",
    "\n",
    "API_KEY='apikey'\n",
    "API_SECRET='apisecret'\n",
    "ACCESS_TOKEN='tutoken'\n",
    "TOKEN_SECRET='tutokensecret'\n",
    "\n",
    "\n",
    "auth=tweepy.OAuthHandler(API_KEY, API_SECRET)\n",
    "auth.set_access_token(ACCESS_TOKEN, TOKEN_SECRET)\n",
    "\n",
    "api=tweepy.API(auth)\n",
    "\n",
    "def get_followers(user, count=100):\n",
    "    results=api.followers(user, count=count)\n",
    "    followers=[pd.Series(foll._json) for foll in results]\n",
    "    df=pd.DataFrame(followers)\n",
    "    return df\n",
    "\n",
    "\n",
    "ironhack=get_followers('ironhack')\n",
    "ironhack.head()"
   ]
  },
  {
   "cell_type": "code",
   "execution_count": 13,
   "metadata": {},
   "outputs": [
    {
     "data": {
      "text/plain": [
       "200"
      ]
     },
     "execution_count": 13,
     "metadata": {},
     "output_type": "execute_result"
    }
   ],
   "source": [
    "# PokeAPI\n",
    "\n",
    "res=requests.get('https://pokeapi.co/api/v2/pokemon/25')\n",
    "res.status_code"
   ]
  },
  {
   "cell_type": "code",
   "execution_count": 15,
   "metadata": {},
   "outputs": [
    {
     "data": {
      "text/plain": [
       "'{\"abilities\":[{\"ability\":{\"name\":\"lightning-rod\",\"url\":\"https://pokeapi.co/api/v2/ability/31/\"},\"is_'"
      ]
     },
     "execution_count": 15,
     "metadata": {},
     "output_type": "execute_result"
    }
   ],
   "source": [
    "res.text[:100]"
   ]
  },
  {
   "cell_type": "code",
   "execution_count": 17,
   "metadata": {},
   "outputs": [
    {
     "data": {
      "text/plain": [
       "[{'ability': {'name': 'lightning-rod',\n",
       "   'url': 'https://pokeapi.co/api/v2/ability/31/'},\n",
       "  'is_hidden': True,\n",
       "  'slot': 3},\n",
       " {'ability': {'name': 'static', 'url': 'https://pokeapi.co/api/v2/ability/9/'},\n",
       "  'is_hidden': False,\n",
       "  'slot': 1}]"
      ]
     },
     "execution_count": 17,
     "metadata": {},
     "output_type": "execute_result"
    }
   ],
   "source": [
    "res.json()['abilities']"
   ]
  },
  {
   "cell_type": "code",
   "execution_count": 18,
   "metadata": {},
   "outputs": [
    {
     "name": "stdout",
     "output_type": "stream",
     "text": [
      "pikachu https://raw.githubusercontent.com/PokeAPI/sprites/master/sprites/pokemon/25.png\n"
     ]
    }
   ],
   "source": [
    "data=res.json()\n",
    "print (data['name'], data['sprites']['front_default'])"
   ]
  },
  {
   "cell_type": "code",
   "execution_count": 19,
   "metadata": {},
   "outputs": [],
   "source": [
    "def get_pokemon(n):\n",
    "    res=requests.get('https://pokeapi.co/api/v2/pokemon/{}'.format(n))\n",
    "    data=res.json()\n",
    "    return {'name':data['name'], 'image':data['sprites']['front_default']}"
   ]
  },
  {
   "cell_type": "code",
   "execution_count": 20,
   "metadata": {},
   "outputs": [
    {
     "name": "stdout",
     "output_type": "stream",
     "text": [
      "{'name': 'bulbasaur', 'image': 'https://raw.githubusercontent.com/PokeAPI/sprites/master/sprites/pokemon/1.png'}\n",
      "{'name': 'ivysaur', 'image': 'https://raw.githubusercontent.com/PokeAPI/sprites/master/sprites/pokemon/2.png'}\n",
      "{'name': 'venusaur', 'image': 'https://raw.githubusercontent.com/PokeAPI/sprites/master/sprites/pokemon/3.png'}\n",
      "{'name': 'charmander', 'image': 'https://raw.githubusercontent.com/PokeAPI/sprites/master/sprites/pokemon/4.png'}\n",
      "{'name': 'charmeleon', 'image': 'https://raw.githubusercontent.com/PokeAPI/sprites/master/sprites/pokemon/5.png'}\n",
      "{'name': 'charizard', 'image': 'https://raw.githubusercontent.com/PokeAPI/sprites/master/sprites/pokemon/6.png'}\n",
      "{'name': 'squirtle', 'image': 'https://raw.githubusercontent.com/PokeAPI/sprites/master/sprites/pokemon/7.png'}\n",
      "{'name': 'wartortle', 'image': 'https://raw.githubusercontent.com/PokeAPI/sprites/master/sprites/pokemon/8.png'}\n",
      "{'name': 'blastoise', 'image': 'https://raw.githubusercontent.com/PokeAPI/sprites/master/sprites/pokemon/9.png'}\n"
     ]
    }
   ],
   "source": [
    "for i in range(9):\n",
    "    print (get_pokemon(i+1))"
   ]
  },
  {
   "cell_type": "code",
   "execution_count": 21,
   "metadata": {},
   "outputs": [],
   "source": [
    "from IPython.display import Image, display_html\n",
    "from IPython.core.display import HTML"
   ]
  },
  {
   "cell_type": "code",
   "execution_count": 22,
   "metadata": {},
   "outputs": [
    {
     "data": {
      "text/html": [
       "<img src=\"https://raw.githubusercontent.com/PokeAPI/sprites/master/sprites/pokemon/1.png\"/>"
      ],
      "text/plain": [
       "<IPython.core.display.Image object>"
      ]
     },
     "metadata": {},
     "output_type": "display_data"
    },
    {
     "data": {
      "text/html": [
       "<img src=\"https://raw.githubusercontent.com/PokeAPI/sprites/master/sprites/pokemon/2.png\"/>"
      ],
      "text/plain": [
       "<IPython.core.display.Image object>"
      ]
     },
     "metadata": {},
     "output_type": "display_data"
    },
    {
     "data": {
      "text/html": [
       "<img src=\"https://raw.githubusercontent.com/PokeAPI/sprites/master/sprites/pokemon/3.png\"/>"
      ],
      "text/plain": [
       "<IPython.core.display.Image object>"
      ]
     },
     "metadata": {},
     "output_type": "display_data"
    },
    {
     "data": {
      "text/html": [
       "<img src=\"https://raw.githubusercontent.com/PokeAPI/sprites/master/sprites/pokemon/4.png\"/>"
      ],
      "text/plain": [
       "<IPython.core.display.Image object>"
      ]
     },
     "metadata": {},
     "output_type": "display_data"
    },
    {
     "data": {
      "text/html": [
       "<img src=\"https://raw.githubusercontent.com/PokeAPI/sprites/master/sprites/pokemon/5.png\"/>"
      ],
      "text/plain": [
       "<IPython.core.display.Image object>"
      ]
     },
     "metadata": {},
     "output_type": "display_data"
    },
    {
     "data": {
      "text/html": [
       "<img src=\"https://raw.githubusercontent.com/PokeAPI/sprites/master/sprites/pokemon/6.png\"/>"
      ],
      "text/plain": [
       "<IPython.core.display.Image object>"
      ]
     },
     "metadata": {},
     "output_type": "display_data"
    },
    {
     "data": {
      "text/html": [
       "<img src=\"https://raw.githubusercontent.com/PokeAPI/sprites/master/sprites/pokemon/7.png\"/>"
      ],
      "text/plain": [
       "<IPython.core.display.Image object>"
      ]
     },
     "metadata": {},
     "output_type": "display_data"
    },
    {
     "data": {
      "text/html": [
       "<img src=\"https://raw.githubusercontent.com/PokeAPI/sprites/master/sprites/pokemon/8.png\"/>"
      ],
      "text/plain": [
       "<IPython.core.display.Image object>"
      ]
     },
     "metadata": {},
     "output_type": "display_data"
    },
    {
     "data": {
      "text/html": [
       "<img src=\"https://raw.githubusercontent.com/PokeAPI/sprites/master/sprites/pokemon/9.png\"/>"
      ],
      "text/plain": [
       "<IPython.core.display.Image object>"
      ]
     },
     "metadata": {},
     "output_type": "display_data"
    }
   ],
   "source": [
    "for i in range(9):\n",
    "    poke=get_pokemon(i+1)\n",
    "    display(Image(url=poke['image']))"
   ]
  },
  {
   "cell_type": "code",
   "execution_count": 23,
   "metadata": {},
   "outputs": [
    {
     "data": {
      "text/html": [
       "<img src=\"https://raw.githubusercontent.com/PokeAPI/sprites/master/sprites/pokemon/1.png\" style=\"display:inline-block\"><img src=\"https://raw.githubusercontent.com/PokeAPI/sprites/master/sprites/pokemon/2.png\" style=\"display:inline-block\"><img src=\"https://raw.githubusercontent.com/PokeAPI/sprites/master/sprites/pokemon/3.png\" style=\"display:inline-block\"><img src=\"https://raw.githubusercontent.com/PokeAPI/sprites/master/sprites/pokemon/4.png\" style=\"display:inline-block\"><img src=\"https://raw.githubusercontent.com/PokeAPI/sprites/master/sprites/pokemon/5.png\" style=\"display:inline-block\"><img src=\"https://raw.githubusercontent.com/PokeAPI/sprites/master/sprites/pokemon/6.png\" style=\"display:inline-block\"><img src=\"https://raw.githubusercontent.com/PokeAPI/sprites/master/sprites/pokemon/7.png\" style=\"display:inline-block\"><img src=\"https://raw.githubusercontent.com/PokeAPI/sprites/master/sprites/pokemon/8.png\" style=\"display:inline-block\"><img src=\"https://raw.githubusercontent.com/PokeAPI/sprites/master/sprites/pokemon/9.png\" style=\"display:inline-block\">"
      ],
      "text/plain": [
       "<IPython.core.display.HTML object>"
      ]
     },
     "metadata": {},
     "output_type": "display_data"
    }
   ],
   "source": [
    "display(HTML(''.join(map(lambda x: '<img src=\"{}\" style=\"display:inline-block\">'.format(x['image']),\n",
    "                         map(get_pokemon, range(1,10))))))"
   ]
  },
  {
   "cell_type": "code",
   "execution_count": 24,
   "metadata": {},
   "outputs": [
    {
     "data": {
      "text/plain": [
       "{'count': 964,\n",
       " 'next': 'https://pokeapi.co/api/v2/pokemon?offset=4&limit=3',\n",
       " 'previous': 'https://pokeapi.co/api/v2/pokemon?offset=0&limit=1',\n",
       " 'results': [{'name': 'ivysaur',\n",
       "   'url': 'https://pokeapi.co/api/v2/pokemon/2/'},\n",
       "  {'name': 'venusaur', 'url': 'https://pokeapi.co/api/v2/pokemon/3/'},\n",
       "  {'name': 'charmander', 'url': 'https://pokeapi.co/api/v2/pokemon/4/'}]}"
      ]
     },
     "execution_count": 24,
     "metadata": {},
     "output_type": "execute_result"
    }
   ],
   "source": [
    "res=requests.get('https://pokeapi.co/api/v2/pokemon?limit=3&offset=1')\n",
    "res.json()"
   ]
  },
  {
   "cell_type": "code",
   "execution_count": 25,
   "metadata": {},
   "outputs": [
    {
     "data": {
      "text/plain": [
       "{'count': 964,\n",
       " 'next': 'https://pokeapi.co/api/v2/pokemon?offset=4&limit=3',\n",
       " 'previous': 'https://pokeapi.co/api/v2/pokemon?offset=0&limit=1',\n",
       " 'results': [{'name': 'ivysaur',\n",
       "   'url': 'https://pokeapi.co/api/v2/pokemon/2/'},\n",
       "  {'name': 'venusaur', 'url': 'https://pokeapi.co/api/v2/pokemon/3/'},\n",
       "  {'name': 'charmander', 'url': 'https://pokeapi.co/api/v2/pokemon/4/'}]}"
      ]
     },
     "execution_count": 25,
     "metadata": {},
     "output_type": "execute_result"
    }
   ],
   "source": [
    "query={'limit':3, 'offset':1}\n",
    "res=requests.get('https://pokeapi.co/api/v2/pokemon', params=query)\n",
    "res.json()"
   ]
  },
  {
   "cell_type": "code",
   "execution_count": 26,
   "metadata": {},
   "outputs": [
    {
     "data": {
      "text/plain": [
       "'https://pokeapi.co/api/v2/pokemon?limit=3&offset=1'"
      ]
     },
     "execution_count": 26,
     "metadata": {},
     "output_type": "execute_result"
    }
   ],
   "source": [
    "res.url"
   ]
  },
  {
   "cell_type": "code",
   "execution_count": 27,
   "metadata": {},
   "outputs": [],
   "source": [
    "# sending mails\n",
    "\n",
    "import smtplib\n",
    "import getpass"
   ]
  },
  {
   "cell_type": "code",
   "execution_count": 28,
   "metadata": {},
   "outputs": [
    {
     "name": "stdout",
     "output_type": "stream",
     "text": [
      "Enter your gmail account: yehonaga@gmail.com\n",
      "Enter your gmail pass: ········\n"
     ]
    }
   ],
   "source": [
    "gmail_user=input('Enter your gmail account: ')\n",
    "gmail_pass=getpass.getpass('Enter your gmail pass: ')"
   ]
  },
  {
   "cell_type": "code",
   "execution_count": 35,
   "metadata": {},
   "outputs": [
    {
     "name": "stdout",
     "output_type": "stream",
     "text": [
      "Conectado¡\n"
     ]
    }
   ],
   "source": [
    "try:\n",
    "    server=smtplib.SMTP_SSL('smtp.gmail.com', 465)\n",
    "    server.ehlo()\n",
    "    server.login(gmail_user, gmail_pass)\n",
    "    print ('Conectado¡')\n",
    "except:\n",
    "    print ('Algo va mal...verifica el gmail')"
   ]
  },
  {
   "cell_type": "code",
   "execution_count": 36,
   "metadata": {},
   "outputs": [
    {
     "name": "stdout",
     "output_type": "stream",
     "text": [
      "A quien se lo envias?yonatan.rod.alv@gmail.com\n"
     ]
    }
   ],
   "source": [
    "from_mail=gmail_user\n",
    "to=input('A quien se lo envias?')\n",
    "body='<h1>Hola que tal? {}</h1>'.format(3)\n",
    "\n",
    "server.sendmail(from_mail, to, body)\n",
    "server.close()"
   ]
  },
  {
   "cell_type": "code",
   "execution_count": null,
   "metadata": {},
   "outputs": [],
   "source": []
  }
 ],
 "metadata": {
  "kernelspec": {
   "display_name": "Python 3",
   "language": "python",
   "name": "python3"
  },
  "language_info": {
   "codemirror_mode": {
    "name": "ipython",
    "version": 3
   },
   "file_extension": ".py",
   "mimetype": "text/x-python",
   "name": "python",
   "nbconvert_exporter": "python",
   "pygments_lexer": "ipython3",
   "version": "3.7.6"
  }
 },
 "nbformat": 4,
 "nbformat_minor": 2
}

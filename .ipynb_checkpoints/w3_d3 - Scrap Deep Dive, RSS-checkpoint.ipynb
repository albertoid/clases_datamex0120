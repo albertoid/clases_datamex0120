{
 "cells": [
  {
   "cell_type": "code",
   "execution_count": 1,
   "metadata": {},
   "outputs": [],
   "source": [
    "import requests"
   ]
  },
  {
   "cell_type": "code",
   "execution_count": 2,
   "metadata": {},
   "outputs": [],
   "source": [
    "url='https://www.google.es'"
   ]
  },
  {
   "cell_type": "code",
   "execution_count": 3,
   "metadata": {},
   "outputs": [
    {
     "data": {
      "text/plain": [
       "200"
      ]
     },
     "execution_count": 3,
     "metadata": {},
     "output_type": "execute_result"
    }
   ],
   "source": [
    "r1=requests.get(url)\n",
    "r1.status_code"
   ]
  },
  {
   "cell_type": "code",
   "execution_count": 4,
   "metadata": {},
   "outputs": [
    {
     "data": {
      "text/plain": [
       "404"
      ]
     },
     "execution_count": 4,
     "metadata": {},
     "output_type": "execute_result"
    }
   ],
   "source": [
    "r2=requests.get(url+'/forbidden')\n",
    "r2.status_code"
   ]
  },
  {
   "cell_type": "code",
   "execution_count": 5,
   "metadata": {},
   "outputs": [
    {
     "data": {
      "text/plain": [
       "[]"
      ]
     },
     "execution_count": 5,
     "metadata": {},
     "output_type": "execute_result"
    }
   ],
   "source": [
    "r3=requests.get('https://www.google.com')\n",
    "r3.history"
   ]
  },
  {
   "cell_type": "code",
   "execution_count": 6,
   "metadata": {},
   "outputs": [
    {
     "ename": "IndexError",
     "evalue": "list index out of range",
     "output_type": "error",
     "traceback": [
      "\u001b[0;31m---------------------------------------------------------------------------\u001b[0m",
      "\u001b[0;31mIndexError\u001b[0m                                Traceback (most recent call last)",
      "\u001b[0;32m<ipython-input-6-0c9dc9360caf>\u001b[0m in \u001b[0;36m<module>\u001b[0;34m\u001b[0m\n\u001b[0;32m----> 1\u001b[0;31m \u001b[0mr3\u001b[0m\u001b[0;34m.\u001b[0m\u001b[0mhistory\u001b[0m\u001b[0;34m[\u001b[0m\u001b[0;36m0\u001b[0m\u001b[0;34m]\u001b[0m\u001b[0;34m\u001b[0m\u001b[0;34m\u001b[0m\u001b[0m\n\u001b[0m",
      "\u001b[0;31mIndexError\u001b[0m: list index out of range"
     ]
    }
   ],
   "source": [
    "r3.history[0]"
   ]
  },
  {
   "cell_type": "code",
   "execution_count": null,
   "metadata": {},
   "outputs": [],
   "source": [
    "# Asyncio\n",
    "\n",
    "import asyncio"
   ]
  },
  {
   "cell_type": "code",
   "execution_count": null,
   "metadata": {},
   "outputs": [],
   "source": [
    "url='https://s3-eu-west-1.amazonaws.com/'\n",
    "requests.get(url)"
   ]
  },
  {
   "cell_type": "code",
   "execution_count": null,
   "metadata": {},
   "outputs": [],
   "source": [
    "urls = [\n",
    "    'https://s3-eu-west-1.amazonaws.com/ih-materials/uploads/data-static/documents/breakfast.jpg',\n",
    "    'https://s3-eu-west-1.amazonaws.com/ih-materials/uploads/data-static/documents/forbidden',\n",
    "    'https://s3-eu-west-1.amazonaws.com/ih-materials/uploads/data-static/documents/the-html5-breakfast-site.html'\n",
    "]"
   ]
  },
  {
   "cell_type": "code",
   "execution_count": null,
   "metadata": {},
   "outputs": [],
   "source": [
    "async def main():\n",
    "    loop=asyncio.get_event_loop()\n",
    "    \n",
    "    futures=[loop.run_in_executor(None, requests.get, url) for url in urls]\n",
    "    \n",
    "    for res in await asyncio.gather(*futures):\n",
    "        print (res.status_code)\n",
    "        \n",
    "loop=asyncio.get_event_loop()\n",
    "loop.run_until_complete(main())"
   ]
  },
  {
   "cell_type": "code",
   "execution_count": null,
   "metadata": {},
   "outputs": [],
   "source": [
    "from bs4 import BeautifulSoup as bs\n",
    "from selenium import webdriver"
   ]
  },
  {
   "cell_type": "code",
   "execution_count": null,
   "metadata": {},
   "outputs": [],
   "source": [
    "def get_page(url):\n",
    "    driver=webdriver.Firefox()\n",
    "    driver.get(url)\n",
    "    html=driver.page_source\n",
    "    \n",
    "    try:\n",
    "        soup=bs(html, 'html.parser')\n",
    "        \n",
    "    except:\n",
    "        print ('Error en la sopa..')\n",
    "        \n",
    "    driver.quit()\n",
    "    return soup"
   ]
  },
  {
   "cell_type": "code",
   "execution_count": null,
   "metadata": {},
   "outputs": [],
   "source": [
    "soup=get_page('https://www.ironhack.com/es')\n",
    "#soup"
   ]
  },
  {
   "cell_type": "code",
   "execution_count": null,
   "metadata": {},
   "outputs": [],
   "source": [
    "# con clase\n",
    "\n",
    "class PageGetter():\n",
    "    driver=False\n",
    "    def __init__(self, browser='firefox'):\n",
    "        if browser=='firefox':\n",
    "            self.driver=webdriver.Firefox()\n",
    "        elif browser=='chrome':\n",
    "            self.driver=webdriver.Chrome()\n",
    "        else:\n",
    "            raise Exception ('Browser Not Valid.')\n",
    "            \n",
    "            \n",
    "    def get_page(self, url):\n",
    "        if not self.driver:\n",
    "            raise Exception ('Select a browser...')\n",
    "\n",
    "        self.driver.get(url)\n",
    "        html=self.driver.page_source\n",
    "        soup=bs(html, 'html.parser')\n",
    "        return soup\n",
    "    \n",
    "    def close(self):\n",
    "        self.driver.quit()"
   ]
  },
  {
   "cell_type": "code",
   "execution_count": null,
   "metadata": {},
   "outputs": [],
   "source": [
    "pg=PageGetter('firefox')\n",
    "soup=pg.get_page('https://www.ironhack.com/es')\n",
    "pg.close()\n",
    "#soup"
   ]
  },
  {
   "cell_type": "code",
   "execution_count": null,
   "metadata": {},
   "outputs": [],
   "source": [
    "soup.select('article')"
   ]
  },
  {
   "cell_type": "code",
   "execution_count": null,
   "metadata": {},
   "outputs": [],
   "source": [
    "from pyvirtualdisplay import Display\n",
    "import time"
   ]
  },
  {
   "cell_type": "code",
   "execution_count": null,
   "metadata": {},
   "outputs": [],
   "source": [
    "display=Display(visible=0)\n",
    "display.start()"
   ]
  },
  {
   "cell_type": "code",
   "execution_count": null,
   "metadata": {},
   "outputs": [],
   "source": [
    "url='https://threatbutt.com/map/'"
   ]
  },
  {
   "cell_type": "code",
   "execution_count": null,
   "metadata": {},
   "outputs": [],
   "source": [
    "driver=webdriver.Firefox()\n",
    "\n",
    "while 1:\n",
    "    driver.get(url)\n",
    "    time.sleep(3)\n",
    "    count=0\n",
    "    while count<300:\n",
    "        elemento=driver.find_element_by_id('attackdiv')\n",
    "        t=elemento.text.split('\\n')[-1]\n",
    "        \n",
    "        predator=(t.split('('))[0]\n",
    "        ip_pred=(t.split('('))[1].split(')')[0]\n",
    "        \n",
    "        prey=(t.split('('))[1].split(')')[1][-4:]\n",
    "        ip_prey=(t.split('('))[2].split(')')[0]\n",
    "        \n",
    "        print ({'timestamp':time.time(), 'predator':predator, 'ip_pred':ip_pred,\n",
    "                'prey':prey, 'ip_prey':ip_prey})\n",
    "        count+=1"
   ]
  },
  {
   "cell_type": "code",
   "execution_count": null,
   "metadata": {},
   "outputs": [],
   "source": [
    "import pymongo\n",
    "import re"
   ]
  },
  {
   "cell_type": "code",
   "execution_count": null,
   "metadata": {},
   "outputs": [],
   "source": [
    "client=pymongo.MongoClient()\n",
    "db=client.geo_attack\n",
    "geo=list(db.geo2.find())\n",
    "\n",
    "list_ip=[e['ip_pred'] for e in geo]"
   ]
  },
  {
   "cell_type": "code",
   "execution_count": null,
   "metadata": {},
   "outputs": [],
   "source": [
    "for i in range(0, len(list_ip), 50):\n",
    "    \n",
    "    try:\n",
    "        res=requests.get('https://tools.keycdn.com/geo?host={}'.format(list_ip[i])).content\n",
    "        soup=bs(res, features='lxml')\n",
    "        elem=soup.find_all('dd', {'class':'col-8 text-monospace'})\n",
    "        \n",
    "        for f in elem:\n",
    "            F=str(f)\n",
    "            \n",
    "            if 'lat' in F:\n",
    "                lat=re.findall('-?\\d+.\\d+', F.split('/')[0])[0]\n",
    "                lng=re.findall('-?\\d+.\\d+', F.split('/')[1])[0]\n",
    "                print ()\n",
    "                print ('IP: {}'.format(list_ip[i]))\n",
    "                print ({'latitude':lat, 'longitude':lng})\n",
    "    except:\n",
    "        continue"
   ]
  },
  {
   "cell_type": "code",
   "execution_count": null,
   "metadata": {},
   "outputs": [],
   "source": [
    "# RSS\n",
    "\n",
    "\n",
    "import requests as req\n",
    "import xmltodict\n",
    "import re\n",
    "import pymongo \n",
    "import time\n",
    "\n",
    "\n",
    "\n",
    "    \n",
    "    \n",
    "client=pymongo.MongoClient()\n",
    "db=client.earthquake\n",
    "\n",
    "\n",
    "\n",
    "\n",
    "\n",
    "def getxml():\n",
    "    url = 'http://www.ssn.unam.mx/rss/ultimos-sismos.xml'\n",
    "    data=req.get(url).content\n",
    "    return xmltodict.parse(data)\n",
    "\n",
    "\n",
    "\n",
    "\n",
    "    \n",
    "def earth():\n",
    "\n",
    "    d=getxml()\n",
    "\n",
    "    for i in range(len(d['rss']['channel']['item'])):\n",
    "\n",
    "        data_get=d['rss']['channel']['item'][i]['description'].split('>')[1:4]\n",
    "\n",
    "        fecha=re.findall('\\d+-\\d+-\\d+', data_get[0])[0]\n",
    "        hora=re.findall('\\d+:\\d+:\\d+', data_get[0])[0]\n",
    "        lat=re.findall('-?\\d+.\\d+', data_get[1])[0]\n",
    "        lon=re.findall('-?\\d+.\\d+', data_get[1])[1]\n",
    "        prof=re.findall('\\d+.\\d+ \\w+', data_get[2])[0]\n",
    "\n",
    "        inten=float(d['rss']['channel']['item'][i]['title'].split(',')[0])\n",
    "\n",
    "        data={'Fecha':fecha, 'Hora':hora,\n",
    "              'Latitud':float(lat), 'Longitud':float(lon),\n",
    "              'Profundidad':prof, 'Intensidad':inten}\n",
    "        print (data)\n",
    "        db.ssnUnam.update(data, data, upsert=True)\n",
    "\n",
    "\n",
    "\n",
    "\n",
    "\n",
    "while 1:\n",
    "    earth()\n",
    "    print ('paso1')\n",
    "    print ()\n",
    "    time.sleep(10)\n",
    "    print ('paso2')\n",
    "    print ()\n"
   ]
  },
  {
   "cell_type": "code",
   "execution_count": null,
   "metadata": {},
   "outputs": [],
   "source": []
  }
 ],
 "metadata": {
  "kernelspec": {
   "display_name": "Python 3",
   "language": "python",
   "name": "python3"
  },
  "language_info": {
   "codemirror_mode": {
    "name": "ipython",
    "version": 3
   },
   "file_extension": ".py",
   "mimetype": "text/x-python",
   "name": "python",
   "nbconvert_exporter": "python",
   "pygments_lexer": "ipython3",
   "version": "3.7.6"
  }
 },
 "nbformat": 4,
 "nbformat_minor": 2
}
